{
 "cells": [
  {
   "cell_type": "markdown",
   "metadata": {},
   "source": [
    "# Creating a Sentiment Analysis Web App\n",
    "## Using PyTorch and SageMaker\n",
    "\n",
    "_Deep Learning Nanodegree Program | Deployment_\n",
    "\n",
    "---\n",
    "\n",
    "Now that we have a basic understanding of how SageMaker works we will try to use it to construct a complete project from end to end. Our goal will be to have a simple web page which a user can use to enter a movie review. The web page will then send the review off to our deployed model which will predict the sentiment of the entered review.\n",
    "\n",
    "## Instructions\n",
    "\n",
    "Some template code has already been provided for you, and you will need to implement additional functionality to successfully complete this notebook. You will not need to modify the included code beyond what is requested. Sections that begin with '**TODO**' in the header indicate that you need to complete or implement some portion within them. Instructions will be provided for each section and the specifics of the implementation are marked in the code block with a `# TODO: ...` comment. Please be sure to read the instructions carefully!\n",
    "\n",
    "In addition to implementing code, there will be questions for you to answer which relate to the task and your implementation. Each section where you will answer a question is preceded by a '**Question:**' header. Carefully read each question and provide your answer below the '**Answer:**' header by editing the Markdown cell.\n",
    "\n",
    "> **Note**: Code and Markdown cells can be executed using the **Shift+Enter** keyboard shortcut. In addition, a cell can be edited by typically clicking it (double-click for Markdown cells) or by pressing **Enter** while it is highlighted.\n",
    "\n",
    "## General Outline\n",
    "\n",
    "Recall the general outline for SageMaker projects using a notebook instance.\n",
    "\n",
    "1. Download or otherwise retrieve the data.\n",
    "2. Process / Prepare the data.\n",
    "3. Upload the processed data to S3.\n",
    "4. Train a chosen model.\n",
    "5. Test the trained model (typically using a batch transform job).\n",
    "6. Deploy the trained model.\n",
    "7. Use the deployed model.\n",
    "\n",
    "For this project, you will be following the steps in the general outline with some modifications. \n",
    "\n",
    "First, you will not be testing the model in its own step. You will still be testing the model, however, you will do it by deploying your model and then using the deployed model by sending the test data to it. One of the reasons for doing this is so that you can make sure that your deployed model is working correctly before moving forward.\n",
    "\n",
    "In addition, you will deploy and use your trained model a second time. In the second iteration you will customize the way that your trained model is deployed by including some of your own code. In addition, your newly deployed model will be used in the sentiment analysis web app."
   ]
  },
  {
   "cell_type": "code",
   "execution_count": 1,
   "metadata": {
    "scrolled": true
   },
   "outputs": [
    {
     "name": "stdout",
     "output_type": "stream",
     "text": [
      "Requirement already satisfied: sagemaker==1.72.0 in /home/ec2-user/anaconda3/envs/pytorch_p36/lib/python3.6/site-packages (1.72.0)\n",
      "Requirement already satisfied: smdebug-rulesconfig==0.1.4 in /home/ec2-user/anaconda3/envs/pytorch_p36/lib/python3.6/site-packages (from sagemaker==1.72.0) (0.1.4)\n",
      "Requirement already satisfied: protobuf3-to-dict>=0.1.5 in /home/ec2-user/anaconda3/envs/pytorch_p36/lib/python3.6/site-packages (from sagemaker==1.72.0) (0.1.5)\n",
      "Requirement already satisfied: protobuf>=3.1 in /home/ec2-user/anaconda3/envs/pytorch_p36/lib/python3.6/site-packages (from sagemaker==1.72.0) (3.15.2)\n",
      "Requirement already satisfied: boto3>=1.14.12 in /home/ec2-user/anaconda3/envs/pytorch_p36/lib/python3.6/site-packages (from sagemaker==1.72.0) (1.17.34)\n",
      "Requirement already satisfied: scipy>=0.19.0 in /home/ec2-user/anaconda3/envs/pytorch_p36/lib/python3.6/site-packages (from sagemaker==1.72.0) (1.5.3)\n",
      "Requirement already satisfied: numpy>=1.9.0 in /home/ec2-user/anaconda3/envs/pytorch_p36/lib/python3.6/site-packages (from sagemaker==1.72.0) (1.19.5)\n",
      "Requirement already satisfied: importlib-metadata>=1.4.0 in /home/ec2-user/anaconda3/envs/pytorch_p36/lib/python3.6/site-packages (from sagemaker==1.72.0) (3.7.0)\n",
      "Requirement already satisfied: packaging>=20.0 in /home/ec2-user/anaconda3/envs/pytorch_p36/lib/python3.6/site-packages (from sagemaker==1.72.0) (20.9)\n",
      "Requirement already satisfied: jmespath<1.0.0,>=0.7.1 in /home/ec2-user/anaconda3/envs/pytorch_p36/lib/python3.6/site-packages (from boto3>=1.14.12->sagemaker==1.72.0) (0.10.0)\n",
      "Requirement already satisfied: botocore<1.21.0,>=1.20.34 in /home/ec2-user/anaconda3/envs/pytorch_p36/lib/python3.6/site-packages (from boto3>=1.14.12->sagemaker==1.72.0) (1.20.34)\n",
      "Requirement already satisfied: s3transfer<0.4.0,>=0.3.0 in /home/ec2-user/anaconda3/envs/pytorch_p36/lib/python3.6/site-packages (from boto3>=1.14.12->sagemaker==1.72.0) (0.3.4)\n",
      "Requirement already satisfied: python-dateutil<3.0.0,>=2.1 in /home/ec2-user/anaconda3/envs/pytorch_p36/lib/python3.6/site-packages (from botocore<1.21.0,>=1.20.34->boto3>=1.14.12->sagemaker==1.72.0) (2.8.1)\n",
      "Requirement already satisfied: urllib3<1.27,>=1.25.4 in /home/ec2-user/anaconda3/envs/pytorch_p36/lib/python3.6/site-packages (from botocore<1.21.0,>=1.20.34->boto3>=1.14.12->sagemaker==1.72.0) (1.26.3)\n",
      "Requirement already satisfied: typing-extensions>=3.6.4 in /home/ec2-user/anaconda3/envs/pytorch_p36/lib/python3.6/site-packages (from importlib-metadata>=1.4.0->sagemaker==1.72.0) (3.7.4.3)\n",
      "Requirement already satisfied: zipp>=0.5 in /home/ec2-user/anaconda3/envs/pytorch_p36/lib/python3.6/site-packages (from importlib-metadata>=1.4.0->sagemaker==1.72.0) (3.4.0)\n",
      "Requirement already satisfied: pyparsing>=2.0.2 in /home/ec2-user/anaconda3/envs/pytorch_p36/lib/python3.6/site-packages (from packaging>=20.0->sagemaker==1.72.0) (2.4.7)\n",
      "Requirement already satisfied: six>=1.9 in /home/ec2-user/anaconda3/envs/pytorch_p36/lib/python3.6/site-packages (from protobuf>=3.1->sagemaker==1.72.0) (1.15.0)\n"
     ]
    }
   ],
   "source": [
    "# Make sure that we use SageMaker 1.x\n",
    "!pip install sagemaker==1.72.0"
   ]
  },
  {
   "cell_type": "markdown",
   "metadata": {},
   "source": [
    "## Step 1: Downloading the data\n",
    "\n",
    "As in the XGBoost in SageMaker notebook, we will be using the [IMDb dataset](http://ai.stanford.edu/~amaas/data/sentiment/)\n",
    "\n",
    "> Maas, Andrew L., et al. [Learning Word Vectors for Sentiment Analysis](http://ai.stanford.edu/~amaas/data/sentiment/). In _Proceedings of the 49th Annual Meeting of the Association for Computational Linguistics: Human Language Technologies_. Association for Computational Linguistics, 2011."
   ]
  },
  {
   "cell_type": "code",
   "execution_count": 2,
   "metadata": {},
   "outputs": [
    {
     "name": "stdout",
     "output_type": "stream",
     "text": [
      "mkdir: cannot create directory ‘../data’: File exists\n",
      "--2021-03-30 16:46:32--  http://ai.stanford.edu/~amaas/data/sentiment/aclImdb_v1.tar.gz\n",
      "Resolving ai.stanford.edu (ai.stanford.edu)... 171.64.68.10\n",
      "Connecting to ai.stanford.edu (ai.stanford.edu)|171.64.68.10|:80... connected.\n",
      "HTTP request sent, awaiting response... 200 OK\n",
      "Length: 84125825 (80M) [application/x-gzip]\n",
      "Saving to: ‘../data/aclImdb_v1.tar.gz’\n",
      "\n",
      "../data/aclImdb_v1. 100%[===================>]  80.23M  21.1MB/s    in 4.9s    \n",
      "\n",
      "2021-03-30 16:46:37 (16.5 MB/s) - ‘../data/aclImdb_v1.tar.gz’ saved [84125825/84125825]\n",
      "\n"
     ]
    }
   ],
   "source": [
    "%mkdir ../data\n",
    "!wget -O ../data/aclImdb_v1.tar.gz http://ai.stanford.edu/~amaas/data/sentiment/aclImdb_v1.tar.gz\n",
    "!tar -zxf ../data/aclImdb_v1.tar.gz -C ../data"
   ]
  },
  {
   "cell_type": "markdown",
   "metadata": {},
   "source": [
    "## Step 2: Preparing and Processing the data\n",
    "\n",
    "Also, as in the XGBoost notebook, we will be doing some initial data processing. The first few steps are the same as in the XGBoost example. To begin with, we will read in each of the reviews and combine them into a single input structure. Then, we will split the dataset into a training set and a testing set."
   ]
  },
  {
   "cell_type": "code",
   "execution_count": 3,
   "metadata": {},
   "outputs": [],
   "source": [
    "import os\n",
    "import glob\n",
    "\n",
    "def read_imdb_data(data_dir='../data/aclImdb'):\n",
    "    data = {}\n",
    "    labels = {}\n",
    "    \n",
    "    for data_type in ['train', 'test']:\n",
    "        data[data_type] = {}\n",
    "        labels[data_type] = {}\n",
    "        \n",
    "        for sentiment in ['pos', 'neg']:\n",
    "            data[data_type][sentiment] = []\n",
    "            labels[data_type][sentiment] = []\n",
    "            \n",
    "            path = os.path.join(data_dir, data_type, sentiment, '*.txt')\n",
    "            files = glob.glob(path)\n",
    "            \n",
    "            for f in files:\n",
    "                with open(f) as review:\n",
    "                    data[data_type][sentiment].append(review.read())\n",
    "                    # Here we represent a positive review by '1' and a negative review by '0'\n",
    "                    labels[data_type][sentiment].append(1 if sentiment == 'pos' else 0)\n",
    "                    \n",
    "            assert len(data[data_type][sentiment]) == len(labels[data_type][sentiment]), \\\n",
    "                    \"{}/{} data size does not match labels size\".format(data_type, sentiment)\n",
    "                \n",
    "    return data, labels"
   ]
  },
  {
   "cell_type": "code",
   "execution_count": 4,
   "metadata": {},
   "outputs": [
    {
     "name": "stdout",
     "output_type": "stream",
     "text": [
      "IMDB reviews: train = 12500 pos / 12500 neg, test = 12500 pos / 12500 neg\n"
     ]
    }
   ],
   "source": [
    "data, labels = read_imdb_data()\n",
    "print(\"IMDB reviews: train = {} pos / {} neg, test = {} pos / {} neg\".format(\n",
    "            len(data['train']['pos']), len(data['train']['neg']),\n",
    "            len(data['test']['pos']), len(data['test']['neg'])))"
   ]
  },
  {
   "cell_type": "markdown",
   "metadata": {},
   "source": [
    "Now that we've read the raw training and testing data from the downloaded dataset, we will combine the positive and negative reviews and shuffle the resulting records."
   ]
  },
  {
   "cell_type": "code",
   "execution_count": 5,
   "metadata": {},
   "outputs": [],
   "source": [
    "from sklearn.utils import shuffle\n",
    "\n",
    "def prepare_imdb_data(data, labels):\n",
    "    \"\"\"Prepare training and test sets from IMDb movie reviews.\"\"\"\n",
    "    \n",
    "    #Combine positive and negative reviews and labels\n",
    "    data_train = data['train']['pos'] + data['train']['neg']\n",
    "    data_test = data['test']['pos'] + data['test']['neg']\n",
    "    labels_train = labels['train']['pos'] + labels['train']['neg']\n",
    "    labels_test = labels['test']['pos'] + labels['test']['neg']\n",
    "    \n",
    "    #Shuffle reviews and corresponding labels within training and test sets\n",
    "    data_train, labels_train = shuffle(data_train, labels_train)\n",
    "    data_test, labels_test = shuffle(data_test, labels_test)\n",
    "    \n",
    "    # Return a unified training data, test data, training labels, test labets\n",
    "    return data_train, data_test, labels_train, labels_test"
   ]
  },
  {
   "cell_type": "code",
   "execution_count": 6,
   "metadata": {},
   "outputs": [
    {
     "name": "stdout",
     "output_type": "stream",
     "text": [
      "IMDb reviews (combined): train = 25000, test = 25000\n"
     ]
    }
   ],
   "source": [
    "train_X, test_X, train_y, test_y = prepare_imdb_data(data, labels)\n",
    "print(\"IMDb reviews (combined): train = {}, test = {}\".format(len(train_X), len(test_X)))"
   ]
  },
  {
   "cell_type": "markdown",
   "metadata": {},
   "source": [
    "Now that we have our training and testing sets unified and prepared, we should do a quick check and see an example of the data our model will be trained on. This is generally a good idea as it allows you to see how each of the further processing steps affects the reviews and it also ensures that the data has been loaded correctly."
   ]
  },
  {
   "cell_type": "code",
   "execution_count": 7,
   "metadata": {},
   "outputs": [
    {
     "name": "stdout",
     "output_type": "stream",
     "text": [
      "It is very rare for a film to appeal to viewers of all ages--to children for a fine narrative and a wonderful, colorful production, and, to adults, for a literate script, fine production values, good casting/acting, all bound together with a fine Rozsa score. Two roughly contemporary films accomplish this--\"Thief of Baghdad\" (1940) and \"The Adventures of Robin Hood\" (1938). Some of the back story on this production is fascinating. This production, commenced in England in the summer of 1939, moved to Hollywood, and proved a cover for British intelligence efforts! The producer, Alexander Korda, was subsequently knighted in 1942. Here is a unique case of the intersection of art, commerce, and politics! By all means, secure a good CD of this film for your library!\n",
      "1\n"
     ]
    }
   ],
   "source": [
    "print(train_X[100])\n",
    "print(train_y[100])"
   ]
  },
  {
   "cell_type": "markdown",
   "metadata": {},
   "source": [
    "The first step in processing the reviews is to make sure that any html tags that appear should be removed. In addition we wish to tokenize our input, that way words such as *entertained* and *entertaining* are considered the same with regard to sentiment analysis."
   ]
  },
  {
   "cell_type": "code",
   "execution_count": 8,
   "metadata": {},
   "outputs": [],
   "source": [
    "import nltk\n",
    "from nltk.corpus import stopwords\n",
    "from nltk.stem.porter import *\n",
    "\n",
    "import re\n",
    "from bs4 import BeautifulSoup\n",
    "\n",
    "def review_to_words(review):\n",
    "    nltk.download(\"stopwords\", quiet=True)\n",
    "    stemmer = PorterStemmer()\n",
    "    \n",
    "    text = BeautifulSoup(review, \"html.parser\").get_text() # Remove HTML tags\n",
    "    text = re.sub(r\"[^a-zA-Z0-9]\", \" \", text.lower()) # Convert to lower case\n",
    "    words = text.split() # Split string into words\n",
    "    words = [w for w in words if w not in stopwords.words(\"english\")] # Remove stopwords\n",
    "    words = [PorterStemmer().stem(w) for w in words] # stem\n",
    "    \n",
    "    return words"
   ]
  },
  {
   "cell_type": "markdown",
   "metadata": {},
   "source": [
    "The `review_to_words` method defined above uses `BeautifulSoup` to remove any html tags that appear and uses the `nltk` package to tokenize the reviews. As a check to ensure we know how everything is working, try applying `review_to_words` to one of the reviews in the training set."
   ]
  },
  {
   "cell_type": "code",
   "execution_count": 9,
   "metadata": {
    "scrolled": true
   },
   "outputs": [
    {
     "data": {
      "text/plain": [
       "['rare',\n",
       " 'film',\n",
       " 'appeal',\n",
       " 'viewer',\n",
       " 'age',\n",
       " 'children',\n",
       " 'fine',\n",
       " 'narr',\n",
       " 'wonder',\n",
       " 'color',\n",
       " 'product',\n",
       " 'adult',\n",
       " 'liter',\n",
       " 'script',\n",
       " 'fine',\n",
       " 'product',\n",
       " 'valu',\n",
       " 'good',\n",
       " 'cast',\n",
       " 'act',\n",
       " 'bound',\n",
       " 'togeth',\n",
       " 'fine',\n",
       " 'rozsa',\n",
       " 'score',\n",
       " 'two',\n",
       " 'roughli',\n",
       " 'contemporari',\n",
       " 'film',\n",
       " 'accomplish',\n",
       " 'thief',\n",
       " 'baghdad',\n",
       " '1940',\n",
       " 'adventur',\n",
       " 'robin',\n",
       " 'hood',\n",
       " '1938',\n",
       " 'back',\n",
       " 'stori',\n",
       " 'product',\n",
       " 'fascin',\n",
       " 'product',\n",
       " 'commenc',\n",
       " 'england',\n",
       " 'summer',\n",
       " '1939',\n",
       " 'move',\n",
       " 'hollywood',\n",
       " 'prove',\n",
       " 'cover',\n",
       " 'british',\n",
       " 'intellig',\n",
       " 'effort',\n",
       " 'produc',\n",
       " 'alexand',\n",
       " 'korda',\n",
       " 'subsequ',\n",
       " 'knight',\n",
       " '1942',\n",
       " 'uniqu',\n",
       " 'case',\n",
       " 'intersect',\n",
       " 'art',\n",
       " 'commerc',\n",
       " 'polit',\n",
       " 'mean',\n",
       " 'secur',\n",
       " 'good',\n",
       " 'cd',\n",
       " 'film',\n",
       " 'librari']"
      ]
     },
     "execution_count": 9,
     "metadata": {},
     "output_type": "execute_result"
    }
   ],
   "source": [
    "# TODO: Apply review_to_words to a review (train_X[100] or any other review)\n",
    "review_to_words(train_X[100])"
   ]
  },
  {
   "cell_type": "markdown",
   "metadata": {},
   "source": [
    "**Question:** Above we mentioned that `review_to_words` method removes html formatting and allows us to tokenize the words found in a review, for example, converting *entertained* and *entertaining* into *entertain* so that they are treated as though they are the same word. What else, if anything, does this method do to the input?"
   ]
  },
  {
   "cell_type": "markdown",
   "metadata": {},
   "source": [
    "**Answer:** the review_to_words also removes special characters and punctuation and transforms all words to lowercase. Furthermore the function removes stopwords such as articles and prepositions."
   ]
  },
  {
   "cell_type": "markdown",
   "metadata": {},
   "source": [
    "The method below applies the `review_to_words` method to each of the reviews in the training and testing datasets. In addition it caches the results. This is because performing this processing step can take a long time. This way if you are unable to complete the notebook in the current session, you can come back without needing to process the data a second time."
   ]
  },
  {
   "cell_type": "code",
   "execution_count": null,
   "metadata": {},
   "outputs": [],
   "source": []
  },
  {
   "cell_type": "code",
   "execution_count": null,
   "metadata": {},
   "outputs": [],
   "source": []
  },
  {
   "cell_type": "code",
   "execution_count": null,
   "metadata": {},
   "outputs": [],
   "source": []
  },
  {
   "cell_type": "code",
   "execution_count": 10,
   "metadata": {},
   "outputs": [],
   "source": [
    "import pickle\n",
    "\n",
    "cache_dir = os.path.join(\"../cache\", \"sentiment_analysis\")  # where to store cache files\n",
    "os.makedirs(cache_dir, exist_ok=True)  # ensure cache directory exists\n",
    "\n",
    "def preprocess_data(data_train, data_test, labels_train, labels_test,\n",
    "                    cache_dir=cache_dir, cache_file=\"preprocessed_data.pkl\"):\n",
    "    \"\"\"Convert each review to words; read from cache if available.\"\"\"\n",
    "\n",
    "    # If cache_file is not None, try to read from it first\n",
    "    cache_data = None\n",
    "    if cache_file is not None:\n",
    "        try:\n",
    "            with open(os.path.join(cache_dir, cache_file), \"rb\") as f:\n",
    "                cache_data = pickle.load(f)\n",
    "            print(\"Read preprocessed data from cache file:\", cache_file)\n",
    "        except:\n",
    "            pass  # unable to read from cache, but that's okay\n",
    "    \n",
    "    # If cache is missing, then do the heavy lifting\n",
    "    if cache_data is None:\n",
    "        # Preprocess training and test data to obtain words for each review\n",
    "        #words_train = list(map(review_to_words, data_train))\n",
    "        #words_test = list(map(review_to_words, data_test))\n",
    "        words_train = [review_to_words(review) for review in data_train]\n",
    "        words_test = [review_to_words(review) for review in data_test]\n",
    "        \n",
    "        # Write to cache file for future runs\n",
    "        if cache_file is not None:\n",
    "            cache_data = dict(words_train=words_train, words_test=words_test,\n",
    "                              labels_train=labels_train, labels_test=labels_test)\n",
    "            with open(os.path.join(cache_dir, cache_file), \"wb\") as f:\n",
    "                pickle.dump(cache_data, f)\n",
    "            print(\"Wrote preprocessed data to cache file:\", cache_file)\n",
    "    else:\n",
    "        # Unpack data loaded from cache file\n",
    "        words_train, words_test, labels_train, labels_test = (cache_data['words_train'],\n",
    "                cache_data['words_test'], cache_data['labels_train'], cache_data['labels_test'])\n",
    "    \n",
    "    return words_train, words_test, labels_train, labels_test"
   ]
  },
  {
   "cell_type": "code",
   "execution_count": 11,
   "metadata": {},
   "outputs": [
    {
     "name": "stdout",
     "output_type": "stream",
     "text": [
      "Read preprocessed data from cache file: preprocessed_data.pkl\n"
     ]
    }
   ],
   "source": [
    "# Preprocess data\n",
    "train_X, test_X, train_y, test_y = preprocess_data(train_X, test_X, train_y, test_y)"
   ]
  },
  {
   "cell_type": "markdown",
   "metadata": {},
   "source": [
    "## Transform the data\n",
    "\n",
    "In the XGBoost notebook we transformed the data from its word representation to a bag-of-words feature representation. For the model we are going to construct in this notebook we will construct a feature representation which is very similar. To start, we will represent each word as an integer. Of course, some of the words that appear in the reviews occur very infrequently and so likely don't contain much information for the purposes of sentiment analysis. The way we will deal with this problem is that we will **fix the size of our working vocabulary** and we will only include the words that appear most frequently. We will then combine all of the infrequent words into a single category and, in our case, we will label it as `1`.\n",
    "\n",
    "Since we will be using a recurrent neural network, it will be convenient if the length of each review is the same. To do this, we will **fix a size for our reviews** and then pad short reviews with the category 'no word' (which we will label `0`) and truncate long reviews."
   ]
  },
  {
   "cell_type": "markdown",
   "metadata": {},
   "source": [
    "### (TODO) Create a word dictionary\n",
    "\n",
    "To begin with, we need to construct a way to map words that appear in the reviews to integers. Here we fix the size of our vocabulary (including the 'no word' and 'infrequent' categories) to be `5000` but you may wish to change this to see how it affects the model.\n",
    "\n",
    "> **TODO:** Complete the implementation for the `build_dict()` method below. Note that even though the vocab_size is set to `5000`, we only want to construct a mapping for the most frequently appearing `4998` words. This is because we want to reserve the special labels `0` for 'no word' and `1` for 'infrequent word'."
   ]
  },
  {
   "cell_type": "code",
   "execution_count": 12,
   "metadata": {},
   "outputs": [],
   "source": [
    "import numpy as np\n",
    "\n",
    "def build_dict(data, vocab_size = 5000):\n",
    "    \"\"\"Construct and return a dictionary mapping each of the most frequently appearing words to a unique integer.\"\"\"\n",
    "    \n",
    "    # TODO: Determine how often each word appears in `data`. Note that `data` is a list of sentences and that a\n",
    "    #       sentence is a list of words.\n",
    "    \n",
    "    # word_count = {} # A dict storing the words that appear in the reviews along with how often they occur\n",
    "        \n",
    "    #sentences = ' '.join([x for x in data])    \n",
    "    #words_list = review_to_words(sentences)\n",
    "    flat_list = [ item for elem in data for item in elem]\n",
    "        \n",
    "    from collections import Counter\n",
    "    word_count = Counter(flat_list)\n",
    "    \n",
    "    # TODO: Sort the words found in `data` so that sorted_words[0] is the most frequently appearing word and\n",
    "    #       sorted_words[-1] is the least frequently appearing word.\n",
    "    \n",
    "    sorted_words = sorted(word_count, key = word_count.get, reverse = True)\n",
    "    \n",
    "    word_dict = {} # This is what we are building, a dictionary that translates words into integers\n",
    "    for idx, word in enumerate(sorted_words[:vocab_size - 2]): # The -2 is so that we save room for the 'no word'\n",
    "        word_dict[word] = idx + 2                              # 'infrequent' labels\n",
    "        \n",
    "    return word_dict"
   ]
  },
  {
   "cell_type": "code",
   "execution_count": 13,
   "metadata": {},
   "outputs": [
    {
     "name": "stdout",
     "output_type": "stream",
     "text": [
      "CPU times: user 604 ms, sys: 28.7 ms, total: 633 ms\n",
      "Wall time: 632 ms\n"
     ]
    }
   ],
   "source": [
    "%%time\n",
    "word_dict = build_dict(train_X)"
   ]
  },
  {
   "cell_type": "markdown",
   "metadata": {},
   "source": [
    "**Question:** What are the five most frequently appearing (tokenized) words in the training set? Does it makes sense that these words appear frequently in the training set?"
   ]
  },
  {
   "cell_type": "markdown",
   "metadata": {},
   "source": [
    "**Answer:** movi, film, one, like and time are the most frequent words in trainning set, what makes sense given the context of film review dataset."
   ]
  },
  {
   "cell_type": "code",
   "execution_count": 14,
   "metadata": {},
   "outputs": [],
   "source": [
    "# TODO: Use this space to determine the five most frequently appearing words in the training set."
   ]
  },
  {
   "cell_type": "code",
   "execution_count": 15,
   "metadata": {
    "jupyter": {
     "outputs_hidden": true
    }
   },
   "outputs": [
    {
     "data": {
      "text/plain": [
       "{'movi': 2,\n",
       " 'film': 3,\n",
       " 'one': 4,\n",
       " 'like': 5,\n",
       " 'time': 6,\n",
       " 'good': 7,\n",
       " 'make': 8,\n",
       " 'charact': 9,\n",
       " 'get': 10,\n",
       " 'see': 11,\n",
       " 'watch': 12,\n",
       " 'stori': 13,\n",
       " 'even': 14,\n",
       " 'would': 15,\n",
       " 'realli': 16,\n",
       " 'well': 17,\n",
       " 'scene': 18,\n",
       " 'look': 19,\n",
       " 'show': 20,\n",
       " 'much': 21,\n",
       " 'end': 22,\n",
       " 'peopl': 23,\n",
       " 'bad': 24,\n",
       " 'go': 25,\n",
       " 'great': 26,\n",
       " 'also': 27,\n",
       " 'first': 28,\n",
       " 'love': 29,\n",
       " 'think': 30,\n",
       " 'way': 31,\n",
       " 'act': 32,\n",
       " 'play': 33,\n",
       " 'made': 34,\n",
       " 'thing': 35,\n",
       " 'could': 36,\n",
       " 'know': 37,\n",
       " 'say': 38,\n",
       " 'seem': 39,\n",
       " 'work': 40,\n",
       " 'plot': 41,\n",
       " 'two': 42,\n",
       " 'actor': 43,\n",
       " 'year': 44,\n",
       " 'come': 45,\n",
       " 'mani': 46,\n",
       " 'seen': 47,\n",
       " 'take': 48,\n",
       " 'life': 49,\n",
       " 'want': 50,\n",
       " 'never': 51,\n",
       " 'littl': 52,\n",
       " 'best': 53,\n",
       " 'tri': 54,\n",
       " 'man': 55,\n",
       " 'ever': 56,\n",
       " 'give': 57,\n",
       " 'better': 58,\n",
       " 'still': 59,\n",
       " 'perform': 60,\n",
       " 'find': 61,\n",
       " 'feel': 62,\n",
       " 'part': 63,\n",
       " 'back': 64,\n",
       " 'use': 65,\n",
       " 'someth': 66,\n",
       " 'director': 67,\n",
       " 'actual': 68,\n",
       " 'interest': 69,\n",
       " 'lot': 70,\n",
       " 'real': 71,\n",
       " 'old': 72,\n",
       " 'cast': 73,\n",
       " 'though': 74,\n",
       " 'live': 75,\n",
       " 'star': 76,\n",
       " 'enjoy': 77,\n",
       " 'guy': 78,\n",
       " 'anoth': 79,\n",
       " 'new': 80,\n",
       " 'role': 81,\n",
       " 'noth': 82,\n",
       " '10': 83,\n",
       " 'funni': 84,\n",
       " 'music': 85,\n",
       " 'point': 86,\n",
       " 'start': 87,\n",
       " 'set': 88,\n",
       " 'girl': 89,\n",
       " 'origin': 90,\n",
       " 'day': 91,\n",
       " 'world': 92,\n",
       " 'everi': 93,\n",
       " 'believ': 94,\n",
       " 'turn': 95,\n",
       " 'quit': 96,\n",
       " 'direct': 97,\n",
       " 'us': 98,\n",
       " 'thought': 99,\n",
       " 'fact': 100,\n",
       " 'minut': 101,\n",
       " 'horror': 102,\n",
       " 'kill': 103,\n",
       " 'action': 104,\n",
       " 'comedi': 105,\n",
       " 'pretti': 106,\n",
       " 'young': 107,\n",
       " 'wonder': 108,\n",
       " 'happen': 109,\n",
       " 'around': 110,\n",
       " 'got': 111,\n",
       " 'effect': 112,\n",
       " 'right': 113,\n",
       " 'long': 114,\n",
       " 'howev': 115,\n",
       " 'big': 116,\n",
       " 'line': 117,\n",
       " 'famili': 118,\n",
       " 'enough': 119,\n",
       " 'seri': 120,\n",
       " 'may': 121,\n",
       " 'need': 122,\n",
       " 'fan': 123,\n",
       " 'bit': 124,\n",
       " 'script': 125,\n",
       " 'beauti': 126,\n",
       " 'person': 127,\n",
       " 'becom': 128,\n",
       " 'without': 129,\n",
       " 'must': 130,\n",
       " 'alway': 131,\n",
       " 'friend': 132,\n",
       " 'tell': 133,\n",
       " 'reason': 134,\n",
       " 'saw': 135,\n",
       " 'last': 136,\n",
       " 'final': 137,\n",
       " 'kid': 138,\n",
       " 'almost': 139,\n",
       " 'put': 140,\n",
       " 'least': 141,\n",
       " 'sure': 142,\n",
       " 'done': 143,\n",
       " 'whole': 144,\n",
       " 'place': 145,\n",
       " 'complet': 146,\n",
       " 'kind': 147,\n",
       " 'expect': 148,\n",
       " 'differ': 149,\n",
       " 'shot': 150,\n",
       " 'far': 151,\n",
       " 'mean': 152,\n",
       " 'anyth': 153,\n",
       " 'book': 154,\n",
       " 'laugh': 155,\n",
       " 'might': 156,\n",
       " 'name': 157,\n",
       " 'sinc': 158,\n",
       " 'begin': 159,\n",
       " '2': 160,\n",
       " 'probabl': 161,\n",
       " 'woman': 162,\n",
       " 'help': 163,\n",
       " 'entertain': 164,\n",
       " 'let': 165,\n",
       " 'screen': 166,\n",
       " 'call': 167,\n",
       " 'tv': 168,\n",
       " 'moment': 169,\n",
       " 'away': 170,\n",
       " 'read': 171,\n",
       " 'yet': 172,\n",
       " 'rather': 173,\n",
       " 'worst': 174,\n",
       " 'run': 175,\n",
       " 'fun': 176,\n",
       " 'lead': 177,\n",
       " 'hard': 178,\n",
       " 'audienc': 179,\n",
       " 'idea': 180,\n",
       " 'anyon': 181,\n",
       " 'episod': 182,\n",
       " 'american': 183,\n",
       " 'found': 184,\n",
       " 'appear': 185,\n",
       " 'bore': 186,\n",
       " 'especi': 187,\n",
       " 'although': 188,\n",
       " 'hope': 189,\n",
       " 'cours': 190,\n",
       " 'keep': 191,\n",
       " 'anim': 192,\n",
       " 'job': 193,\n",
       " 'goe': 194,\n",
       " 'move': 195,\n",
       " 'sens': 196,\n",
       " 'version': 197,\n",
       " 'dvd': 198,\n",
       " 'war': 199,\n",
       " 'money': 200,\n",
       " 'someon': 201,\n",
       " 'mind': 202,\n",
       " 'mayb': 203,\n",
       " 'problem': 204,\n",
       " 'true': 205,\n",
       " 'hous': 206,\n",
       " 'everyth': 207,\n",
       " 'nice': 208,\n",
       " 'second': 209,\n",
       " 'rate': 210,\n",
       " 'three': 211,\n",
       " 'night': 212,\n",
       " 'face': 213,\n",
       " 'follow': 214,\n",
       " 'recommend': 215,\n",
       " 'product': 216,\n",
       " 'main': 217,\n",
       " 'worth': 218,\n",
       " 'leav': 219,\n",
       " 'human': 220,\n",
       " 'special': 221,\n",
       " 'excel': 222,\n",
       " 'togeth': 223,\n",
       " 'wast': 224,\n",
       " 'sound': 225,\n",
       " 'everyon': 226,\n",
       " 'john': 227,\n",
       " 'hand': 228,\n",
       " '1': 229,\n",
       " 'father': 230,\n",
       " 'later': 231,\n",
       " 'eye': 232,\n",
       " 'said': 233,\n",
       " 'view': 234,\n",
       " 'instead': 235,\n",
       " 'review': 236,\n",
       " 'boy': 237,\n",
       " 'high': 238,\n",
       " 'hour': 239,\n",
       " 'miss': 240,\n",
       " 'talk': 241,\n",
       " 'classic': 242,\n",
       " 'wife': 243,\n",
       " 'understand': 244,\n",
       " 'left': 245,\n",
       " 'care': 246,\n",
       " 'black': 247,\n",
       " 'death': 248,\n",
       " 'open': 249,\n",
       " 'murder': 250,\n",
       " 'write': 251,\n",
       " 'half': 252,\n",
       " 'head': 253,\n",
       " 'rememb': 254,\n",
       " 'chang': 255,\n",
       " 'viewer': 256,\n",
       " 'fight': 257,\n",
       " 'gener': 258,\n",
       " 'surpris': 259,\n",
       " 'includ': 260,\n",
       " 'short': 261,\n",
       " 'die': 262,\n",
       " 'fall': 263,\n",
       " 'less': 264,\n",
       " 'els': 265,\n",
       " 'entir': 266,\n",
       " 'piec': 267,\n",
       " 'involv': 268,\n",
       " 'pictur': 269,\n",
       " 'simpli': 270,\n",
       " 'top': 271,\n",
       " 'home': 272,\n",
       " 'power': 273,\n",
       " 'total': 274,\n",
       " 'usual': 275,\n",
       " 'budget': 276,\n",
       " 'attempt': 277,\n",
       " 'suppos': 278,\n",
       " 'releas': 279,\n",
       " 'hollywood': 280,\n",
       " 'terribl': 281,\n",
       " 'song': 282,\n",
       " 'men': 283,\n",
       " 'possibl': 284,\n",
       " 'featur': 285,\n",
       " 'portray': 286,\n",
       " 'disappoint': 287,\n",
       " 'poor': 288,\n",
       " '3': 289,\n",
       " 'coupl': 290,\n",
       " 'stupid': 291,\n",
       " 'camera': 292,\n",
       " 'dead': 293,\n",
       " 'wrong': 294,\n",
       " 'produc': 295,\n",
       " 'low': 296,\n",
       " 'either': 297,\n",
       " 'video': 298,\n",
       " 'aw': 299,\n",
       " 'definit': 300,\n",
       " 'except': 301,\n",
       " 'rest': 302,\n",
       " 'given': 303,\n",
       " 'absolut': 304,\n",
       " 'women': 305,\n",
       " 'lack': 306,\n",
       " 'word': 307,\n",
       " 'writer': 308,\n",
       " 'titl': 309,\n",
       " 'talent': 310,\n",
       " 'decid': 311,\n",
       " 'full': 312,\n",
       " 'perfect': 313,\n",
       " 'along': 314,\n",
       " 'style': 315,\n",
       " 'close': 316,\n",
       " 'truli': 317,\n",
       " 'school': 318,\n",
       " 'save': 319,\n",
       " 'emot': 320,\n",
       " 'sex': 321,\n",
       " 'age': 322,\n",
       " 'next': 323,\n",
       " 'bring': 324,\n",
       " 'mr': 325,\n",
       " 'case': 326,\n",
       " 'killer': 327,\n",
       " 'heart': 328,\n",
       " 'comment': 329,\n",
       " 'sort': 330,\n",
       " 'creat': 331,\n",
       " 'perhap': 332,\n",
       " 'came': 333,\n",
       " 'brother': 334,\n",
       " 'sever': 335,\n",
       " 'joke': 336,\n",
       " 'art': 337,\n",
       " 'dialogu': 338,\n",
       " 'game': 339,\n",
       " 'small': 340,\n",
       " 'base': 341,\n",
       " 'flick': 342,\n",
       " 'written': 343,\n",
       " 'sequenc': 344,\n",
       " 'meet': 345,\n",
       " 'earli': 346,\n",
       " 'often': 347,\n",
       " 'other': 348,\n",
       " 'mother': 349,\n",
       " 'develop': 350,\n",
       " 'humor': 351,\n",
       " 'actress': 352,\n",
       " 'consid': 353,\n",
       " 'dark': 354,\n",
       " 'guess': 355,\n",
       " 'amaz': 356,\n",
       " 'unfortun': 357,\n",
       " 'lost': 358,\n",
       " 'light': 359,\n",
       " 'exampl': 360,\n",
       " 'cinema': 361,\n",
       " 'drama': 362,\n",
       " 'white': 363,\n",
       " 'ye': 364,\n",
       " 'experi': 365,\n",
       " 'imagin': 366,\n",
       " 'mention': 367,\n",
       " 'stop': 368,\n",
       " 'natur': 369,\n",
       " 'forc': 370,\n",
       " 'manag': 371,\n",
       " 'felt': 372,\n",
       " 'present': 373,\n",
       " 'cut': 374,\n",
       " 'children': 375,\n",
       " 'fail': 376,\n",
       " 'son': 377,\n",
       " 'support': 378,\n",
       " 'car': 379,\n",
       " 'qualiti': 380,\n",
       " 'ask': 381,\n",
       " 'hit': 382,\n",
       " 'side': 383,\n",
       " 'voic': 384,\n",
       " 'extrem': 385,\n",
       " 'impress': 386,\n",
       " 'wors': 387,\n",
       " 'evil': 388,\n",
       " 'stand': 389,\n",
       " 'went': 390,\n",
       " 'certainli': 391,\n",
       " 'basic': 392,\n",
       " 'oh': 393,\n",
       " 'overal': 394,\n",
       " 'favorit': 395,\n",
       " 'horribl': 396,\n",
       " 'mysteri': 397,\n",
       " 'number': 398,\n",
       " 'type': 399,\n",
       " 'danc': 400,\n",
       " 'wait': 401,\n",
       " 'hero': 402,\n",
       " 'alreadi': 403,\n",
       " '5': 404,\n",
       " 'learn': 405,\n",
       " 'matter': 406,\n",
       " '4': 407,\n",
       " 'michael': 408,\n",
       " 'genr': 409,\n",
       " 'fine': 410,\n",
       " 'despit': 411,\n",
       " 'throughout': 412,\n",
       " 'walk': 413,\n",
       " 'success': 414,\n",
       " 'histori': 415,\n",
       " 'question': 416,\n",
       " 'zombi': 417,\n",
       " 'town': 418,\n",
       " 'relationship': 419,\n",
       " 'realiz': 420,\n",
       " 'past': 421,\n",
       " 'child': 422,\n",
       " 'daughter': 423,\n",
       " 'late': 424,\n",
       " 'b': 425,\n",
       " 'wish': 426,\n",
       " 'credit': 427,\n",
       " 'hate': 428,\n",
       " 'event': 429,\n",
       " 'theme': 430,\n",
       " 'touch': 431,\n",
       " 'citi': 432,\n",
       " 'today': 433,\n",
       " 'sometim': 434,\n",
       " 'behind': 435,\n",
       " 'god': 436,\n",
       " 'twist': 437,\n",
       " 'sit': 438,\n",
       " 'deal': 439,\n",
       " 'stay': 440,\n",
       " 'annoy': 441,\n",
       " 'abl': 442,\n",
       " 'rent': 443,\n",
       " 'pleas': 444,\n",
       " 'edit': 445,\n",
       " 'blood': 446,\n",
       " 'deserv': 447,\n",
       " 'comic': 448,\n",
       " 'anyway': 449,\n",
       " 'appar': 450,\n",
       " 'soon': 451,\n",
       " 'gave': 452,\n",
       " 'etc': 453,\n",
       " 'level': 454,\n",
       " 'slow': 455,\n",
       " 'chanc': 456,\n",
       " 'score': 457,\n",
       " 'bodi': 458,\n",
       " 'brilliant': 459,\n",
       " 'incred': 460,\n",
       " 'figur': 461,\n",
       " 'situat': 462,\n",
       " 'self': 463,\n",
       " 'major': 464,\n",
       " 'stuff': 465,\n",
       " 'decent': 466,\n",
       " 'element': 467,\n",
       " 'return': 468,\n",
       " 'dream': 469,\n",
       " 'obvious': 470,\n",
       " 'order': 471,\n",
       " 'continu': 472,\n",
       " 'pace': 473,\n",
       " 'ridicul': 474,\n",
       " 'happi': 475,\n",
       " 'highli': 476,\n",
       " 'add': 477,\n",
       " 'group': 478,\n",
       " 'thank': 479,\n",
       " 'ladi': 480,\n",
       " 'novel': 481,\n",
       " 'speak': 482,\n",
       " 'pain': 483,\n",
       " 'career': 484,\n",
       " 'shoot': 485,\n",
       " 'strang': 486,\n",
       " 'heard': 487,\n",
       " 'sad': 488,\n",
       " 'polic': 489,\n",
       " 'husband': 490,\n",
       " 'import': 491,\n",
       " 'break': 492,\n",
       " 'took': 493,\n",
       " 'cannot': 494,\n",
       " 'strong': 495,\n",
       " 'robert': 496,\n",
       " 'predict': 497,\n",
       " 'violenc': 498,\n",
       " 'hilari': 499,\n",
       " 'recent': 500,\n",
       " 'countri': 501,\n",
       " 'known': 502,\n",
       " 'particularli': 503,\n",
       " 'pick': 504,\n",
       " 'documentari': 505,\n",
       " 'season': 506,\n",
       " 'critic': 507,\n",
       " 'jame': 508,\n",
       " 'compar': 509,\n",
       " 'obviou': 510,\n",
       " 'alon': 511,\n",
       " 'told': 512,\n",
       " 'state': 513,\n",
       " 'visual': 514,\n",
       " 'rock': 515,\n",
       " 'theater': 516,\n",
       " 'offer': 517,\n",
       " 'exist': 518,\n",
       " 'opinion': 519,\n",
       " 'gore': 520,\n",
       " 'hold': 521,\n",
       " 'crap': 522,\n",
       " 'result': 523,\n",
       " 'hear': 524,\n",
       " 'realiti': 525,\n",
       " 'room': 526,\n",
       " 'clich': 527,\n",
       " 'effort': 528,\n",
       " 'thriller': 529,\n",
       " 'caus': 530,\n",
       " 'sequel': 531,\n",
       " 'explain': 532,\n",
       " 'serious': 533,\n",
       " 'king': 534,\n",
       " 'local': 535,\n",
       " 'ago': 536,\n",
       " 'hell': 537,\n",
       " 'none': 538,\n",
       " 'note': 539,\n",
       " 'allow': 540,\n",
       " 'sister': 541,\n",
       " 'david': 542,\n",
       " 'simpl': 543,\n",
       " 'femal': 544,\n",
       " 'deliv': 545,\n",
       " 'ok': 546,\n",
       " 'class': 547,\n",
       " 'convinc': 548,\n",
       " 'check': 549,\n",
       " 'suspens': 550,\n",
       " 'win': 551,\n",
       " 'oscar': 552,\n",
       " 'buy': 553,\n",
       " 'huge': 554,\n",
       " 'valu': 555,\n",
       " 'sexual': 556,\n",
       " 'cool': 557,\n",
       " 'scari': 558,\n",
       " 'similar': 559,\n",
       " 'excit': 560,\n",
       " 'provid': 561,\n",
       " 'exactli': 562,\n",
       " 'apart': 563,\n",
       " 'avoid': 564,\n",
       " 'shown': 565,\n",
       " 'seriou': 566,\n",
       " 'english': 567,\n",
       " 'whose': 568,\n",
       " 'taken': 569,\n",
       " 'cinematographi': 570,\n",
       " 'shock': 571,\n",
       " 'polit': 572,\n",
       " 'spoiler': 573,\n",
       " 'offic': 574,\n",
       " 'across': 575,\n",
       " 'middl': 576,\n",
       " 'street': 577,\n",
       " 'pass': 578,\n",
       " 'messag': 579,\n",
       " 'somewhat': 580,\n",
       " 'charm': 581,\n",
       " 'silli': 582,\n",
       " 'modern': 583,\n",
       " 'confus': 584,\n",
       " 'filmmak': 585,\n",
       " 'form': 586,\n",
       " 'tale': 587,\n",
       " 'singl': 588,\n",
       " 'jack': 589,\n",
       " 'mostli': 590,\n",
       " 'carri': 591,\n",
       " 'attent': 592,\n",
       " 'william': 593,\n",
       " 'sing': 594,\n",
       " 'five': 595,\n",
       " 'subject': 596,\n",
       " 'richard': 597,\n",
       " 'prove': 598,\n",
       " 'stage': 599,\n",
       " 'team': 600,\n",
       " 'unlik': 601,\n",
       " 'cop': 602,\n",
       " 'georg': 603,\n",
       " 'monster': 604,\n",
       " 'televis': 605,\n",
       " 'earth': 606,\n",
       " 'villain': 607,\n",
       " 'cover': 608,\n",
       " 'pay': 609,\n",
       " 'marri': 610,\n",
       " 'toward': 611,\n",
       " 'build': 612,\n",
       " 'pull': 613,\n",
       " 'parent': 614,\n",
       " 'due': 615,\n",
       " 'fill': 616,\n",
       " 'respect': 617,\n",
       " 'four': 618,\n",
       " 'dialog': 619,\n",
       " 'remind': 620,\n",
       " 'futur': 621,\n",
       " 'weak': 622,\n",
       " 'typic': 623,\n",
       " '7': 624,\n",
       " 'cheap': 625,\n",
       " 'intellig': 626,\n",
       " 'atmospher': 627,\n",
       " 'british': 628,\n",
       " '80': 629,\n",
       " 'clearli': 630,\n",
       " 'non': 631,\n",
       " 'paul': 632,\n",
       " 'dog': 633,\n",
       " 'artist': 634,\n",
       " 'knew': 635,\n",
       " 'fast': 636,\n",
       " '8': 637,\n",
       " 'crime': 638,\n",
       " 'easili': 639,\n",
       " 'escap': 640,\n",
       " 'doubt': 641,\n",
       " 'adult': 642,\n",
       " 'detail': 643,\n",
       " 'date': 644,\n",
       " 'romant': 645,\n",
       " 'member': 646,\n",
       " 'fire': 647,\n",
       " 'drive': 648,\n",
       " 'gun': 649,\n",
       " 'straight': 650,\n",
       " 'beyond': 651,\n",
       " 'fit': 652,\n",
       " 'attack': 653,\n",
       " 'imag': 654,\n",
       " 'upon': 655,\n",
       " 'posit': 656,\n",
       " 'whether': 657,\n",
       " 'fantast': 658,\n",
       " 'peter': 659,\n",
       " 'captur': 660,\n",
       " 'aspect': 661,\n",
       " 'appreci': 662,\n",
       " 'ten': 663,\n",
       " 'plan': 664,\n",
       " 'discov': 665,\n",
       " 'remain': 666,\n",
       " 'period': 667,\n",
       " 'near': 668,\n",
       " 'realist': 669,\n",
       " 'air': 670,\n",
       " 'mark': 671,\n",
       " 'red': 672,\n",
       " 'dull': 673,\n",
       " 'adapt': 674,\n",
       " 'within': 675,\n",
       " 'lose': 676,\n",
       " 'spend': 677,\n",
       " 'materi': 678,\n",
       " 'color': 679,\n",
       " 'chase': 680,\n",
       " 'mari': 681,\n",
       " 'storylin': 682,\n",
       " 'forget': 683,\n",
       " 'bunch': 684,\n",
       " 'clear': 685,\n",
       " 'lee': 686,\n",
       " 'victim': 687,\n",
       " 'nearli': 688,\n",
       " 'box': 689,\n",
       " 'york': 690,\n",
       " 'inspir': 691,\n",
       " 'match': 692,\n",
       " 'finish': 693,\n",
       " 'mess': 694,\n",
       " 'standard': 695,\n",
       " 'easi': 696,\n",
       " 'truth': 697,\n",
       " 'busi': 698,\n",
       " 'suffer': 699,\n",
       " 'space': 700,\n",
       " 'dramat': 701,\n",
       " 'bill': 702,\n",
       " 'western': 703,\n",
       " 'e': 704,\n",
       " 'list': 705,\n",
       " 'battl': 706,\n",
       " 'notic': 707,\n",
       " 'de': 708,\n",
       " 'french': 709,\n",
       " 'ad': 710,\n",
       " '9': 711,\n",
       " 'tom': 712,\n",
       " 'larg': 713,\n",
       " 'among': 714,\n",
       " 'eventu': 715,\n",
       " 'train': 716,\n",
       " 'accept': 717,\n",
       " 'agre': 718,\n",
       " 'soundtrack': 719,\n",
       " 'spirit': 720,\n",
       " 'third': 721,\n",
       " 'teenag': 722,\n",
       " 'soldier': 723,\n",
       " 'adventur': 724,\n",
       " 'famou': 725,\n",
       " 'suggest': 726,\n",
       " 'sorri': 727,\n",
       " 'drug': 728,\n",
       " 'normal': 729,\n",
       " 'cri': 730,\n",
       " 'babi': 731,\n",
       " 'troubl': 732,\n",
       " 'ultim': 733,\n",
       " 'contain': 734,\n",
       " 'certain': 735,\n",
       " 'cultur': 736,\n",
       " 'romanc': 737,\n",
       " 'rare': 738,\n",
       " 'lame': 739,\n",
       " 'somehow': 740,\n",
       " 'mix': 741,\n",
       " 'disney': 742,\n",
       " 'gone': 743,\n",
       " 'cartoon': 744,\n",
       " 'student': 745,\n",
       " 'fear': 746,\n",
       " 'reveal': 747,\n",
       " 'kept': 748,\n",
       " 'suck': 749,\n",
       " 'attract': 750,\n",
       " 'appeal': 751,\n",
       " 'premis': 752,\n",
       " 'greatest': 753,\n",
       " 'secret': 754,\n",
       " 'design': 755,\n",
       " 'shame': 756,\n",
       " 'throw': 757,\n",
       " 'scare': 758,\n",
       " 'copi': 759,\n",
       " 'wit': 760,\n",
       " 'admit': 761,\n",
       " 'america': 762,\n",
       " 'particular': 763,\n",
       " 'relat': 764,\n",
       " 'brought': 765,\n",
       " 'screenplay': 766,\n",
       " 'whatev': 767,\n",
       " 'pure': 768,\n",
       " '70': 769,\n",
       " 'averag': 770,\n",
       " 'harri': 771,\n",
       " 'master': 772,\n",
       " 'describ': 773,\n",
       " 'treat': 774,\n",
       " 'male': 775,\n",
       " '20': 776,\n",
       " 'issu': 777,\n",
       " 'fantasi': 778,\n",
       " 'warn': 779,\n",
       " 'inde': 780,\n",
       " 'forward': 781,\n",
       " 'background': 782,\n",
       " 'free': 783,\n",
       " 'project': 784,\n",
       " 'memor': 785,\n",
       " 'japanes': 786,\n",
       " 'poorli': 787,\n",
       " 'award': 788,\n",
       " 'locat': 789,\n",
       " 'amus': 790,\n",
       " 'potenti': 791,\n",
       " 'struggl': 792,\n",
       " 'magic': 793,\n",
       " 'weird': 794,\n",
       " 'societi': 795,\n",
       " 'okay': 796,\n",
       " 'imdb': 797,\n",
       " 'doctor': 798,\n",
       " 'accent': 799,\n",
       " 'hot': 800,\n",
       " 'water': 801,\n",
       " 'express': 802,\n",
       " 'dr': 803,\n",
       " '30': 804,\n",
       " 'alien': 805,\n",
       " 'odd': 806,\n",
       " 'choic': 807,\n",
       " 'crazi': 808,\n",
       " 'fiction': 809,\n",
       " 'studio': 810,\n",
       " 'control': 811,\n",
       " 'becam': 812,\n",
       " 'masterpiec': 813,\n",
       " 'fli': 814,\n",
       " 'difficult': 815,\n",
       " 'joe': 816,\n",
       " 'scream': 817,\n",
       " 'costum': 818,\n",
       " 'lover': 819,\n",
       " 'uniqu': 820,\n",
       " 'refer': 821,\n",
       " 'remak': 822,\n",
       " 'girlfriend': 823,\n",
       " 'vampir': 824,\n",
       " 'prison': 825,\n",
       " 'execut': 826,\n",
       " 'wear': 827,\n",
       " 'jump': 828,\n",
       " 'unless': 829,\n",
       " 'wood': 830,\n",
       " 'creepi': 831,\n",
       " 'cheesi': 832,\n",
       " 'superb': 833,\n",
       " 'otherwis': 834,\n",
       " 'parti': 835,\n",
       " 'ghost': 836,\n",
       " 'roll': 837,\n",
       " 'public': 838,\n",
       " 'mad': 839,\n",
       " 'depict': 840,\n",
       " 'week': 841,\n",
       " 'jane': 842,\n",
       " 'badli': 843,\n",
       " 'earlier': 844,\n",
       " 'moral': 845,\n",
       " 'fi': 846,\n",
       " 'dumb': 847,\n",
       " 'flaw': 848,\n",
       " 'grow': 849,\n",
       " 'sci': 850,\n",
       " 'deep': 851,\n",
       " 'maker': 852,\n",
       " 'cat': 853,\n",
       " 'connect': 854,\n",
       " 'footag': 855,\n",
       " 'older': 856,\n",
       " 'plenti': 857,\n",
       " 'bother': 858,\n",
       " 'outsid': 859,\n",
       " 'stick': 860,\n",
       " 'gay': 861,\n",
       " 'catch': 862,\n",
       " 'plu': 863,\n",
       " 'co': 864,\n",
       " 'popular': 865,\n",
       " 'equal': 866,\n",
       " 'social': 867,\n",
       " 'quickli': 868,\n",
       " 'disturb': 869,\n",
       " 'perfectli': 870,\n",
       " 'dress': 871,\n",
       " 'era': 872,\n",
       " '90': 873,\n",
       " 'mistak': 874,\n",
       " 'lie': 875,\n",
       " 'previou': 876,\n",
       " 'ride': 877,\n",
       " 'combin': 878,\n",
       " 'band': 879,\n",
       " 'concept': 880,\n",
       " 'rich': 881,\n",
       " 'answer': 882,\n",
       " 'surviv': 883,\n",
       " 'front': 884,\n",
       " 'sweet': 885,\n",
       " 'christma': 886,\n",
       " 'insid': 887,\n",
       " 'concern': 888,\n",
       " 'bare': 889,\n",
       " 'eat': 890,\n",
       " 'listen': 891,\n",
       " 'ben': 892,\n",
       " 'beat': 893,\n",
       " 'c': 894,\n",
       " 'term': 895,\n",
       " 'serv': 896,\n",
       " 'german': 897,\n",
       " 'meant': 898,\n",
       " 'la': 899,\n",
       " 'stereotyp': 900,\n",
       " 'hardli': 901,\n",
       " 'innoc': 902,\n",
       " 'law': 903,\n",
       " 'desper': 904,\n",
       " 'memori': 905,\n",
       " 'promis': 906,\n",
       " 'intent': 907,\n",
       " 'cute': 908,\n",
       " 'variou': 909,\n",
       " 'inform': 910,\n",
       " 'steal': 911,\n",
       " 'brain': 912,\n",
       " 'post': 913,\n",
       " 'tone': 914,\n",
       " 'island': 915,\n",
       " 'amount': 916,\n",
       " 'compani': 917,\n",
       " 'nuditi': 918,\n",
       " 'track': 919,\n",
       " 'claim': 920,\n",
       " 'store': 921,\n",
       " 'flat': 922,\n",
       " '50': 923,\n",
       " 'hair': 924,\n",
       " 'univers': 925,\n",
       " 'land': 926,\n",
       " 'scott': 927,\n",
       " 'danger': 928,\n",
       " 'kick': 929,\n",
       " 'fairli': 930,\n",
       " 'player': 931,\n",
       " 'crew': 932,\n",
       " 'step': 933,\n",
       " 'plain': 934,\n",
       " 'toni': 935,\n",
       " 'share': 936,\n",
       " 'centuri': 937,\n",
       " 'tast': 938,\n",
       " 'achiev': 939,\n",
       " 'engag': 940,\n",
       " 'cold': 941,\n",
       " 'travel': 942,\n",
       " 'suit': 943,\n",
       " 'record': 944,\n",
       " 'rip': 945,\n",
       " 'manner': 946,\n",
       " 'sadli': 947,\n",
       " 'wrote': 948,\n",
       " 'tension': 949,\n",
       " 'spot': 950,\n",
       " 'intens': 951,\n",
       " 'fascin': 952,\n",
       " 'familiar': 953,\n",
       " 'remark': 954,\n",
       " 'depth': 955,\n",
       " 'burn': 956,\n",
       " 'destroy': 957,\n",
       " 'histor': 958,\n",
       " 'sleep': 959,\n",
       " 'purpos': 960,\n",
       " 'languag': 961,\n",
       " 'ruin': 962,\n",
       " 'ignor': 963,\n",
       " 'delight': 964,\n",
       " 'italian': 965,\n",
       " 'unbeliev': 966,\n",
       " 'soul': 967,\n",
       " 'abil': 968,\n",
       " 'collect': 969,\n",
       " 'detect': 970,\n",
       " 'clever': 971,\n",
       " 'violent': 972,\n",
       " 'rape': 973,\n",
       " 'reach': 974,\n",
       " 'door': 975,\n",
       " 'scienc': 976,\n",
       " 'liter': 977,\n",
       " 'trash': 978,\n",
       " 'commun': 979,\n",
       " 'reveng': 980,\n",
       " 'caught': 981,\n",
       " 'creatur': 982,\n",
       " 'approach': 983,\n",
       " 'trip': 984,\n",
       " 'intrigu': 985,\n",
       " 'fashion': 986,\n",
       " 'introduc': 987,\n",
       " 'skill': 988,\n",
       " 'paint': 989,\n",
       " 'complex': 990,\n",
       " 'channel': 991,\n",
       " 'camp': 992,\n",
       " 'christian': 993,\n",
       " 'hole': 994,\n",
       " 'extra': 995,\n",
       " 'limit': 996,\n",
       " 'immedi': 997,\n",
       " 'ann': 998,\n",
       " 'mental': 999,\n",
       " 'mere': 1000,\n",
       " 'slightli': 1001,\n",
       " ...}"
      ]
     },
     "execution_count": 15,
     "metadata": {},
     "output_type": "execute_result"
    }
   ],
   "source": [
    "word_dict"
   ]
  },
  {
   "cell_type": "markdown",
   "metadata": {},
   "source": [
    "'movi': 2,\n",
    " 'film': 3,\n",
    " 'one': 4,\n",
    " 'like': 5,\n",
    " 'time': 6,"
   ]
  },
  {
   "cell_type": "markdown",
   "metadata": {},
   "source": [
    "### Save `word_dict`\n",
    "\n",
    "Later on when we construct an endpoint which processes a submitted review we will need to make use of the `word_dict` which we have created. As such, we will save it to a file now for future use."
   ]
  },
  {
   "cell_type": "code",
   "execution_count": 16,
   "metadata": {},
   "outputs": [],
   "source": [
    "data_dir = '../data/pytorch' # The folder we will use for storing data\n",
    "if not os.path.exists(data_dir): # Make sure that the folder exists\n",
    "    os.makedirs(data_dir)"
   ]
  },
  {
   "cell_type": "code",
   "execution_count": 17,
   "metadata": {},
   "outputs": [],
   "source": [
    "with open(os.path.join(data_dir, 'word_dict.pkl'), \"wb\") as f:\n",
    "    pickle.dump(word_dict, f)"
   ]
  },
  {
   "cell_type": "code",
   "execution_count": 18,
   "metadata": {
    "jupyter": {
     "outputs_hidden": true
    }
   },
   "outputs": [
    {
     "name": "stdout",
     "output_type": "stream",
     "text": [
      "{'movi': 2, 'film': 3, 'one': 4, 'like': 5, 'time': 6, 'good': 7, 'make': 8, 'charact': 9, 'get': 10, 'see': 11, 'watch': 12, 'stori': 13, 'even': 14, 'would': 15, 'realli': 16, 'well': 17, 'scene': 18, 'look': 19, 'show': 20, 'much': 21, 'end': 22, 'peopl': 23, 'bad': 24, 'go': 25, 'great': 26, 'also': 27, 'first': 28, 'love': 29, 'think': 30, 'way': 31, 'act': 32, 'play': 33, 'made': 34, 'thing': 35, 'could': 36, 'know': 37, 'say': 38, 'seem': 39, 'work': 40, 'plot': 41, 'two': 42, 'actor': 43, 'year': 44, 'come': 45, 'mani': 46, 'seen': 47, 'take': 48, 'life': 49, 'want': 50, 'never': 51, 'littl': 52, 'best': 53, 'tri': 54, 'man': 55, 'ever': 56, 'give': 57, 'better': 58, 'still': 59, 'perform': 60, 'find': 61, 'feel': 62, 'part': 63, 'back': 64, 'use': 65, 'someth': 66, 'director': 67, 'actual': 68, 'interest': 69, 'lot': 70, 'real': 71, 'old': 72, 'cast': 73, 'though': 74, 'live': 75, 'star': 76, 'enjoy': 77, 'guy': 78, 'anoth': 79, 'new': 80, 'role': 81, 'noth': 82, '10': 83, 'funni': 84, 'music': 85, 'point': 86, 'start': 87, 'set': 88, 'girl': 89, 'origin': 90, 'day': 91, 'world': 92, 'everi': 93, 'believ': 94, 'turn': 95, 'quit': 96, 'direct': 97, 'us': 98, 'thought': 99, 'fact': 100, 'minut': 101, 'horror': 102, 'kill': 103, 'action': 104, 'comedi': 105, 'pretti': 106, 'young': 107, 'wonder': 108, 'happen': 109, 'around': 110, 'got': 111, 'effect': 112, 'right': 113, 'long': 114, 'howev': 115, 'big': 116, 'line': 117, 'famili': 118, 'enough': 119, 'seri': 120, 'may': 121, 'need': 122, 'fan': 123, 'bit': 124, 'script': 125, 'beauti': 126, 'person': 127, 'becom': 128, 'without': 129, 'must': 130, 'alway': 131, 'friend': 132, 'tell': 133, 'reason': 134, 'saw': 135, 'last': 136, 'final': 137, 'kid': 138, 'almost': 139, 'put': 140, 'least': 141, 'sure': 142, 'done': 143, 'whole': 144, 'place': 145, 'complet': 146, 'kind': 147, 'expect': 148, 'differ': 149, 'shot': 150, 'far': 151, 'mean': 152, 'anyth': 153, 'book': 154, 'laugh': 155, 'might': 156, 'name': 157, 'sinc': 158, 'begin': 159, '2': 160, 'probabl': 161, 'woman': 162, 'help': 163, 'entertain': 164, 'let': 165, 'screen': 166, 'call': 167, 'tv': 168, 'moment': 169, 'away': 170, 'read': 171, 'yet': 172, 'rather': 173, 'worst': 174, 'run': 175, 'fun': 176, 'lead': 177, 'hard': 178, 'audienc': 179, 'idea': 180, 'anyon': 181, 'episod': 182, 'american': 183, 'found': 184, 'appear': 185, 'bore': 186, 'especi': 187, 'although': 188, 'hope': 189, 'cours': 190, 'keep': 191, 'anim': 192, 'job': 193, 'goe': 194, 'move': 195, 'sens': 196, 'version': 197, 'dvd': 198, 'war': 199, 'money': 200, 'someon': 201, 'mind': 202, 'mayb': 203, 'problem': 204, 'true': 205, 'hous': 206, 'everyth': 207, 'nice': 208, 'second': 209, 'rate': 210, 'three': 211, 'night': 212, 'face': 213, 'follow': 214, 'recommend': 215, 'product': 216, 'main': 217, 'worth': 218, 'leav': 219, 'human': 220, 'special': 221, 'excel': 222, 'togeth': 223, 'wast': 224, 'sound': 225, 'everyon': 226, 'john': 227, 'hand': 228, '1': 229, 'father': 230, 'later': 231, 'eye': 232, 'said': 233, 'view': 234, 'instead': 235, 'review': 236, 'boy': 237, 'high': 238, 'hour': 239, 'miss': 240, 'talk': 241, 'classic': 242, 'wife': 243, 'understand': 244, 'left': 245, 'care': 246, 'black': 247, 'death': 248, 'open': 249, 'murder': 250, 'write': 251, 'half': 252, 'head': 253, 'rememb': 254, 'chang': 255, 'viewer': 256, 'fight': 257, 'gener': 258, 'surpris': 259, 'includ': 260, 'short': 261, 'die': 262, 'fall': 263, 'less': 264, 'els': 265, 'entir': 266, 'piec': 267, 'involv': 268, 'pictur': 269, 'simpli': 270, 'top': 271, 'home': 272, 'power': 273, 'total': 274, 'usual': 275, 'budget': 276, 'attempt': 277, 'suppos': 278, 'releas': 279, 'hollywood': 280, 'terribl': 281, 'song': 282, 'men': 283, 'possibl': 284, 'featur': 285, 'portray': 286, 'disappoint': 287, 'poor': 288, '3': 289, 'coupl': 290, 'stupid': 291, 'camera': 292, 'dead': 293, 'wrong': 294, 'produc': 295, 'low': 296, 'either': 297, 'video': 298, 'aw': 299, 'definit': 300, 'except': 301, 'rest': 302, 'given': 303, 'absolut': 304, 'women': 305, 'lack': 306, 'word': 307, 'writer': 308, 'titl': 309, 'talent': 310, 'decid': 311, 'full': 312, 'perfect': 313, 'along': 314, 'style': 315, 'close': 316, 'truli': 317, 'school': 318, 'save': 319, 'emot': 320, 'sex': 321, 'age': 322, 'next': 323, 'bring': 324, 'mr': 325, 'case': 326, 'killer': 327, 'heart': 328, 'comment': 329, 'sort': 330, 'creat': 331, 'perhap': 332, 'came': 333, 'brother': 334, 'sever': 335, 'joke': 336, 'art': 337, 'dialogu': 338, 'game': 339, 'small': 340, 'base': 341, 'flick': 342, 'written': 343, 'sequenc': 344, 'meet': 345, 'earli': 346, 'often': 347, 'other': 348, 'mother': 349, 'develop': 350, 'humor': 351, 'actress': 352, 'consid': 353, 'dark': 354, 'guess': 355, 'amaz': 356, 'unfortun': 357, 'lost': 358, 'light': 359, 'exampl': 360, 'cinema': 361, 'drama': 362, 'white': 363, 'ye': 364, 'experi': 365, 'imagin': 366, 'mention': 367, 'stop': 368, 'natur': 369, 'forc': 370, 'manag': 371, 'felt': 372, 'present': 373, 'cut': 374, 'children': 375, 'fail': 376, 'son': 377, 'support': 378, 'car': 379, 'qualiti': 380, 'ask': 381, 'hit': 382, 'side': 383, 'voic': 384, 'extrem': 385, 'impress': 386, 'wors': 387, 'evil': 388, 'stand': 389, 'went': 390, 'certainli': 391, 'basic': 392, 'oh': 393, 'overal': 394, 'favorit': 395, 'horribl': 396, 'mysteri': 397, 'number': 398, 'type': 399, 'danc': 400, 'wait': 401, 'hero': 402, 'alreadi': 403, '5': 404, 'learn': 405, 'matter': 406, '4': 407, 'michael': 408, 'genr': 409, 'fine': 410, 'despit': 411, 'throughout': 412, 'walk': 413, 'success': 414, 'histori': 415, 'question': 416, 'zombi': 417, 'town': 418, 'relationship': 419, 'realiz': 420, 'past': 421, 'child': 422, 'daughter': 423, 'late': 424, 'b': 425, 'wish': 426, 'credit': 427, 'hate': 428, 'event': 429, 'theme': 430, 'touch': 431, 'citi': 432, 'today': 433, 'sometim': 434, 'behind': 435, 'god': 436, 'twist': 437, 'sit': 438, 'deal': 439, 'stay': 440, 'annoy': 441, 'abl': 442, 'rent': 443, 'pleas': 444, 'edit': 445, 'blood': 446, 'deserv': 447, 'comic': 448, 'anyway': 449, 'appar': 450, 'soon': 451, 'gave': 452, 'etc': 453, 'level': 454, 'slow': 455, 'chanc': 456, 'score': 457, 'bodi': 458, 'brilliant': 459, 'incred': 460, 'figur': 461, 'situat': 462, 'self': 463, 'major': 464, 'stuff': 465, 'decent': 466, 'element': 467, 'return': 468, 'dream': 469, 'obvious': 470, 'order': 471, 'continu': 472, 'pace': 473, 'ridicul': 474, 'happi': 475, 'highli': 476, 'add': 477, 'group': 478, 'thank': 479, 'ladi': 480, 'novel': 481, 'speak': 482, 'pain': 483, 'career': 484, 'shoot': 485, 'strang': 486, 'heard': 487, 'sad': 488, 'polic': 489, 'husband': 490, 'import': 491, 'break': 492, 'took': 493, 'cannot': 494, 'strong': 495, 'robert': 496, 'predict': 497, 'violenc': 498, 'hilari': 499, 'recent': 500, 'countri': 501, 'known': 502, 'particularli': 503, 'pick': 504, 'documentari': 505, 'season': 506, 'critic': 507, 'jame': 508, 'compar': 509, 'obviou': 510, 'alon': 511, 'told': 512, 'state': 513, 'visual': 514, 'rock': 515, 'theater': 516, 'offer': 517, 'exist': 518, 'opinion': 519, 'gore': 520, 'hold': 521, 'crap': 522, 'result': 523, 'hear': 524, 'realiti': 525, 'room': 526, 'clich': 527, 'effort': 528, 'thriller': 529, 'caus': 530, 'sequel': 531, 'explain': 532, 'serious': 533, 'king': 534, 'local': 535, 'ago': 536, 'hell': 537, 'none': 538, 'note': 539, 'allow': 540, 'sister': 541, 'david': 542, 'simpl': 543, 'femal': 544, 'deliv': 545, 'ok': 546, 'class': 547, 'convinc': 548, 'check': 549, 'suspens': 550, 'win': 551, 'oscar': 552, 'buy': 553, 'huge': 554, 'valu': 555, 'sexual': 556, 'cool': 557, 'scari': 558, 'similar': 559, 'excit': 560, 'provid': 561, 'exactli': 562, 'apart': 563, 'avoid': 564, 'shown': 565, 'seriou': 566, 'english': 567, 'whose': 568, 'taken': 569, 'cinematographi': 570, 'shock': 571, 'polit': 572, 'spoiler': 573, 'offic': 574, 'across': 575, 'middl': 576, 'street': 577, 'pass': 578, 'messag': 579, 'somewhat': 580, 'charm': 581, 'silli': 582, 'modern': 583, 'confus': 584, 'filmmak': 585, 'form': 586, 'tale': 587, 'singl': 588, 'jack': 589, 'mostli': 590, 'carri': 591, 'attent': 592, 'william': 593, 'sing': 594, 'five': 595, 'subject': 596, 'richard': 597, 'prove': 598, 'stage': 599, 'team': 600, 'unlik': 601, 'cop': 602, 'georg': 603, 'monster': 604, 'televis': 605, 'earth': 606, 'villain': 607, 'cover': 608, 'pay': 609, 'marri': 610, 'toward': 611, 'build': 612, 'pull': 613, 'parent': 614, 'due': 615, 'fill': 616, 'respect': 617, 'four': 618, 'dialog': 619, 'remind': 620, 'futur': 621, 'weak': 622, 'typic': 623, '7': 624, 'cheap': 625, 'intellig': 626, 'atmospher': 627, 'british': 628, '80': 629, 'clearli': 630, 'non': 631, 'paul': 632, 'dog': 633, 'artist': 634, 'knew': 635, 'fast': 636, '8': 637, 'crime': 638, 'easili': 639, 'escap': 640, 'doubt': 641, 'adult': 642, 'detail': 643, 'date': 644, 'romant': 645, 'member': 646, 'fire': 647, 'drive': 648, 'gun': 649, 'straight': 650, 'beyond': 651, 'fit': 652, 'attack': 653, 'imag': 654, 'upon': 655, 'posit': 656, 'whether': 657, 'fantast': 658, 'peter': 659, 'captur': 660, 'aspect': 661, 'appreci': 662, 'ten': 663, 'plan': 664, 'discov': 665, 'remain': 666, 'period': 667, 'near': 668, 'realist': 669, 'air': 670, 'mark': 671, 'red': 672, 'dull': 673, 'adapt': 674, 'within': 675, 'lose': 676, 'spend': 677, 'materi': 678, 'color': 679, 'chase': 680, 'mari': 681, 'storylin': 682, 'forget': 683, 'bunch': 684, 'clear': 685, 'lee': 686, 'victim': 687, 'nearli': 688, 'box': 689, 'york': 690, 'inspir': 691, 'match': 692, 'finish': 693, 'mess': 694, 'standard': 695, 'easi': 696, 'truth': 697, 'busi': 698, 'suffer': 699, 'space': 700, 'dramat': 701, 'bill': 702, 'western': 703, 'e': 704, 'list': 705, 'battl': 706, 'notic': 707, 'de': 708, 'french': 709, 'ad': 710, '9': 711, 'tom': 712, 'larg': 713, 'among': 714, 'eventu': 715, 'train': 716, 'accept': 717, 'agre': 718, 'soundtrack': 719, 'spirit': 720, 'third': 721, 'teenag': 722, 'soldier': 723, 'adventur': 724, 'famou': 725, 'suggest': 726, 'sorri': 727, 'drug': 728, 'normal': 729, 'cri': 730, 'babi': 731, 'troubl': 732, 'ultim': 733, 'contain': 734, 'certain': 735, 'cultur': 736, 'romanc': 737, 'rare': 738, 'lame': 739, 'somehow': 740, 'mix': 741, 'disney': 742, 'gone': 743, 'cartoon': 744, 'student': 745, 'fear': 746, 'reveal': 747, 'kept': 748, 'suck': 749, 'attract': 750, 'appeal': 751, 'premis': 752, 'greatest': 753, 'secret': 754, 'design': 755, 'shame': 756, 'throw': 757, 'scare': 758, 'copi': 759, 'wit': 760, 'admit': 761, 'america': 762, 'particular': 763, 'relat': 764, 'brought': 765, 'screenplay': 766, 'whatev': 767, 'pure': 768, '70': 769, 'averag': 770, 'harri': 771, 'master': 772, 'describ': 773, 'treat': 774, 'male': 775, '20': 776, 'issu': 777, 'fantasi': 778, 'warn': 779, 'inde': 780, 'forward': 781, 'background': 782, 'free': 783, 'project': 784, 'memor': 785, 'japanes': 786, 'poorli': 787, 'award': 788, 'locat': 789, 'amus': 790, 'potenti': 791, 'struggl': 792, 'magic': 793, 'weird': 794, 'societi': 795, 'okay': 796, 'imdb': 797, 'doctor': 798, 'accent': 799, 'hot': 800, 'water': 801, 'express': 802, 'dr': 803, '30': 804, 'alien': 805, 'odd': 806, 'choic': 807, 'crazi': 808, 'fiction': 809, 'studio': 810, 'control': 811, 'becam': 812, 'masterpiec': 813, 'fli': 814, 'difficult': 815, 'joe': 816, 'scream': 817, 'costum': 818, 'lover': 819, 'uniqu': 820, 'refer': 821, 'remak': 822, 'girlfriend': 823, 'vampir': 824, 'prison': 825, 'execut': 826, 'wear': 827, 'jump': 828, 'unless': 829, 'wood': 830, 'creepi': 831, 'cheesi': 832, 'superb': 833, 'otherwis': 834, 'parti': 835, 'ghost': 836, 'roll': 837, 'public': 838, 'mad': 839, 'depict': 840, 'week': 841, 'jane': 842, 'badli': 843, 'earlier': 844, 'moral': 845, 'fi': 846, 'dumb': 847, 'flaw': 848, 'grow': 849, 'sci': 850, 'deep': 851, 'maker': 852, 'cat': 853, 'connect': 854, 'footag': 855, 'older': 856, 'plenti': 857, 'bother': 858, 'outsid': 859, 'stick': 860, 'gay': 861, 'catch': 862, 'plu': 863, 'co': 864, 'popular': 865, 'equal': 866, 'social': 867, 'quickli': 868, 'disturb': 869, 'perfectli': 870, 'dress': 871, 'era': 872, '90': 873, 'mistak': 874, 'lie': 875, 'previou': 876, 'ride': 877, 'combin': 878, 'band': 879, 'concept': 880, 'rich': 881, 'answer': 882, 'surviv': 883, 'front': 884, 'sweet': 885, 'christma': 886, 'insid': 887, 'concern': 888, 'bare': 889, 'eat': 890, 'listen': 891, 'ben': 892, 'beat': 893, 'c': 894, 'term': 895, 'serv': 896, 'german': 897, 'meant': 898, 'la': 899, 'stereotyp': 900, 'hardli': 901, 'innoc': 902, 'law': 903, 'desper': 904, 'memori': 905, 'promis': 906, 'intent': 907, 'cute': 908, 'variou': 909, 'inform': 910, 'steal': 911, 'brain': 912, 'post': 913, 'tone': 914, 'island': 915, 'amount': 916, 'compani': 917, 'nuditi': 918, 'track': 919, 'claim': 920, 'store': 921, 'flat': 922, '50': 923, 'hair': 924, 'univers': 925, 'land': 926, 'scott': 927, 'danger': 928, 'kick': 929, 'fairli': 930, 'player': 931, 'crew': 932, 'step': 933, 'plain': 934, 'toni': 935, 'share': 936, 'centuri': 937, 'tast': 938, 'achiev': 939, 'engag': 940, 'cold': 941, 'travel': 942, 'suit': 943, 'record': 944, 'rip': 945, 'manner': 946, 'sadli': 947, 'wrote': 948, 'tension': 949, 'spot': 950, 'intens': 951, 'fascin': 952, 'familiar': 953, 'remark': 954, 'depth': 955, 'burn': 956, 'destroy': 957, 'histor': 958, 'sleep': 959, 'purpos': 960, 'languag': 961, 'ruin': 962, 'ignor': 963, 'delight': 964, 'italian': 965, 'unbeliev': 966, 'soul': 967, 'abil': 968, 'collect': 969, 'detect': 970, 'clever': 971, 'violent': 972, 'rape': 973, 'reach': 974, 'door': 975, 'scienc': 976, 'liter': 977, 'trash': 978, 'commun': 979, 'reveng': 980, 'caught': 981, 'creatur': 982, 'approach': 983, 'trip': 984, 'intrigu': 985, 'fashion': 986, 'introduc': 987, 'skill': 988, 'paint': 989, 'complex': 990, 'channel': 991, 'camp': 992, 'christian': 993, 'hole': 994, 'extra': 995, 'limit': 996, 'immedi': 997, 'ann': 998, 'mental': 999, 'mere': 1000, 'slightli': 1001, 'million': 1002, '6': 1003, 'comput': 1004, 'conclus': 1005, 'slasher': 1006, 'imposs': 1007, 'suddenli': 1008, 'crimin': 1009, 'neither': 1010, 'teen': 1011, 'physic': 1012, 'spent': 1013, 'nation': 1014, 'respons': 1015, 'planet': 1016, 'receiv': 1017, 'fake': 1018, 'blue': 1019, 'sick': 1020, 'bizarr': 1021, 'embarrass': 1022, 'indian': 1023, 'ring': 1024, '15': 1025, 'drop': 1026, 'pop': 1027, 'drag': 1028, 'haunt': 1029, 'pointless': 1030, 'suspect': 1031, 'search': 1032, 'edg': 1033, 'handl': 1034, 'common': 1035, 'biggest': 1036, 'faith': 1037, 'hurt': 1038, 'arriv': 1039, 'technic': 1040, 'angel': 1041, 'genuin': 1042, 'dad': 1043, 'f': 1044, 'solid': 1045, 'awesom': 1046, 'focu': 1047, 'colleg': 1048, 'former': 1049, 'van': 1050, 'count': 1051, 'tear': 1052, 'heavi': 1053, 'rais': 1054, 'wall': 1055, 'visit': 1056, 'laughabl': 1057, 'younger': 1058, 'sign': 1059, 'fair': 1060, 'excus': 1061, 'cult': 1062, 'key': 1063, 'motion': 1064, 'tough': 1065, 'desir': 1066, 'super': 1067, 'stun': 1068, 'addit': 1069, 'cloth': 1070, 'exploit': 1071, 'smith': 1072, 'tortur': 1073, 'race': 1074, 'davi': 1075, 'author': 1076, 'cross': 1077, 'jim': 1078, 'compel': 1079, 'focus': 1080, 'minor': 1081, 'consist': 1082, 'pathet': 1083, 'commit': 1084, 'chemistri': 1085, 'park': 1086, 'tradit': 1087, 'obsess': 1088, 'frank': 1089, 'grade': 1090, '60': 1091, 'asid': 1092, 'brutal': 1093, 'steve': 1094, 'somewher': 1095, 'opportun': 1096, 'explor': 1097, 'u': 1098, 'rule': 1099, 'depress': 1100, 'grant': 1101, 'honest': 1102, 'besid': 1103, 'anti': 1104, 'dub': 1105, 'trailer': 1106, 'intend': 1107, 'bar': 1108, 'longer': 1109, 'west': 1110, 'scientist': 1111, 'regard': 1112, 'judg': 1113, 'decad': 1114, 'silent': 1115, 'armi': 1116, 'creativ': 1117, 'wild': 1118, 'stewart': 1119, 'g': 1120, 'south': 1121, 'draw': 1122, 'road': 1123, 'govern': 1124, 'ex': 1125, 'boss': 1126, 'practic': 1127, 'festiv': 1128, 'gang': 1129, 'motiv': 1130, 'club': 1131, 'surprisingli': 1132, 'redeem': 1133, 'page': 1134, 'green': 1135, 'london': 1136, 'militari': 1137, 'idiot': 1138, 'machin': 1139, 'display': 1140, 'aliv': 1141, 'repeat': 1142, 'thrill': 1143, 'yeah': 1144, 'folk': 1145, '100': 1146, 'nobodi': 1147, '40': 1148, 'journey': 1149, 'garbag': 1150, 'smile': 1151, 'ground': 1152, 'tire': 1153, 'mood': 1154, 'bought': 1155, 'sam': 1156, 'cost': 1157, 'stone': 1158, 'noir': 1159, 'mouth': 1160, 'agent': 1161, 'terrif': 1162, 'utterli': 1163, 'requir': 1164, 'sexi': 1165, 'area': 1166, 'honestli': 1167, 'geniu': 1168, 'report': 1169, 'glad': 1170, 'investig': 1171, 'humour': 1172, 'enter': 1173, 'serial': 1174, 'narr': 1175, 'passion': 1176, 'occasion': 1177, 'climax': 1178, 'marriag': 1179, 'studi': 1180, 'industri': 1181, 'ship': 1182, 'nowher': 1183, 'center': 1184, 'demon': 1185, 'charli': 1186, 'bear': 1187, 'loos': 1188, 'hors': 1189, 'wow': 1190, 'hang': 1191, 'graphic': 1192, 'admir': 1193, 'giant': 1194, 'send': 1195, 'loud': 1196, 'damn': 1197, 'rel': 1198, 'profession': 1199, 'subtl': 1200, 'nake': 1201, 'blow': 1202, 'bottom': 1203, 'insult': 1204, 'batman': 1205, 'boyfriend': 1206, 'kelli': 1207, 'r': 1208, 'doubl': 1209, 'initi': 1210, 'frame': 1211, 'gem': 1212, 'opera': 1213, 'affect': 1214, 'church': 1215, 'cinemat': 1216, 'challeng': 1217, 'drawn': 1218, 'j': 1219, 'l': 1220, 'fulli': 1221, 'nightmar': 1222, 'evid': 1223, 'seek': 1224, 'arm': 1225, 'conflict': 1226, 'essenti': 1227, 'grace': 1228, 'wind': 1229, 'henri': 1230, 'christoph': 1231, 'witch': 1232, 'narrat': 1233, 'assum': 1234, 'push': 1235, 'hunt': 1236, 'chri': 1237, 'wise': 1238, 'nomin': 1239, 'month': 1240, 'repres': 1241, 'avail': 1242, 'hide': 1243, 'affair': 1244, 'sceneri': 1245, 'bond': 1246, 'smart': 1247, 'justic': 1248, 'thu': 1249, 'flashback': 1250, 'interview': 1251, 'outstand': 1252, 'presenc': 1253, 'constantli': 1254, 'satisfi': 1255, 'bed': 1256, 'central': 1257, 'content': 1258, 'iron': 1259, 'sell': 1260, 'gag': 1261, 'everybodi': 1262, 'slowli': 1263, 'hotel': 1264, 'hire': 1265, 'system': 1266, 'charl': 1267, 'individu': 1268, 'adam': 1269, 'hey': 1270, 'thrown': 1271, 'jone': 1272, 'allen': 1273, 'mediocr': 1274, 'ray': 1275, 'lesson': 1276, 'billi': 1277, 'photographi': 1278, 'cameo': 1279, 'fellow': 1280, 'pari': 1281, 'strike': 1282, 'rise': 1283, 'brief': 1284, 'absurd': 1285, 'independ': 1286, 'neg': 1287, 'impact': 1288, 'phone': 1289, 'ill': 1290, 'born': 1291, 'model': 1292, 'spoil': 1293, 'fresh': 1294, 'angl': 1295, 'abus': 1296, 'likabl': 1297, 'discuss': 1298, 'hill': 1299, 'sight': 1300, 'ahead': 1301, 'photograph': 1302, 'sent': 1303, 'occur': 1304, 'shine': 1305, 'logic': 1306, 'blame': 1307, 'mainli': 1308, 'bruce': 1309, 'forev': 1310, 'commerci': 1311, 'skip': 1312, 'surround': 1313, 'teacher': 1314, 'held': 1315, 'segment': 1316, 'blond': 1317, 'zero': 1318, 'trap': 1319, 'summer': 1320, 'satir': 1321, 'resembl': 1322, 'ball': 1323, 'queen': 1324, 'fool': 1325, 'six': 1326, 'sub': 1327, 'twice': 1328, 'tragedi': 1329, 'reaction': 1330, 'pack': 1331, 'bomb': 1332, 'hospit': 1333, 'will': 1334, 'protagonist': 1335, 'mile': 1336, 'sport': 1337, 'jerri': 1338, 'trust': 1339, 'mom': 1340, 'vote': 1341, 'drink': 1342, 'encount': 1343, 'plane': 1344, 'program': 1345, 'current': 1346, 'al': 1347, 'station': 1348, 'martin': 1349, 'choos': 1350, 'celebr': 1351, 'join': 1352, 'lord': 1353, 'round': 1354, 'tragic': 1355, 'field': 1356, 'favourit': 1357, 'jean': 1358, 'vision': 1359, 'robot': 1360, 'arthur': 1361, 'tie': 1362, 'random': 1363, 'fortun': 1364, 'roger': 1365, 'dread': 1366, 'psycholog': 1367, 'intern': 1368, 'nonsens': 1369, 'epic': 1370, 'prefer': 1371, 'improv': 1372, 'formula': 1373, 'pleasur': 1374, 'highlight': 1375, 'legend': 1376, '11': 1377, 'dollar': 1378, 'tape': 1379, 'gorgeou': 1380, 'fox': 1381, 'porn': 1382, 'object': 1383, 'wide': 1384, 'thin': 1385, 'influenc': 1386, 'buddi': 1387, 'ugli': 1388, 'prepar': 1389, 'ii': 1390, 'nasti': 1391, 'progress': 1392, 'supposedli': 1393, 'reflect': 1394, 'warm': 1395, 'worthi': 1396, 'youth': 1397, 'unusu': 1398, 'length': 1399, 'latter': 1400, 'crash': 1401, 'shop': 1402, 'childhood': 1403, 'superior': 1404, 'seven': 1405, 'remot': 1406, 'theatr': 1407, 'disgust': 1408, 'funniest': 1409, 'paid': 1410, 'pilot': 1411, 'convers': 1412, 'castl': 1413, 'trick': 1414, 'fell': 1415, 'rob': 1416, 'disast': 1417, 'establish': 1418, 'gangster': 1419, 'ident': 1420, 'suicid': 1421, 'disappear': 1422, 'mine': 1423, 'heaven': 1424, 'singer': 1425, 'tend': 1426, 'decis': 1427, 'mask': 1428, 'forgotten': 1429, 'heroin': 1430, 'partner': 1431, 'brian': 1432, 'recogn': 1433, 'desert': 1434, 'alan': 1435, 'thoroughli': 1436, 'stuck': 1437, 'sky': 1438, 'ms': 1439, 'p': 1440, 'accur': 1441, 'replac': 1442, 'market': 1443, 'commentari': 1444, 'seemingli': 1445, 'eddi': 1446, 'clue': 1447, 'andi': 1448, 'uncl': 1449, 'danni': 1450, 'jackson': 1451, 'devil': 1452, 'pair': 1453, 'therefor': 1454, 'that': 1455, 'refus': 1456, 'fate': 1457, 'accid': 1458, 'unit': 1459, 'river': 1460, 'ed': 1461, 'fault': 1462, 'tune': 1463, 'afraid': 1464, 'hidden': 1465, 'clean': 1466, 'stephen': 1467, 'russian': 1468, 'test': 1469, 'irrit': 1470, 'quick': 1471, 'convey': 1472, 'instanc': 1473, 'captain': 1474, 'readi': 1475, 'european': 1476, 'daniel': 1477, 'frustrat': 1478, 'insan': 1479, 'rescu': 1480, 'food': 1481, 'wed': 1482, '1950': 1483, 'chines': 1484, 'angri': 1485, 'lock': 1486, 'dirti': 1487, 'joy': 1488, 'price': 1489, 'steven': 1490, 'bland': 1491, 'cage': 1492, 'rang': 1493, 'anymor': 1494, 'wooden': 1495, 'rush': 1496, 'n': 1497, 'jason': 1498, 'news': 1499, 'led': 1500, '12': 1501, 'worri': 1502, 'twenti': 1503, 'martial': 1504, 'board': 1505, 'symbol': 1506, 'transform': 1507, 'hunter': 1508, 'cgi': 1509, 'sentiment': 1510, 'piti': 1511, 'x': 1512, 'johnni': 1513, 'invent': 1514, 'onto': 1515, 'process': 1516, 'attitud': 1517, 'explan': 1518, 'owner': 1519, 'awar': 1520, 'aim': 1521, 'necessari': 1522, 'floor': 1523, 'favor': 1524, 'target': 1525, 'energi': 1526, 'religi': 1527, 'opposit': 1528, 'blind': 1529, 'window': 1530, 'insight': 1531, 'chick': 1532, 'movement': 1533, 'comparison': 1534, 'research': 1535, 'mountain': 1536, 'possess': 1537, 'deepli': 1538, 'rain': 1539, 'whatsoev': 1540, 'comed': 1541, 'grand': 1542, 'mid': 1543, 'began': 1544, 'bank': 1545, 'shadow': 1546, 'parodi': 1547, 'princ': 1548, 'friendship': 1549, 'weapon': 1550, 'credibl': 1551, 'pre': 1552, 'taylor': 1553, 'dougla': 1554, 'flesh': 1555, 'teach': 1556, 'protect': 1557, 'bloodi': 1558, 'terror': 1559, 'hint': 1560, 'marvel': 1561, 'drunk': 1562, 'leader': 1563, 'watchabl': 1564, 'load': 1565, 'anybodi': 1566, 'superman': 1567, 'accord': 1568, 'brown': 1569, 'freddi': 1570, 'appropri': 1571, 'hitler': 1572, 'jeff': 1573, 'seat': 1574, 'tim': 1575, 'keaton': 1576, 'charg': 1577, 'villag': 1578, 'knock': 1579, 'unknown': 1580, 'empti': 1581, 'media': 1582, 'unnecessari': 1583, 'enemi': 1584, 'england': 1585, 'perspect': 1586, 'craft': 1587, 'strength': 1588, 'buck': 1589, 'wave': 1590, 'utter': 1591, 'dare': 1592, 'nativ': 1593, 'contrast': 1594, 'correct': 1595, 'kiss': 1596, 'ford': 1597, 'magnific': 1598, 'chill': 1599, 'soap': 1600, 'anywher': 1601, 'distract': 1602, 'speed': 1603, 'knowledg': 1604, 'nazi': 1605, 'mission': 1606, 'ice': 1607, 'breath': 1608, '1980': 1609, 'fred': 1610, 'jr': 1611, 'joan': 1612, 'moon': 1613, 'crowd': 1614, '000': 1615, 'frighten': 1616, 'kate': 1617, 'soft': 1618, 'hundr': 1619, 'nick': 1620, 'dick': 1621, 'dan': 1622, 'dozen': 1623, 'radio': 1624, 'somebodi': 1625, 'simon': 1626, 'shakespear': 1627, 'loss': 1628, 'thousand': 1629, 'academi': 1630, 'andrew': 1631, 'root': 1632, 'quot': 1633, 'vehicl': 1634, 'account': 1635, 'sum': 1636, 'leg': 1637, '1970': 1638, 'convent': 1639, 'behavior': 1640, 'gold': 1641, 'regular': 1642, 'demand': 1643, 'worker': 1644, 'compet': 1645, 'pretenti': 1646, 'interpret': 1647, 'explos': 1648, 'privat': 1649, 'stretch': 1650, 'candi': 1651, 'lynch': 1652, 'notabl': 1653, 'japan': 1654, 'constant': 1655, 'debut': 1656, 'tarzan': 1657, 'prais': 1658, 'translat': 1659, 'revolv': 1660, 'sea': 1661, 'spi': 1662, 'franc': 1663, 'failur': 1664, 'quiet': 1665, 'jesu': 1666, 'threaten': 1667, 'ass': 1668, 'sat': 1669, 'technolog': 1670, 'toy': 1671, 'punch': 1672, 'met': 1673, 'higher': 1674, 'aid': 1675, 'kevin': 1676, 'interact': 1677, 'abandon': 1678, 'mike': 1679, 'vh': 1680, 'separ': 1681, 'bet': 1682, 'command': 1683, 'confront': 1684, 'site': 1685, 'recal': 1686, 'stunt': 1687, 'gotten': 1688, 'belong': 1689, 'techniqu': 1690, 'servic': 1691, 'cabl': 1692, 'bug': 1693, 'freak': 1694, 'foot': 1695, 'jimmi': 1696, 'bright': 1697, 'african': 1698, 'capabl': 1699, 'fu': 1700, 'fat': 1701, 'stock': 1702, 'succeed': 1703, 'presid': 1704, 'clark': 1705, 'boat': 1706, 'gene': 1707, 'spanish': 1708, 'structur': 1709, 'kidnap': 1710, 'paper': 1711, 'factor': 1712, 'belief': 1713, 'whilst': 1714, 'tree': 1715, 'bob': 1716, 'educ': 1717, 'complic': 1718, 'attend': 1719, 'realis': 1720, 'realism': 1721, 'witti': 1722, 'broken': 1723, 'finest': 1724, 'assist': 1725, 'santa': 1726, 'smoke': 1727, 'v': 1728, 'depart': 1729, 'observ': 1730, 'up': 1731, 'determin': 1732, 'lewi': 1733, 'hat': 1734, 'rubbish': 1735, 'domin': 1736, 'oper': 1737, 'fame': 1738, 'routin': 1739, 'morgan': 1740, 'safe': 1741, 'foreign': 1742, 'kinda': 1743, 'lone': 1744, 'advanc': 1745, 'hook': 1746, 'rank': 1747, 'numer': 1748, 'vs': 1749, 'rose': 1750, 'civil': 1751, 'shallow': 1752, 'shape': 1753, 'washington': 1754, 'werewolf': 1755, 'morn': 1756, 'gari': 1757, 'ordinari': 1758, 'kong': 1759, 'winner': 1760, 'accomplish': 1761, 'whenev': 1762, 'grab': 1763, 'virtual': 1764, 'peac': 1765, 'luck': 1766, 'offens': 1767, 'h': 1768, 'patient': 1769, 'welcom': 1770, 'bigger': 1771, 'contriv': 1772, 'activ': 1773, 'unfunni': 1774, 'complain': 1775, 'dimension': 1776, 'trek': 1777, 'con': 1778, 'pretend': 1779, 'flash': 1780, 'code': 1781, 'wake': 1782, 'cain': 1783, 'dri': 1784, 'lesbian': 1785, 'eric': 1786, 'manipul': 1787, 'guard': 1788, 'corrupt': 1789, 'statu': 1790, 'dancer': 1791, 'albert': 1792, 'sourc': 1793, 'context': 1794, 'speech': 1795, 'awkward': 1796, 'gain': 1797, 'signific': 1798, 'anthoni': 1799, 'corni': 1800, 'psycho': 1801, '13': 1802, 'clip': 1803, 'sean': 1804, 'reli': 1805, 'priest': 1806, 'advic': 1807, 'religion': 1808, 'theatric': 1809, 'w': 1810, 'curiou': 1811, 'addict': 1812, 'flow': 1813, 'secur': 1814, 'asian': 1815, 'jennif': 1816, 'howard': 1817, 'specif': 1818, 'skin': 1819, 'comfort': 1820, 'organ': 1821, 'golden': 1822, 'promot': 1823, 'core': 1824, 'luke': 1825, 'lucki': 1826, 'cheat': 1827, 'cash': 1828, 'associ': 1829, 'lower': 1830, 'dislik': 1831, 'spell': 1832, 'frequent': 1833, 'contribut': 1834, 'balanc': 1835, 'frankli': 1836, 'devic': 1837, 'degre': 1838, 'wing': 1839, 'regret': 1840, 'lake': 1841, 'forgiv': 1842, 'print': 1843, 'sake': 1844, 'thoma': 1845, 'betti': 1846, 'mass': 1847, 'crack': 1848, 'gordon': 1849, 'unexpect': 1850, 'invit': 1851, 'unfold': 1852, 'amateur': 1853, 'categori': 1854, 'construct': 1855, 'depend': 1856, 'grown': 1857, 'anna': 1858, 'intellectu': 1859, 'walter': 1860, 'matur': 1861, 'grew': 1862, 'honor': 1863, 'condit': 1864, 'spectacular': 1865, 'veteran': 1866, 'sole': 1867, 'sudden': 1868, 'mirror': 1869, 'grip': 1870, 'liner': 1871, 'gift': 1872, 'experienc': 1873, 'meanwhil': 1874, 'demonstr': 1875, 'freedom': 1876, 'overli': 1877, 'card': 1878, 'robin': 1879, 'brilliantli': 1880, 'circumst': 1881, 'section': 1882, 'colour': 1883, 'drew': 1884, 'unabl': 1885, 'sheriff': 1886, 'theori': 1887, 'oliv': 1888, 'crappi': 1889, 'subtitl': 1890, 'altern': 1891, 'matt': 1892, 'sheer': 1893, 'pile': 1894, 'path': 1895, 'laughter': 1896, 'parker': 1897, 'cook': 1898, 'hall': 1899, 'defin': 1900, 'treatment': 1901, 'relief': 1902, 'accident': 1903, 'sinatra': 1904, 'wander': 1905, 'lawyer': 1906, 'captiv': 1907, 'hank': 1908, 'dragon': 1909, 'halloween': 1910, 'gratuit': 1911, 'moor': 1912, 'k': 1913, 'barbara': 1914, 'broadway': 1915, 'wayn': 1916, 'wound': 1917, 'cowboy': 1918, 'kung': 1919, 'jacki': 1920, 'unintent': 1921, 'winter': 1922, 'spoof': 1923, 'statement': 1924, 'surreal': 1925, 'canadian': 1926, 'treasur': 1927, 'fare': 1928, 'compos': 1929, 'cheer': 1930, 'gonna': 1931, 'fish': 1932, 'victor': 1933, 'sensit': 1934, 'unrealist': 1935, 'emerg': 1936, 'woodi': 1937, 'sympathet': 1938, 'neighbor': 1939, 'driven': 1940, 'ran': 1941, 'expos': 1942, 'glass': 1943, 'menac': 1944, 'overlook': 1945, 'authent': 1946, 'topic': 1947, 'chief': 1948, 'handsom': 1949, 'ancient': 1950, 'gross': 1951, 'michel': 1952, 'nevertheless': 1953, 'feet': 1954, 'comedian': 1955, 'contemporari': 1956, 'pleasant': 1957, 'built': 1958, 'stranger': 1959, 'cinderella': 1960, 'russel': 1961, 'network': 1962, 'letter': 1963, 'miser': 1964, 'endless': 1965, 'earn': 1966, 'consider': 1967, 'blockbust': 1968, 'underr': 1969, 'gori': 1970, 'brook': 1971, 'solv': 1972, 'switch': 1973, 'joseph': 1974, 'bullet': 1975, 'convict': 1976, 'virgin': 1977, 'edward': 1978, 'victoria': 1979, 'chosen': 1980, 'alex': 1981, 'scale': 1982, 'cynic': 1983, 'scenario': 1984, '0': 1985, 'com': 1986, 'outrag': 1987, 'curs': 1988, 'gut': 1989, 'sword': 1990, 'proper': 1991, 'wrap': 1992, 'juli': 1993, 'uk': 1994, 'screenwrit': 1995, 'driver': 1996, 'substanc': 1997, 'monkey': 1998, 'remov': 1999, 'par': 2000, 'court': 2001, 'indic': 2002, 'bird': 2003, 'inevit': 2004, 'nanci': 2005, 'rental': 2006, 'consequ': 2007, 'loser': 2008, 'naiv': 2009, 'roy': 2010, 'advertis': 2011, 'grave': 2012, 'invis': 2013, 'brave': 2014, 'slap': 2015, 'le': 2016, 'germani': 2017, 'bridg': 2018, 'fatal': 2019, 'provok': 2020, 'loui': 2021, 'ador': 2022, 'anger': 2023, 'footbal': 2024, 'alcohol': 2025, 'chan': 2026, 'anderson': 2027, 'stumbl': 2028, 'professor': 2029, 'willi': 2030, 'ryan': 2031, 'sharp': 2032, '1930': 2033, 'assassin': 2034, 'patrick': 2035, 'bat': 2036, 'australian': 2037, 'strongli': 2038, 'trilog': 2039, 'cell': 2040, 'eight': 2041, 'liber': 2042, 'refresh': 2043, 'amateurish': 2044, 'lousi': 2045, 'saturday': 2046, 'ape': 2047, 'deni': 2048, 'heck': 2049, 'sin': 2050, 'vagu': 2051, 'justifi': 2052, 'san': 2053, 'resid': 2054, 'sympathi': 2055, 'indi': 2056, 'creator': 2057, 'defeat': 2058, 'terrifi': 2059, 'reput': 2060, 'mini': 2061, 'endur': 2062, 'prevent': 2063, 'expert': 2064, 'task': 2065, 'tabl': 2066, 'tediou': 2067, 'offend': 2068, 'employ': 2069, 'trial': 2070, 'imit': 2071, 'rival': 2072, 'basebal': 2073, 'che': 2074, 'europ': 2075, 'max': 2076, 'fairi': 2077, 'weekend': 2078, 'pitch': 2079, 'dig': 2080, 'beach': 2081, 'complaint': 2082, 'format': 2083, 'purchas': 2084, 'risk': 2085, 'murphi': 2086, 'hype': 2087, 'reminisc': 2088, 'glimps': 2089, 'harsh': 2090, 'bite': 2091, 'nois': 2092, 'powel': 2093, 'titan': 2094, 'tini': 2095, 'north': 2096, 'prime': 2097, 'asleep': 2098, '14': 2099, 'fals': 2100, 'strip': 2101, 'till': 2102, 'revel': 2103, 'destruct': 2104, 'africa': 2105, 'texa': 2106, 'descript': 2107, 'surfac': 2108, 'inner': 2109, 'spin': 2110, 'excess': 2111, 'semi': 2112, 'uninterest': 2113, 'sitcom': 2114, 'arrest': 2115, 'maintain': 2116, 'twin': 2117, 'argu': 2118, 'dinosaur': 2119, 'controversi': 2120, 'hitchcock': 2121, 'massiv': 2122, 'makeup': 2123, 'kim': 2124, 'ideal': 2125, 'insist': 2126, 'reject': 2127, 'ludicr': 2128, 'melodrama': 2129, 'stare': 2130, 'expens': 2131, 'erot': 2132, 'supernatur': 2133, 'ala': 2134, 'nail': 2135, 'press': 2136, 'forest': 2137, 'columbo': 2138, 'host': 2139, 'ga': 2140, 'atroci': 2141, 'subplot': 2142, 'notch': 2143, 'cant': 2144, 'identifi': 2145, 'dude': 2146, 'presum': 2147, 'crude': 2148, 'forgett': 2149, 'character': 2150, 'plagu': 2151, 'method': 2152, 'closer': 2153, 'guest': 2154, 'ear': 2155, 'princess': 2156, 'border': 2157, 'landscap': 2158, 'lion': 2159, 'beast': 2160, 'foster': 2161, 'aunt': 2162, 'urban': 2163, 'accus': 2164, 'storytel': 2165, 'previous': 2166, 'bound': 2167, 'pacino': 2168, 'jungl': 2169, 'birth': 2170, 'damag': 2171, 'doll': 2172, 'chose': 2173, 'guid': 2174, 'thirti': 2175, 'nude': 2176, 'emma': 2177, 'jess': 2178, 'propaganda': 2179, 'mainstream': 2180, 'warrior': 2181, 'whoever': 2182, 'pet': 2183, '25': 2184, 'mate': 2185, 'cooper': 2186, 'merit': 2187, 'upset': 2188, 'deadli': 2189, 'size': 2190, 'friday': 2191, 'gritti': 2192, 'latest': 2193, 'poster': 2194, 'exact': 2195, 'wilson': 2196, 'warner': 2197, 'ton': 2198, 'blend': 2199, 'citizen': 2200, 'settl': 2201, 'rough': 2202, 'popul': 2203, 'sun': 2204, 'corps': 2205, 'buff': 2206, '1990': 2207, 'contact': 2208, 'contest': 2209, 'environ': 2210, 'metal': 2211, 'widow': 2212, 'alic': 2213, 'bu': 2214, 'mgm': 2215, 'overcom': 2216, 'rat': 2217, 'select': 2218, 'pitt': 2219, 'guilti': 2220, 'ted': 2221, 'particip': 2222, 'link': 2223, 'revolut': 2224, 'lift': 2225, 'corner': 2226, 'johnson': 2227, 'accompani': 2228, 'moron': 2229, 'prostitut': 2230, 'corpor': 2231, 'matrix': 2232, 'afternoon': 2233, '1960': 2234, 'exagger': 2235, 'doom': 2236, 'clair': 2237, 'instal': 2238, 'friendli': 2239, 'sincer': 2240, 'multipl': 2241, 'holm': 2242, 'leagu': 2243, 'hood': 2244, 'advis': 2245, 'string': 2246, 'aka': 2247, 'hip': 2248, 'sunday': 2249, 'defend': 2250, 'blah': 2251, 'grim': 2252, 'irish': 2253, 'examin': 2254, 'junk': 2255, 'campi': 2256, 'lugosi': 2257, 'varieti': 2258, 'shake': 2259, 'confid': 2260, 'icon': 2261, 'shut': 2262, 'rachel': 2263, 'pro': 2264, 'tight': 2265, 'sullivan': 2266, 'denni': 2267, 'mexican': 2268, 'directli': 2269, 'jaw': 2270, 'attach': 2271, 'goal': 2272, 'medic': 2273, 'legendari': 2274, 'truck': 2275, 'prior': 2276, 'breast': 2277, 'dean': 2278, 'sarah': 2279, 'sentenc': 2280, 'vietnam': 2281, 'courag': 2282, 'duke': 2283, 'terrorist': 2284, 'bourn': 2285, 'split': 2286, 'yell': 2287, 'proceed': 2288, 'hong': 2289, 'entri': 2290, 'un': 2291, 'nose': 2292, 'donald': 2293, 'behav': 2294, 'concentr': 2295, 'borrow': 2296, 'gather': 2297, 'confess': 2298, 'buri': 2299, 'forth': 2300, 'lifetim': 2301, 'crush': 2302, 'unconvinc': 2303, 'everywher': 2304, 'swim': 2305, 'jerk': 2306, 'stolen': 2307, 'lip': 2308, 'pan': 2309, 'julia': 2310, 'deliveri': 2311, 'spite': 2312, 'turkey': 2313, 'california': 2314, 'hoffman': 2315, 'quest': 2316, 'downright': 2317, 'flight': 2318, 'china': 2319, 'offici': 2320, 'freeman': 2321, 'proud': 2322, 'reward': 2323, 'worthwhil': 2324, 'jon': 2325, 'sir': 2326, 'notori': 2327, 'lazi': 2328, 'fabul': 2329, 'fade': 2330, 'encourag': 2331, 'sink': 2332, 'inept': 2333, 'betray': 2334, 'jail': 2335, 'branagh': 2336, 'bag': 2337, 'storm': 2338, 'lisa': 2339, 'imageri': 2340, 'teeth': 2341, 'cousin': 2342, 'shower': 2343, 'retard': 2344, 'susan': 2345, 'bell': 2346, 'survivor': 2347, 'relev': 2348, 'facial': 2349, 'tremend': 2350, 'summari': 2351, 'stab': 2352, 'finger': 2353, 'hugh': 2354, 'trade': 2355, 'toler': 2356, 'quirki': 2357, 'bride': 2358, 'mexico': 2359, 'alright': 2360, 'shark': 2361, 'bitter': 2362, 'von': 2363, 'pose': 2364, 'hyster': 2365, 'blown': 2366, 'ha': 2367, 'address': 2368, 'scheme': 2369, 'ron': 2370, 'afterward': 2371, 'bone': 2372, 'ned': 2373, 'cruel': 2374, 'christ': 2375, 'larri': 2376, 'thumb': 2377, 'distinct': 2378, 'beg': 2379, 'tour': 2380, 'traci': 2381, 'pursu': 2382, 'feed': 2383, 'swear': 2384, 'snake': 2385, 'screw': 2386, 'raw': 2387, 'stomach': 2388, 'obscur': 2389, 'photo': 2390, 'mechan': 2391, 'occas': 2392, 'chair': 2393, 'southern': 2394, 'heavili': 2395, 'resist': 2396, 'cabin': 2397, 'chain': 2398, 'holiday': 2399, 'gruesom': 2400, 'render': 2401, 'hardi': 2402, 'sidney': 2403, 'necessarili': 2404, 'argument': 2405, 'understood': 2406, 'philip': 2407, 'racist': 2408, 'satan': 2409, 'india': 2410, 'indulg': 2411, 'belov': 2412, 'forgot': 2413, 'stalk': 2414, 'midnight': 2415, 'obnoxi': 2416, 'integr': 2417, 'lay': 2418, 'pregnant': 2419, 'tongu': 2420, 'fourth': 2421, 'outfit': 2422, 'slapstick': 2423, 'ticket': 2424, 'inhabit': 2425, '17': 2426, 'restor': 2427, 'deeper': 2428, 'carol': 2429, 'magazin': 2430, 'garden': 2431, 'devot': 2432, 'shoe': 2433, 'incid': 2434, 'brad': 2435, 'lincoln': 2436, 'benefit': 2437, 'sandler': 2438, 'elizabeth': 2439, 'anticip': 2440, 'lili': 2441, 'guarante': 2442, 'underground': 2443, 'disbelief': 2444, 'divorc': 2445, 'maria': 2446, 'princip': 2447, 'amazingli': 2448, 'capit': 2449, 'greater': 2450, 'creation': 2451, 'slave': 2452, 'bbc': 2453, 'mildli': 2454, 'cring': 2455, 'explod': 2456, 'introduct': 2457, 'halfway': 2458, 'funnier': 2459, 'lesli': 2460, 'extraordinari': 2461, 'tap': 2462, 'extent': 2463, 'overwhelm': 2464, 'transfer': 2465, 'wreck': 2466, 'enhanc': 2467, 'text': 2468, 'advantag': 2469, 'punish': 2470, 'jessica': 2471, 'dynam': 2472, 'error': 2473, 'east': 2474, 'preview': 2475, 'deliber': 2476, 'horrif': 2477, 'lo': 2478, 'lane': 2479, 'plant': 2480, 'appli': 2481, 'sophist': 2482, 'basi': 2483, 'ensu': 2484, 'miller': 2485, 'vincent': 2486, '2000': 2487, 'homosexu': 2488, 'vacat': 2489, 'miscast': 2490, 'measur': 2491, 'uncomfort': 2492, 'extend': 2493, 'mansion': 2494, 'bollywood': 2495, 'elev': 2496, 'via': 2497, 'spoken': 2498, 'sleazi': 2499, 'reed': 2500, 'steel': 2501, 'overact': 2502, 'conceiv': 2503, 'breathtak': 2504, 'fix': 2505, 'alter': 2506, 'goofi': 2507, 'beer': 2508, 'mous': 2509, 'blair': 2510, 'daili': 2511, 'stanley': 2512, 'assign': 2513, 'savag': 2514, 'hippi': 2515, 'dentist': 2516, 'cathol': 2517, 'melt': 2518, 'inspector': 2519, 'properli': 2520, 'subsequ': 2521, 'succe': 2522, 'burt': 2523, 'oppos': 2524, 'everyday': 2525, 'nowaday': 2526, 'sacrific': 2527, 'carpent': 2528, 'neck': 2529, 'circl': 2530, 'massacr': 2531, 'block': 2532, 'laura': 2533, 'access': 2534, 'christi': 2535, 'grey': 2536, 'portrait': 2537, 'concert': 2538, 'mob': 2539, 'lesser': 2540, 'fay': 2541, 'fallen': 2542, 'pool': 2543, 'seagal': 2544, 'usa': 2545, 'competit': 2546, 'relax': 2547, 'chees': 2548, 'sinist': 2549, 'isol': 2550, 'react': 2551, 'jewish': 2552, 'jake': 2553, 'chop': 2554, 'nonetheless': 2555, '2006': 2556, 'spiritu': 2557, 'appal': 2558, 'suitabl': 2559, 'immens': 2560, 'lyric': 2561, 'nine': 2562, 'creep': 2563, 'ironi': 2564, 'stink': 2565, 'luci': 2566, 'spring': 2567, 'sold': 2568, 'showcas': 2569, 'retir': 2570, 'user': 2571, 'shirt': 2572, 'navi': 2573, 'needless': 2574, 'rage': 2575, 'franchis': 2576, 'reduc': 2577, 'nut': 2578, 'adopt': 2579, 'digit': 2580, 'asham': 2581, 'per': 2582, 'uninspir': 2583, 'stanwyck': 2584, 'jay': 2585, 'zone': 2586, 'bath': 2587, 'nurs': 2588, 'bulli': 2589, 'illustr': 2590, '2001': 2591, 'oddli': 2592, '1940': 2593, 'amongst': 2594, 'upper': 2595, 'sutherland': 2596, 'laid': 2597, 'broadcast': 2598, 'disguis': 2599, 'throat': 2600, 'fulfil': 2601, 'aspir': 2602, 'stylish': 2603, 'baker': 2604, 'brando': 2605, 'em': 2606, 'endear': 2607, 'pound': 2608, 'pride': 2609, 'wanna': 2610, 'wwii': 2611, 'thief': 2612, 'neighborhood': 2613, 'impli': 2614, '18': 2615, 'nobl': 2616, 'coher': 2617, 'albeit': 2618, 'cinematograph': 2619, 'dawn': 2620, 'distribut': 2621, 'bett': 2622, 'shoulder': 2623, '16': 2624, 'tens': 2625, 'prop': 2626, 'diseas': 2627, 'dinner': 2628, 'shift': 2629, 'bo': 2630, 'rochest': 2631, 'matthau': 2632, 'silenc': 2633, 'snow': 2634, 'shout': 2635, 'wash': 2636, 'function': 2637, 'poignant': 2638, 'contract': 2639, 'forti': 2640, 'knife': 2641, 'rebel': 2642, 'surf': 2643, 'duti': 2644, 'horrend': 2645, 'eeri': 2646, 'widmark': 2647, 'chuck': 2648, 'proof': 2649, 'mindless': 2650, 'cannib': 2651, 'henc': 2652, 'reunion': 2653, 'height': 2654, 'silver': 2655, 'internet': 2656, 'derek': 2657, 'cancel': 2658, 'instinct': 2659, 'heat': 2660, 'elvira': 2661, 'neat': 2662, 'musician': 2663, 'incoher': 2664, 'absorb': 2665, 'torn': 2666, 'alik': 2667, 'innov': 2668, 'pie': 2669, 'spielberg': 2670, 'mill': 2671, 'greatli': 2672, 'premier': 2673, 'glori': 2674, 'repetit': 2675, 'etern': 2676, 'elvi': 2677, 'homag': 2678, 'announc': 2679, 'precis': 2680, 'trite': 2681, 'infam': 2682, 'burton': 2683, 'blank': 2684, 'britain': 2685, 'horrifi': 2686, 'redempt': 2687, 'itali': 2688, 'bang': 2689, 'lovabl': 2690, 'racism': 2691, 'nelson': 2692, 'diamond': 2693, 'fbi': 2694, 'wealthi': 2695, 'crisi': 2696, 'parallel': 2697, 'ensembl': 2698, 'wilder': 2699, 'resolut': 2700, 'streisand': 2701, 'happili': 2702, 'dedic': 2703, 'helen': 2704, 'chaplin': 2705, 'pat': 2706, 'hammer': 2707, 'flop': 2708, 'carter': 2709, 'broke': 2710, 'factori': 2711, 'conclud': 2712, 'st': 2713, 'triumph': 2714, 'mar': 2715, 'disagre': 2716, 'plastic': 2717, 'oil': 2718, 'cube': 2719, 'weight': 2720, 'march': 2721, 'climb': 2722, 'chuckl': 2723, 'fighter': 2724, 'bush': 2725, 'own': 2726, 'rocket': 2727, 'vega': 2728, 'row': 2729, 'luca': 2730, 'spare': 2731, 'sensibl': 2732, 'thug': 2733, 'unforgett': 2734, 'dump': 2735, 'lust': 2736, 'wherea': 2737, 'dane': 2738, 'boot': 2739, 'meaning': 2740, 'enorm': 2741, 'kurt': 2742, 'mst3k': 2743, 'caricatur': 2744, 'fifti': 2745, 'threat': 2746, 'brand': 2747, 'bobbi': 2748, 'dear': 2749, 'arnold': 2750, 'adequ': 2751, 'engin': 2752, 'stress': 2753, 'difficulti': 2754, 'butt': 2755, 'karloff': 2756, 'rap': 2757, 'polish': 2758, 'secretari': 2759, 'ralph': 2760, 'ego': 2761, 'arrog': 2762, 'fest': 2763, 'elabor': 2764, 'flynn': 2765, 'barri': 2766, 'journalist': 2767, 'homeless': 2768, 'swing': 2769, 'hamlet': 2770, 'unbear': 2771, 'grate': 2772, 'fanci': 2773, 'spike': 2774, 'resort': 2775, 'float': 2776, 'simpson': 2777, 'tool': 2778, 'induc': 2779, 'conspiraci': 2780, 'arrang': 2781, 'puppet': 2782, 'tribut': 2783, 'basement': 2784, 'phillip': 2785, 'guilt': 2786, 'boll': 2787, 'exercis': 2788, 'pig': 2789, 'cruis': 2790, 'choreograph': 2791, 'muppet': 2792, 'document': 2793, 'ham': 2794, 'layer': 2795, 'tower': 2796, 'item': 2797, 'toilet': 2798, 'fianc': 2799, 'stan': 2800, 'babe': 2801, 'korean': 2802, 'slip': 2803, 'ward': 2804, 'file': 2805, '24': 2806, 'medium': 2807, 'scarecrow': 2808, 'editor': 2809, 'puzzl': 2810, 'assur': 2811, 'portion': 2812, 'persona': 2813, 'slaughter': 2814, 'inexplic': 2815, 'orient': 2816, 'philosoph': 2817, 'doc': 2818, 'catherin': 2819, 'territori': 2820, 'transit': 2821, 'glover': 2822, 'minim': 2823, 'spark': 2824, 'superfici': 2825, 'librari': 2826, 'larger': 2827, 'denzel': 2828, 'jeremi': 2829, 'ban': 2830, 'wolf': 2831, 'sneak': 2832, 'walken': 2833, 'owe': 2834, 'pg': 2835, 'boredom': 2836, 'curti': 2837, 'financi': 2838, 'shi': 2839, 'dorothi': 2840, 'jet': 2841, 'metaphor': 2842, 'cusack': 2843, 'hudson': 2844, 'eleph': 2845, 'profound': 2846, 'multi': 2847, 'ambigu': 2848, 'backdrop': 2849, 'whale': 2850, 'gadget': 2851, 'implaus': 2852, 'rave': 2853, 'ultra': 2854, 'hack': 2855, 'elsewher': 2856, 'union': 2857, 'viru': 2858, '2005': 2859, 'stiff': 2860, 'notion': 2861, 'birthday': 2862, 'deriv': 2863, 'urg': 2864, 'distanc': 2865, 'afford': 2866, 'poison': 2867, 'canada': 2868, 'bibl': 2869, 'hawk': 2870, 'squar': 2871, 'slight': 2872, 'lloyd': 2873, 'disc': 2874, 'eva': 2875, 'newspap': 2876, 'reader': 2877, '1st': 2878, 'eastwood': 2879, 'pad': 2880, 'superhero': 2881, 'health': 2882, 'charisma': 2883, 'cure': 2884, 'restaur': 2885, 'button': 2886, 'montag': 2887, 'sadist': 2888, 'heston': 2889, 'skit': 2890, 'essenc': 2891, 'spread': 2892, 'drown': 2893, 'huh': 2894, 'gradual': 2895, 'peak': 2896, 'companion': 2897, 'godfath': 2898, 'fetch': 2899, 'estat': 2900, 'dealt': 2901, 'maniac': 2902, 'lab': 2903, 'scoobi': 2904, 'invest': 2905, 'muslim': 2906, 'servant': 2907, 'alli': 2908, 'kane': 2909, 'miik': 2910, 'subtleti': 2911, 'ritter': 2912, 'gothic': 2913, 'cup': 2914, 'tea': 2915, 'countless': 2916, 'charismat': 2917, 'iii': 2918, 'elect': 2919, 'electr': 2920, 'salli': 2921, 'heroic': 2922, 'briefli': 2923, 'tender': 2924, 'ingredi': 2925, 'reel': 2926, 'bud': 2927, 'cole': 2928, 'wannab': 2929, 'nuanc': 2930, 'grandmoth': 2931, 'toss': 2932, 'neil': 2933, 'resourc': 2934, 'admittedli': 2935, 'stronger': 2936, 'stood': 2937, 'shall': 2938, 'mild': 2939, 'dawson': 2940, 'pauli': 2941, 'mafia': 2942, 'carrey': 2943, 'gate': 2944, 'poverti': 2945, 'kubrick': 2946, 'reev': 2947, 'punk': 2948, 'label': 2949, 'pit': 2950, 'fond': 2951, 'updat': 2952, 'bakshi': 2953, 'useless': 2954, 'easier': 2955, 'smooth': 2956, 'tag': 2957, 'cox': 2958, 'terri': 2959, 'ian': 2960, 'assault': 2961, 'burst': 2962, 'astair': 2963, 'outcom': 2964, 'smash': 2965, 'cardboard': 2966, 'vulner': 2967, 'fist': 2968, '2002': 2969, 'vari': 2970, 'qualifi': 2971, 'sketch': 2972, 'resolv': 2973, 'melodramat': 2974, 'increasingli': 2975, 'coincid': 2976, 'rex': 2977, 'divers': 2978, 'exchang': 2979, 'samurai': 2980, 'scratch': 2981, 'be': 2982, 'reynold': 2983, 'insert': 2984, 'tame': 2985, 'brillianc': 2986, 'blast': 2987, 'conveni': 2988, 'suspend': 2989, 'luckili': 2990, 'templ': 2991, 'hamilton': 2992, 'nuclear': 2993, 'soprano': 2994, 'gotta': 2995, 'pin': 2996, 'jami': 2997, 'strictli': 2998, 'ambiti': 2999, 'fisher': 3000, 'matthew': 3001, 'farm': 3002, 'walker': 3003, 'coach': 3004, 'meat': 3005, 'seventi': 3006, 'timeless': 3007, 'cave': 3008, 'kudo': 3009, 'worthless': 3010, 'butcher': 3011, 'grasp': 3012, 'eccentr': 3013, 'closet': 3014, 'monk': 3015, 'ninja': 3016, 'convolut': 3017, 'recreat': 3018, 'clock': 3019, 'revers': 3020, 'struck': 3021, 'discoveri': 3022, 'spooki': 3023, 'joey': 3024, 'instantli': 3025, 'brosnan': 3026, 'empir': 3027, 'sloppi': 3028, 'fifteen': 3029, 'eighti': 3030, 'miracl': 3031, 'bleak': 3032, 'norman': 3033, 'seller': 3034, 'inconsist': 3035, 'evok': 3036, 'declar': 3037, 'pal': 3038, 'communist': 3039, 'importantli': 3040, 'clown': 3041, 'partli': 3042, 'wipe': 3043, 'mitchel': 3044, 'selfish': 3045, 'gray': 3046, 'sidekick': 3047, 'cliff': 3048, 'flawless': 3049, 'farc': 3050, 'chew': 3051, 'australia': 3052, 'websit': 3053, 'superbl': 3054, 'stoog': 3055, '45': 3056, 'piano': 3057, 'lifestyl': 3058, 'destin': 3059, 'enthusiast': 3060, 'cheek': 3061, 'debat': 3062, 'aforement': 3063, 'psychiatrist': 3064, 'seed': 3065, 'ho': 3066, 'slice': 3067, 'wrestl': 3068, 'directori': 3069, 'drivel': 3070, 'splatter': 3071, 'regardless': 3072, 'soviet': 3073, 'wick': 3074, 'anni': 3075, 'incompet': 3076, 'akshay': 3077, 'bash': 3078, 'pressur': 3079, 'dire': 3080, 'emili': 3081, 'dash': 3082, 'abc': 3083, 'kitchen': 3084, 'curios': 3085, 'artifici': 3086, 'increas': 3087, 'distant': 3088, 'blob': 3089, 'jar': 3090, 'ken': 3091, 'duo': 3092, 'cagney': 3093, 'recov': 3094, 'boil': 3095, 'helicopt': 3096, 'suppli': 3097, 'pleasantli': 3098, 'cia': 3099, 'prize': 3100, 'judi': 3101, 'glow': 3102, 'cameron': 3103, 'beaten': 3104, 'seduc': 3105, 'flower': 3106, 'dave': 3107, 'doo': 3108, 'chapter': 3109, 'mann': 3110, 'lou': 3111, 'perri': 3112, 'drunken': 3113, 'web': 3114, 'psychot': 3115, 'craig': 3116, 'ranger': 3117, 'laurel': 3118, 'hop': 3119, 'panic': 3120, 'goldberg': 3121, 'turner': 3122, 'glenn': 3123, 'francisco': 3124, 'splendid': 3125, 'craven': 3126, 'favour': 3127, 'combat': 3128, 'eleg': 3129, 'ellen': 3130, 'fx': 3131, 'rid': 3132, 'falk': 3133, 'graduat': 3134, 'greek': 3135, 'shortli': 3136, 'hatr': 3137, 'slightest': 3138, 'gandhi': 3139, 'ruth': 3140, '20th': 3141, 'gentl': 3142, 'wizard': 3143, 'alexand': 3144, 'plausibl': 3145, 'min': 3146, 'flip': 3147, 'philosophi': 3148, 'modesti': 3149, 'felix': 3150, 'preciou': 3151, 'ocean': 3152, 'harm': 3153, 'fund': 3154, 'manhattan': 3155, 'tall': 3156, 'dracula': 3157, 'knight': 3158, 'holi': 3159, 'jealou': 3160, 'we': 3161, 'lend': 3162, 'futurist': 3163, 'unpleas': 3164, 'legal': 3165, 'explicit': 3166, 'childish': 3167, 'mock': 3168, 'thread': 3169, 'bless': 3170, 'nod': 3171, 'scientif': 3172, 'ami': 3173, 'reviv': 3174, 'digniti': 3175, 'giallo': 3176, 'overdon': 3177, 'tank': 3178, 'forbidden': 3179, 'awe': 3180, 'verhoeven': 3181, 'awaken': 3182, 'yesterday': 3183, 'nerv': 3184, 'thick': 3185, 'fever': 3186, '2004': 3187, 'broad': 3188, 'torment': 3189, 'pirat': 3190, 'repeatedli': 3191, 'eve': 3192, 'elderli': 3193, 'mel': 3194, '99': 3195, 'unwatch': 3196, 'margaret': 3197, 'eas': 3198, 'absenc': 3199, 'roman': 3200, 'launch': 3201, 'ah': 3202, 'uniform': 3203, 'ambit': 3204, 'bin': 3205, 'politician': 3206, 'publish': 3207, 'rivet': 3208, 'acclaim': 3209, 'timothi': 3210, 'automat': 3211, 'lean': 3212, 'custom': 3213, 'griffith': 3214, 'royal': 3215, 'romero': 3216, 'kay': 3217, 'stiller': 3218, 'darker': 3219, 'sunshin': 3220, 'bathroom': 3221, 'foul': 3222, 'termin': 3223, 'crook': 3224, 'stinker': 3225, 'antic': 3226, 'warren': 3227, 'tomato': 3228, 'wallac': 3229, 'gabriel': 3230, 'purpl': 3231, 'pierc': 3232, 'pulp': 3233, 'phrase': 3234, 'transport': 3235, 'homicid': 3236, 'karen': 3237, 'juvenil': 3238, 'saint': 3239, 'packag': 3240, 'marin': 3241, 'revolutionari': 3242, 'sixti': 3243, 'horrid': 3244, 'prom': 3245, 'donna': 3246, 'coloni': 3247, 'contrari': 3248, 'q': 3249, '2003': 3250, 'rambo': 3251, 'viciou': 3252, 'kenneth': 3253, 'awak': 3254, 'brazil': 3255, 'album': 3256, 'evolv': 3257, 'li': 3258, 'choreographi': 3259, 'eyr': 3260, 'ought': 3261, 'hollow': 3262, 'pray': 3263, 'kapoor': 3264, 'candid': 3265, 'twelv': 3266, 'option': 3267, 'conserv': 3268, 'dose': 3269, 'beatti': 3270, 'nerd': 3271, 'defi': 3272, 'ramon': 3273, 'mildr': 3274, 'boast': 3275, 'blade': 3276, 'stole': 3277, 'mummi': 3278, 'ireland': 3279, 'overr': 3280, 'astonish': 3281, 'trio': 3282, 'altman': 3283, 'collabor': 3284, 'confirm': 3285, 'funer': 3286, 'fulci': 3287, 'protest': 3288, 'detract': 3289, 'natali': 3290, 'flame': 3291, 'kirk': 3292, 'jazz': 3293, 'global': 3294, 'blake': 3295, 'spit': 3296, 'yellow': 3297, 'tommi': 3298, 'leap': 3299, 'mystic': 3300, 'bottl': 3301, 'audio': 3302, 'shade': 3303, 'bull': 3304, 'whip': 3305, 'delici': 3306, 'racial': 3307, 'nicholson': 3308, 'destini': 3309, 'enterpris': 3310, 'visibl': 3311, 'staff': 3312, 'pseudo': 3313, 'vivid': 3314, 'reunit': 3315, 'todd': 3316, 'harder': 3317, 'threw': 3318, 'inherit': 3319, 'bedroom': 3320, 'neo': 3321, 'popcorn': 3322, 'merci': 3323, 'adolesc': 3324, 'swedish': 3325, 'meaningless': 3326, 'fonda': 3327, 'altogeth': 3328, 'enchant': 3329, 'bust': 3330, 'await': 3331, 'exhibit': 3332, 'lemmon': 3333, 'lawrenc': 3334, 'respond': 3335, 'reserv': 3336, 'leonard': 3337, 'moodi': 3338, 'decor': 3339, 'wire': 3340, 'edi': 3341, 'atlanti': 3342, 'madonna': 3343, 'voight': 3344, 'fanat': 3345, 'synopsi': 3346, 'jew': 3347, 'kennedi': 3348, 'crocodil': 3349, 'roommat': 3350, 'befriend': 3351, 'ruthless': 3352, 'uneven': 3353, 'tip': 3354, 'suspici': 3355, 'centr': 3356, 'carl': 3357, 'bold': 3358, 'clint': 3359, 'holli': 3360, 'dimens': 3361, 'voyag': 3362, 'bargain': 3363, 'rural': 3364, 'audit': 3365, 'unsettl': 3366, 'garner': 3367, 'incident': 3368, 'ventur': 3369, 'clumsi': 3370, 'bradi': 3371, 'chao': 3372, '2007': 3373, 'abysm': 3374, 'palma': 3375, 'nearbi': 3376, 'troop': 3377, 'neglect': 3378, '2nd': 3379, 'trail': 3380, 'hart': 3381, 'poetic': 3382, 'humili': 3383, 'wealth': 3384, 'cari': 3385, 'imperson': 3386, 'ant': 3387, 'cuba': 3388, 'characterist': 3389, 'daddi': 3390, 'echo': 3391, 'cd': 3392, 'elimin': 3393, 'lit': 3394, 'tiger': 3395, 'acknowledg': 3396, 'versu': 3397, 'immigr': 3398, 'mall': 3399, 'timon': 3400, 'celluloid': 3401, 'saga': 3402, 'marshal': 3403, 'repuls': 3404, 'paus': 3405, 'pun': 3406, 'homer': 3407, 'infect': 3408, 'solo': 3409, 'jeffrey': 3410, 'mistaken': 3411, 'mickey': 3412, 'prejudic': 3413, 'domest': 3414, 'collaps': 3415, 'undoubtedli': 3416, 'coat': 3417, 'apolog': 3418, 'coffe': 3419, '1996': 3420, 'assembl': 3421, 'chest': 3422, 'gear': 3423, 'cake': 3424, 'equip': 3425, 'hbo': 3426, 'harvey': 3427, 'milk': 3428, 'sore': 3429, 'tribe': 3430, 'ginger': 3431, 'olivi': 3432, 'promin': 3433, 'interrupt': 3434, 'inan': 3435, 'pant': 3436, 'leon': 3437, 'inappropri': 3438, 'instant': 3439, 'embrac': 3440, 'consum': 3441, 'aveng': 3442, 'colleagu': 3443, 'humbl': 3444, 'institut': 3445, 'colonel': 3446, 'retain': 3447, 'brooklyn': 3448, 'vulgar': 3449, 'airplan': 3450, 'pen': 3451, 'primari': 3452, 'trace': 3453, 'pot': 3454, 'florida': 3455, 'polanski': 3456, 'exot': 3457, 'highest': 3458, 'furthermor': 3459, 'devast': 3460, 'solut': 3461, 'maggi': 3462, 'jenni': 3463, 'wive': 3464, 'cope': 3465, 'principl': 3466, '1999': 3467, 'poke': 3468, 'gender': 3469, 'smaller': 3470, 'illog': 3471, 'descend': 3472, 'disabl': 3473, 'sale': 3474, 'bowl': 3475, 'rick': 3476, 'dian': 3477, 'outer': 3478, 'seduct': 3479, '3rd': 3480, 'ya': 3481, 'dutch': 3482, 'linda': 3483, 'strain': 3484, 'godzilla': 3485, 'glamor': 3486, 'lol': 3487, 'primarili': 3488, 'dive': 3489, 'rabbit': 3490, 'cue': 3491, 'hal': 3492, 'devoid': 3493, 'inferior': 3494, 'scope': 3495, 'vast': 3496, 'bubbl': 3497, 'dud': 3498, 'secondli': 3499, 'yard': 3500, 'predecessor': 3501, 'gundam': 3502, 'mixtur': 3503, 'gloriou': 3504, 'beneath': 3505, 'blatant': 3506, 'senseless': 3507, 'april': 3508, 'garbo': 3509, 'disjoint': 3510, 'countrysid': 3511, 'alfr': 3512, 'hideou': 3513, 'casual': 3514, 'museum': 3515, 'invas': 3516, 'trademark': 3517, 'domino': 3518, 'aggress': 3519, 'breed': 3520, 'grinch': 3521, 'myer': 3522, 'pearl': 3523, 'et': 3524, 'shirley': 3525, 'talki': 3526, 'simplist': 3527, 'shelf': 3528, 'alert': 3529, 'streep': 3530, 'arab': 3531, 'z': 3532, 'hopeless': 3533, 'experiment': 3534, 'applaud': 3535, 'illeg': 3536, 'loyal': 3537, 'rendit': 3538, 'khan': 3539, 'stellar': 3540, 'stack': 3541, 'maci': 3542, 'sh': 3543, 'acid': 3544, 'disgrac': 3545, 'uwe': 3546, 'oz': 3547, 'robinson': 3548, 'boom': 3549, 'obtain': 3550, 'vanish': 3551, 'defens': 3552, 'mail': 3553, 'stir': 3554, 'robberi': 3555, 'unhappi': 3556, 'hardcor': 3557, 'slide': 3558, 'mayor': 3559, 'declin': 3560, 'recruit': 3561, 'wont': 3562, 'scroog': 3563, 'spider': 3564, 'dismiss': 3565, 'span': 3566, 'grandfath': 3567, 'psychic': 3568, 'berlin': 3569, 'amanda': 3570, 'hartley': 3571, 'tempt': 3572, 'craze': 3573, 'topless': 3574, 'soccer': 3575, 'incomprehens': 3576, 'fri': 3577, 'counter': 3578, 'diana': 3579, 'dicken': 3580, 'emphasi': 3581, 'tenant': 3582, 'blew': 3583, 'rifl': 3584, 'sympath': 3585, 'ethnic': 3586, 'shaw': 3587, 'ration': 3588, 'resurrect': 3589, 'goer': 3590, 'riot': 3591, 'parad': 3592, 'woo': 3593, 'trashi': 3594, 'sibl': 3595, 'intim': 3596, 'shed': 3597, 'porno': 3598, 'wet': 3599, 'lumet': 3600, 'faster': 3601, 'revolt': 3602, 'bitch': 3603, 'justin': 3604, 'niro': 3605, 'wheel': 3606, 'nephew': 3607, 'feminist': 3608, 'ensur': 3609, '00': 3610, 'honesti': 3611, 'partial': 3612, 'unreal': 3613, 'weakest': 3614, 'choru': 3615, 'region': 3616, 'slick': 3617, 'hopper': 3618, 'steam': 3619, 'immort': 3620, 'andr': 3621, 'jonathan': 3622, 'biographi': 3623, 'hesit': 3624, 'eager': 3625, 'wendi': 3626, 'enlighten': 3627, 'commend': 3628, 'gap': 3629, 'worm': 3630, 'patriot': 3631, 'rider': 3632, 'lena': 3633, 'mario': 3634, 'dealer': 3635, 'farmer': 3636, 'ballet': 3637, 'owen': 3638, 'confin': 3639, 'similarli': 3640, 'properti': 3641, 'vice': 3642, 'leo': 3643, 'prequel': 3644, 'kingdom': 3645, 'sappi': 3646, 'psychopath': 3647, 'blunt': 3648, 'macarthur': 3649, 'victori': 3650, 'repress': 3651, 'nostalg': 3652, 'mutant': 3653, 'morri': 3654, 'wore': 3655, 'safeti': 3656, 'util': 3657, 'franco': 3658, 'composit': 3659, 'sandra': 3660, 'charlott': 3661, 'hung': 3662, 'skull': 3663, 'snap': 3664, 'drain': 3665, 'nervou': 3666, 'tad': 3667, 'acquir': 3668, 'repli': 3669, 'dust': 3670, 'latin': 3671, 'exit': 3672, 'despair': 3673, 'bumbl': 3674, 'montana': 3675, 'rope': 3676, 'heartbreak': 3677, 'rocki': 3678, 'strand': 3679, 'deed': 3680, 'campbel': 3681, 'recycl': 3682, 'snl': 3683, 'del': 3684, 'speci': 3685, 'farrel': 3686, 'whoopi': 3687, 'compass': 3688, 'miseri': 3689, 'rambl': 3690, 'kyle': 3691, 'pattern': 3692, 'drum': 3693, 'hyde': 3694, 'compens': 3695, 'valuabl': 3696, 'bow': 3697, 'bergman': 3698, 'thru': 3699, 'bonu': 3700, 'tail': 3701, '1972': 3702, 'cg': 3703, 'emperor': 3704, 'dalton': 3705, 'tonight': 3706, 'rotten': 3707, 'bleed': 3708, 'gal': 3709, 'olli': 3710, 'orson': 3711, 'downhil': 3712, 'airport': 3713, '35': 3714, 'romp': 3715, 'contempl': 3716, 'rapist': 3717, 'chess': 3718, 'martian': 3719, 'gimmick': 3720, 'oppress': 3721, 'radic': 3722, 'pour': 3723, 'mistress': 3724, 'wacki': 3725, 'percept': 3726, 'carradin': 3727, 'roth': 3728, 'da': 3729, 'slug': 3730, 'shelley': 3731, 'heal': 3732, 'edgar': 3733, '1983': 3734, 'arc': 3735, 'unpredict': 3736, 'mislead': 3737, 'pervers': 3738, 'pursuit': 3739, 'taught': 3740, 'arguabl': 3741, 'slash': 3742, 'champion': 3743, 'belt': 3744, 'pervert': 3745, 'tooth': 3746, 'preach': 3747, 'stilt': 3748, 'dazzl': 3749, 'paltrow': 3750, 'programm': 3751, 'melodi': 3752, 'tackl': 3753, 'attorney': 3754, 'banal': 3755, 'sensat': 3756, 'rubi': 3757, 'plight': 3758, 'graham': 3759, 'cleverli': 3760, 'vocal': 3761, 'orang': 3762, 'mesmer': 3763, 'duval': 3764, 'poem': 3765, 'uplift': 3766, 'chicken': 3767, 'conneri': 3768, 'maid': 3769, 'marti': 3770, 'virginia': 3771, 'bela': 3772, 'passeng': 3773, 'gambl': 3774, 'employe': 3775, 'vengeanc': 3776, 'franki': 3777, 'closest': 3778, 'dixon': 3779, 'raymond': 3780, 'tiresom': 3781, 'abraham': 3782, 'calm': 3783, 'habit': 3784, 'extens': 3785, 'volum': 3786, 'numb': 3787, 'gerard': 3788, 'tube': 3789, 'climact': 3790, 'mute': 3791, 'profan': 3792, 'amitabh': 3793, 'monologu': 3794, 'sirk': 3795, 'outing': 3796, 'quarter': 3797, 'engross': 3798, '1968': 3799, 'swallow': 3800, 'scottish': 3801, 'crystal': 3802, 'bay': 3803, 'giggl': 3804, 'secretli': 3805, 'paranoia': 3806, 'iran': 3807, 'yawn': 3808, 'suffic': 3809, 'lundgren': 3810, 'convincingli': 3811, 'whine': 3812, 'clone': 3813, 'inject': 3814, 'pokemon': 3815, 'poetri': 3816, 'im': 3817, 'nichola': 3818, 'abort': 3819, 'chicago': 3820, 'earl': 3821, 'linger': 3822, 'surpass': 3823, 'frankenstein': 3824, 'backward': 3825, 'lowest': 3826, 'expand': 3827, 'grotesqu': 3828, 'underst': 3829, 'franci': 3830, 'profess': 3831, 'junior': 3832, 'septemb': 3833, 'ethan': 3834, 'bend': 3835, 'dispos': 3836, 'plod': 3837, 'taxi': 3838, 'trend': 3839, 'meander': 3840, 'fed': 3841, 'richardson': 3842, 'austen': 3843, 'spock': 3844, 'compliment': 3845, 'spoke': 3846, 'descent': 3847, 'lure': 3848, 'simplic': 3849, 'catchi': 3850, 'rant': 3851, 'household': 3852, 'muddl': 3853, 'sue': 3854, 'nostalgia': 3855, 'waitress': 3856, 'myth': 3857, 'eugen': 3858, 'cannon': 3859, 'mundan': 3860, 'dysfunct': 3861, 'stallon': 3862, 'instrument': 3863, 'rubber': 3864, 'hum': 3865, 'econom': 3866, 'greedi': 3867, 'tourist': 3868, 'der': 3869, 'literatur': 3870, 'map': 3871, 'phantom': 3872, 'june': 3873, 'lang': 3874, 'firstli': 3875, 'dement': 3876, 'stale': 3877, 'alongsid': 3878, 'insur': 3879, 'phoni': 3880, 'molli': 3881, 'randi': 3882, 'irrelev': 3883, 'equival': 3884, 'sissi': 3885, 'crucial': 3886, 'coast': 3887, 'bacal': 3888, 'dictat': 3889, 'deaf': 3890, 'omen': 3891, 'mortal': 3892, 'occupi': 3893, 'recognis': 3894, 'damon': 3895, 'mankind': 3896, 'recognit': 3897, 'hello': 3898, 'eaten': 3899, 'flee': 3900, 'carel': 3901, 'furi': 3902, 'cent': 3903, 'louis': 3904, 'duck': 3905, 'lengthi': 3906, 'ashley': 3907, 'rooney': 3908, 'loyalti': 3909, 'onlin': 3910, 'likewis': 3911, 'wisdom': 3912, 'freez': 3913, 'reign': 3914, 'bump': 3915, 'damm': 3916, 'bike': 3917, '1973': 3918, 'labor': 3919, 'rude': 3920, 'heel': 3921, 'dreari': 3922, 'blackmail': 3923, 'biko': 3924, 'newli': 3925, 'twilight': 3926, 'buffalo': 3927, 'daisi': 3928, 'cyborg': 3929, 'drake': 3930, 'distinguish': 3931, 'grayson': 3932, 'antwon': 3933, 'analysi': 3934, 'emphas': 3935, 'sailor': 3936, 'proce': 3937, 'provoc': 3938, 'startl': 3939, 'incorpor': 3940, 'keith': 3941, 'tunnel': 3942, 'nineti': 3943, 'worn': 3944, 'boxer': 3945, 'attribut': 3946, 'barrymor': 3947, 'chronicl': 3948, 'interior': 3949, 'approv': 3950, 'inher': 3951, 'unorigin': 3952, 'vein': 3953, 'prey': 3954, 'exposur': 3955, 'ridden': 3956, 'baddi': 3957, 'basketbal': 3958, 'pink': 3959, 'butler': 3960, 'condemn': 3961, 'hypnot': 3962, 'unrel': 3963, 'meyer': 3964, 'bunni': 3965, 'belushi': 3966, 'simmon': 3967, 'stalker': 3968, 'walsh': 3969, 'drift': 3970, 'elm': 3971, 'undeni': 3972, 'barrel': 3973, 'fleet': 3974, 'underli': 3975, 'degrad': 3976, 'indiffer': 3977, 'meg': 3978, 'nicol': 3979, 'predat': 3980, 'robbin': 3981, 'er': 3982, 'millionair': 3983, 'julian': 3984, 'improvis': 3985, 'substitut': 3986, 'mighti': 3987, 'othello': 3988, 'mormon': 3989, 'carla': 3990, 'watson': 3991, 'vital': 3992, 'marion': 3993, 'edgi': 3994, 'alarm': 3995, '3d': 3996, 'shove': 3997, 'firm': 3998, 'nyc': 3999, 'warmth': 4000, 'agenda': 4001, 'rukh': 4002, 'dolph': 4003, 'roof': 4004, 'errol': 4005, 'lampoon': 4006, 'enthusiasm': 4007, 'disord': 4008, 'alison': 4009, 'priceless': 4010, 'unawar': 4011, 'palac': 4012, 'mtv': 4013, 'greed': 4014, 'exquisit': 4015, 'reid': 4016, 'hay': 4017, 'novak': 4018, 'campaign': 4019, 'thompson': 4020, 'showdown': 4021, 'simultan': 4022, 'beatl': 4023, 'petti': 4024, 'gestur': 4025, 'peck': 4026, 'randomli': 4027, 'crown': 4028, 'nun': 4029, 'iraq': 4030, 'sergeant': 4031, '13th': 4032, 'cassidi': 4033, '1933': 4034, 'profit': 4035, 'distort': 4036, 'what': 4037, 'session': 4038, 'minimum': 4039, 'spain': 4040, 'angela': 4041, 'preserv': 4042, 'ponder': 4043, 'unleash': 4044, 'israel': 4045, 'glanc': 4046, 'valentin': 4047, 'coup': 4048, 'orlean': 4049, 'testament': 4050, 'drip': 4051, 'eastern': 4052, 'championship': 4053, 'peril': 4054, 'pamela': 4055, 'zizek': 4056, 'han': 4057, 'restrain': 4058, 'reson': 4059, 'calib': 4060, 'miyazaki': 4061, 'jan': 4062, 'kurosawa': 4063, 'climat': 4064, 'shootout': 4065, 'stake': 4066, 'regist': 4067, 'rout': 4068, 'perpetu': 4069, 'travesti': 4070, 'unimagin': 4071, 'sabrina': 4072, 'gentleman': 4073, 'brenda': 4074, 'exposit': 4075, 'represent': 4076, 'wig': 4077, 'buster': 4078, '1984': 4079, 'contradict': 4080, 'realm': 4081, 'empathi': 4082, 'mon': 4083, 'quinn': 4084, 'stroke': 4085, 'crawl': 4086, 'scotland': 4087, 'crow': 4088, 'valley': 4089, 'cream': 4090, 'bro': 4091, 'cooki': 4092, 'fido': 4093, 'din': 4094, 'fuller': 4095, 'greg': 4096, 'monoton': 4097, 'pretens': 4098, 'absent': 4099, 'perceiv': 4100, 'censor': 4101, 'unseen': 4102, 'crawford': 4103, 'compromis': 4104, 'abomin': 4105, 'wax': 4106, 'cloud': 4107, '1987': 4108, 'warrant': 4109, 'sucker': 4110, 'josh': 4111, 'distress': 4112, 'traumat': 4113, 'dana': 4114, 'unsatisfi': 4115, 'passabl': 4116, 'delic': 4117, 'derang': 4118, 'shaki': 4119, 'darren': 4120, 'shoddi': 4121, 'ross': 4122, 'sammi': 4123, 'businessman': 4124, 'meryl': 4125, 'demis': 4126, 'geek': 4127, 'ustinov': 4128, 'baldwin': 4129, 'spacey': 4130, 'femm': 4131, '1997': 4132, 'tacki': 4133, 'painter': 4134, 'stargat': 4135, 'pole': 4136, 'mclaglen': 4137, 'soderbergh': 4138, 'click': 4139, 'wholli': 4140, 'unravel': 4141, 'uncov': 4142, 'deceas': 4143, 'reluct': 4144, 'fog': 4145, 'nathan': 4146, 'sid': 4147, 'furiou': 4148, 'clash': 4149, 'accuraci': 4150, 'austin': 4151, 'fenc': 4152, 'exclus': 4153, 'norm': 4154, '1993': 4155, 'valid': 4156, 'seal': 4157, 'correctli': 4158, 'judgment': 4159, 'kumar': 4160, 'polici': 4161, 'dee': 4162, 'deniro': 4163, 'antonioni': 4164, 'tech': 4165, 'jewel': 4166, 'expedit': 4167, 'verbal': 4168, 'tarantino': 4169, 'anchor': 4170, 'primit': 4171, 'darn': 4172, 'murray': 4173, 'sustain': 4174, 'temper': 4175, 'hallucin': 4176, 'seldom': 4177, 'conduct': 4178, 'debt': 4179, 'behold': 4180, 'fabric': 4181, 'bake': 4182, 'trait': 4183, '3000': 4184, 'sheet': 4185, 'sunni': 4186, 'dreck': 4187, 'shanghai': 4188, 'crippl': 4189, '1995': 4190, 'sand': 4191, 'mode': 4192, 'patienc': 4193, 'ritual': 4194, 'unfair': 4195, 'fart': 4196, 'nicola': 4197, 'clerk': 4198, 'enforc': 4199, 'wretch': 4200, 'fought': 4201, 'joel': 4202, 'slam': 4203, 'roller': 4204, 'pocket': 4205, 'malon': 4206, 'alec': 4207, 'vanc': 4208, '1971': 4209, '2008': 4210, 'tax': 4211, 'logan': 4212, 'wang': 4213, 'tactic': 4214, 'exhaust': 4215, 'penni': 4216, 'guitar': 4217, 'technicolor': 4218, 'robber': 4219, 'stark': 4220, 'stuart': 4221, 'outlin': 4222, 'grief': 4223, 'isabel': 4224, 'phil': 4225, 'rita': 4226, 'canyon': 4227, 'despis': 4228, 'runner': 4229, 'critiqu': 4230, 'schedul': 4231, 'shell': 4232, 'pete': 4233, 'legaci': 4234, 'soup': 4235, 'clau': 4236, 'preposter': 4237, 'bias': 4238, 'helpless': 4239, 'conscious': 4240, 'fundament': 4241, 'sweep': 4242, 'divid': 4243, 'squad': 4244, 'scriptwrit': 4245, 'bridget': 4246, 'preston': 4247, 'cigarett': 4248, 'liberti': 4249, 'restrict': 4250, 'palanc': 4251, 'newman': 4252, 'downey': 4253, 'invad': 4254, 'culmin': 4255, 'bloom': 4256, 'passag': 4257, 'jacket': 4258, 'kansa': 4259, 'gregori': 4260, 'drove': 4261, 'russia': 4262, 'vomit': 4263, 'sniper': 4264, 'alley': 4265, 'rear': 4266, 'rehash': 4267, 'jodi': 4268, 'connor': 4269, 'propos': 4270, 'inabl': 4271, 'boyl': 4272, 'marc': 4273, 'delv': 4274, 'agenc': 4275, 'implic': 4276, 'unexpectedli': 4277, 'consciou': 4278, 'sugar': 4279, 'lacklust': 4280, 'flair': 4281, 'sentinel': 4282, 'alicia': 4283, 'feat': 4284, '22': 4285, 'cap': 4286, 'lush': 4287, 'delet': 4288, 'wrench': 4289, 'ladder': 4290, 'tripe': 4291, 'pale': 4292, 'tendenc': 4293, 'karl': 4294, 'rod': 4295, 'rehears': 4296, 'yeti': 4297, 'bacon': 4298, 'behaviour': 4299, '1936': 4300, 'kolchak': 4301, 'asylum': 4302, 'arrow': 4303, 'vet': 4304, 'sharon': 4305, 'chainsaw': 4306, 'foxx': 4307, 'awhil': 4308, 'aesthet': 4309, 'improb': 4310, 'rampag': 4311, 'mccoy': 4312, 'horn': 4313, 'rhythm': 4314, 'suspicion': 4315, 'elit': 4316, 'conscienc': 4317, 'underneath': 4318, 'lurk': 4319, 'paramount': 4320, 'el': 4321, 'suffici': 4322, 'weav': 4323, 'minu': 4324, 'hulk': 4325, 'rumor': 4326, 'wildli': 4327, 'sung': 4328, 'visitor': 4329, 'globe': 4330, 'wagner': 4331, 'loneli': 4332, 'hungri': 4333, 'paradis': 4334, 'spice': 4335, 'tasteless': 4336, '1920': 4337, 'hackney': 4338, 'newcom': 4339, 'tomorrow': 4340, 'amazon': 4341, 'coaster': 4342, 'aristocrat': 4343, 'stream': 4344, '1988': 4345, '1978': 4346, 'prank': 4347, 'financ': 4348, 'scoop': 4349, '19th': 4350, 'shortcom': 4351, 'fright': 4352, 'basing': 4353, 'thunderbird': 4354, 'filler': 4355, 'recogniz': 4356, 'ram': 4357, 'literari': 4358, 'lectur': 4359, 'springer': 4360, 'beverli': 4361, 'smell': 4362, 'en': 4363, 'rub': 4364, 'bread': 4365, 'penn': 4366, 'abrupt': 4367, 'teas': 4368, 'dirt': 4369, 'entranc': 4370, 'quietli': 4371, 'minist': 4372, 'impos': 4373, 'couch': 4374, 'leigh': 4375, 'ingeni': 4376, 'posey': 4377, 'secondari': 4378, 'naughti': 4379, 'cancer': 4380, 'counterpart': 4381, 'heist': 4382, '1989': 4383, 'standout': 4384, '1939': 4385, 'straightforward': 4386, '75': 4387, 'paxton': 4388, 'inmat': 4389, 'brit': 4390, 'atroc': 4391, 'choppi': 4392, 'iv': 4393, 'worship': 4394, 'chamberlain': 4395, 'hopkin': 4396, 'grudg': 4397, 'wwe': 4398, 'chavez': 4399, 'immers': 4400, 'curli': 4401, 'tierney': 4402, 'bernard': 4403, 'convert': 4404, 'net': 4405, 'injuri': 4406, 'yearn': 4407, 'variat': 4408, 'esther': 4409, 'skeptic': 4410, 'policeman': 4411, 'misguid': 4412, 'ace': 4413, 'enthral': 4414, 'sassi': 4415, 'transcend': 4416, 'ratso': 4417, '1986': 4418, 'lindsay': 4419, 'heartfelt': 4420, 'laurenc': 4421, 'watcher': 4422, 'sublim': 4423, 'clan': 4424, 'moreov': 4425, 'attenborough': 4426, 'morbid': 4427, 'nolan': 4428, 'quaid': 4429, 'nemesi': 4430, 'missil': 4431, 'entitl': 4432, 'cattl': 4433, 'geni': 4434, 'duel': 4435, 'tyler': 4436, 'artsi': 4437, 'graini': 4438, 'cruelti': 4439, 'hk': 4440, 'puppi': 4441, 'setup': 4442, 'buzz': 4443, 'spiral': 4444, 'characteris': 4445, 'youngest': 4446, 'grin': 4447, 'out': 4448, 'egg': 4449, 'brood': 4450, 'enabl': 4451, 'facil': 4452, 'poe': 4453, 'obstacl': 4454, 'hopelessli': 4455, 'uncut': 4456, 'dont': 4457, 'moder': 4458, 'rosemari': 4459, 'diari': 4460, '1979': 4461, 'bean': 4462, 'steadi': 4463, 'bye': 4464, 'vader': 4465, 'kitti': 4466, 'unexplain': 4467, 'mytholog': 4468, 'reliabl': 4469, 'kidman': 4470, 'carlito': 4471, 'bronson': 4472, 'spontan': 4473, 'effici': 4474, 'christin': 4475, 'despic': 4476, 'decept': 4477, 'disastr': 4478, 'exterior': 4479, 'preming': 4480, 'underworld': 4481, 'baffl': 4482, 'heap': 4483, '1969': 4484, 'niec': 4485, 'hain': 4486, 'patricia': 4487, 'oblig': 4488, 'bounc': 4489, 'kline': 4490, 'martha': 4491, 'sweat': 4492, 'athlet': 4493, 'acquaint': 4494, 'bewar': 4495, 'narrow': 4496, 'fuel': 4497, 'hammi': 4498, 'clueless': 4499, 'weather': 4500, 'brendan': 4501, 'gina': 4502, 'gillian': 4503, 'trigger': 4504, 'goof': 4505, 'virtu': 4506, 'scar': 4507, 'dilemma': 4508, 'suprem': 4509, 'sleepwalk': 4510, 'headach': 4511, 'loath': 4512, 'shatter': 4513, 'circu': 4514, 'mayhem': 4515, 'uh': 4516, 'housewif': 4517, 'loi': 4518, 'rome': 4519, 'candl': 4520, 'lester': 4521, 'angst': 4522, 'dandi': 4523, 'hepburn': 4524, 'sooner': 4525, 'viewpoint': 4526, 'renaiss': 4527, 'preachi': 4528, '19': 4529, 'injur': 4530, 'biker': 4531, 'taboo': 4532, 'enlist': 4533, 'outlaw': 4534, '73': 4535, 'tick': 4536, 'fontain': 4537, 'harmless': 4538, 'analyz': 4539, 'mermaid': 4540, 'insipid': 4541, 'astound': 4542, 'surgeri': 4543, 'steer': 4544, 'ebert': 4545, 'whore': 4546, 'camcord': 4547, 'hostag': 4548, 'spade': 4549, 'dismal': 4550, 'stimul': 4551, 'filth': 4552, 'corbett': 4553, 'salt': 4554, 'hokey': 4555, 'boston': 4556, 'sox': 4557, 'gere': 4558, 'intric': 4559, 'phenomenon': 4560, 'slimi': 4561, 'glorifi': 4562, 'dish': 4563, 'redund': 4564, 'scorses': 4565, 'fluff': 4566, 'oldest': 4567, 'guin': 4568, 'tripl': 4569, 'zoom': 4570, 'ariel': 4571, 'bent': 4572, 'contempt': 4573, 'macho': 4574, 'cassavet': 4575, 'idol': 4576, 'immatur': 4577, 'foolish': 4578, 'amor': 4579, 'hooker': 4580, 'stair': 4581, 'overlong': 4582, 'claustrophob': 4583, 'mutual': 4584, 'widescreen': 4585, 'spinal': 4586, 'shred': 4587, 'zane': 4588, 'fascist': 4589, 'preced': 4590, '1976': 4591, 'strongest': 4592, 'muscl': 4593, 'keen': 4594, 'shield': 4595, 'spree': 4596, 'radiat': 4597, 'faint': 4598, 'assert': 4599, 'proport': 4600, 'flashi': 4601, 'messi': 4602, 'frantic': 4603, 'cohen': 4604, 'gabl': 4605, 'remad': 4606, 'conquer': 4607, 'perman': 4608, 'mount': 4609, 'dwarf': 4610, 'flag': 4611, 'margin': 4612, 'harold': 4613, 'flirt': 4614, 'transplant': 4615, '1981': 4616, 'astronaut': 4617, 'rhyme': 4618, 'schlock': 4619, 'antagonist': 4620, 'cow': 4621, 'joker': 4622, 'nolt': 4623, 'alvin': 4624, 'trivia': 4625, 'obligatori': 4626, 'down': 4627, 'corman': 4628, 'cush': 4629, 'beard': 4630, 'gasp': 4631, 'naschi': 4632, 'claud': 4633, 'info': 4634, 'mobil': 4635, 'mol': 4636, 'vaniti': 4637, 'divin': 4638, 'hara': 4639, '28': 4640, 'scandal': 4641, 'flock': 4642, 'danish': 4643, 'carey': 4644, 'resum': 4645, 'barn': 4646, 'sensual': 4647, 'boob': 4648, 'off': 4649, 'triangl': 4650, 'discern': 4651, '95': 4652, 'inflict': 4653, 'interestingli': 4654, 'persuad': 4655, 'instruct': 4656, 'strive': 4657, 'wield': 4658, 'raj': 4659, 'repris': 4660, 'fishburn': 4661, 'aborigin': 4662, 'bitten': 4663, '1945': 4664, 'neurot': 4665, 'departur': 4666, 'someday': 4667, 'www': 4668, 'archiv': 4669, 'deer': 4670, 'bachelor': 4671, 'brush': 4672, 'ritchi': 4673, 'hapless': 4674, 'vibrant': 4675, 'frontier': 4676, 'anton': 4677, 'axe': 4678, 'prophet': 4679, 'biblic': 4680, 'miracul': 4681, 'helm': 4682, 'mobster': 4683, 'dim': 4684, 'pacif': 4685, 'melissa': 4686, 'cycl': 4687, 'dame': 4688, 'fragil': 4689, 'proclaim': 4690, 'parson': 4691, 'undermin': 4692, 'submit': 4693, 'kathryn': 4694, 'dylan': 4695, 'luka': 4696, 'heartwarm': 4697, 'hilar': 4698, 'ish': 4699, 'pickford': 4700, 'colin': 4701, 'traffic': 4702, 'loretta': 4703, 'bate': 4704, 'harrison': 4705, 'carlo': 4706, 'clad': 4707, 'recit': 4708, 'artwork': 4709, 'earnest': 4710, 'wendigo': 4711, 'cliffhang': 4712, 'timberlak': 4713, 'casino': 4714, 'hug': 4715, 'banter': 4716, 'jade': 4717, 'senior': 4718, 'pixar': 4719, 'rot': 4720, 'cb': 4721, 'neill': 4722, 'europa': 4723, 'cher': 4724, 'nope': 4725, 'flavor': 4726, 'foil': 4727, 'static': 4728, 'jordan': 4729, 'wardrob': 4730, 'token': 4731, 'trier': 4732, 'http': 4733, 'misfortun': 4734, 'holocaust': 4735, 'pc': 4736, 'vile': 4737, 'akin': 4738, 'milo': 4739, 'venom': 4740, 'choke': 4741, 'sicken': 4742, 'estrang': 4743, 'aris': 4744, 'redneck': 4745, 'jo': 4746, 'feast': 4747, 'seedi': 4748, 'orphan': 4749, 'vanessa': 4750, 'marlon': 4751, 'lui': 4752, 'toronto': 4753, 'cerebr': 4754, 'northern': 4755, 'isra': 4756, 'legitim': 4757, 'mason': 4758, 'razor': 4759, 'eli': 4760, 'rooki': 4761, 'blatantli': 4762, 'antholog': 4763, 'alexandr': 4764, 'lucil': 4765, 'breakfast': 4766, 'uma': 4767, 'shepherd': 4768, 'winchest': 4769, 'mathieu': 4770, 'bondag': 4771, 'illus': 4772, 'articl': 4773, 'electron': 4774, 'bikini': 4775, 'shorter': 4776, 'wrestler': 4777, 'peer': 4778, 'comprehend': 4779, 'glare': 4780, 'outdat': 4781, 'psych': 4782, 'ceremoni': 4783, 'nightclub': 4784, 'oppon': 4785, 'gilbert': 4786, 'charlton': 4787, 'tack': 4788, 'deem': 4789, 'fifth': 4790, 'feminin': 4791, 'disregard': 4792, 'ideolog': 4793, 'abund': 4794, 'audrey': 4795, 'frog': 4796, 'retriev': 4797, 'leather': 4798, 'huston': 4799, 'howl': 4800, 'knightley': 4801, 'smack': 4802, 'magician': 4803, 'styliz': 4804, 'affleck': 4805, 'highway': 4806, 'linear': 4807, 'turd': 4808, 'clinic': 4809, 'dudley': 4810, 'swept': 4811, 'cartoonish': 4812, 'boyer': 4813, 'gunga': 4814, 'conrad': 4815, 'toe': 4816, 'phenomen': 4817, 'potter': 4818, 'bastard': 4819, 'compris': 4820, 'spine': 4821, 'durat': 4822, 'newer': 4823, 'energet': 4824, 'lifeless': 4825, 'senat': 4826, 'snatch': 4827, 'spawn': 4828, 'cemeteri': 4829, 'collector': 4830, 'cuban': 4831, 'summar': 4832, 'deliver': 4833, '4th': 4834, 'chip': 4835, 'greet': 4836, 'moe': 4837, 'evolut': 4838, 'mitch': 4839, 'btw': 4840, 'uniformli': 4841, 'plate': 4842, 'lighter': 4843, 'boo': 4844, 'braveheart': 4845, 'goldsworthi': 4846, '1994': 4847, 'client': 4848, 'bogu': 4849, 'salman': 4850, 'monument': 4851, 'whack': 4852, '1991': 4853, 'sleaz': 4854, 'breakdown': 4855, 'tara': 4856, 'corn': 4857, 'lavish': 4858, 'einstein': 4859, 'capot': 4860, 'pronounc': 4861, 'liu': 4862, 'firmli': 4863, 'fluid': 4864, 'judd': 4865, 'occup': 4866, 'replay': 4867, 'outright': 4868, 'creek': 4869, 'alleg': 4870, 'inaccuraci': 4871, 'jare': 4872, 'neatli': 4873, 'bulk': 4874, 'eleven': 4875, 'appl': 4876, 'trauma': 4877, '1974': 4878, 'healthi': 4879, 'sorrow': 4880, 'spectacl': 4881, 'ol': 4882, 'lex': 4883, 'kent': 4884, 'constitut': 4885, 'undertak': 4886, 'undead': 4887, 'ie': 4888, 'luxuri': 4889, '1977': 4890, 'bori': 4891, 'historian': 4892, 'cecil': 4893, 'belli': 4894, 'wtf': 4895, 'jam': 4896, 'embark': 4897, 'clara': 4898, 'jedi': 4899, 'signal': 4900, 'evelyn': 4901, 'nina': 4902, 'armstrong': 4903, 'gilliam': 4904, 'kazan': 4905, 'jule': 4906, 'mcqueen': 4907, 'randolph': 4908, 'truman': 4909, 'inclus': 4910, 'poker': 4911, 'kiddi': 4912, 'relentless': 4913, '1985': 4914, 'groan': 4915, 'pepper': 4916, 'palm': 4917, 'porter': 4918, 'propheci': 4919, 'comprehens': 4920, 'congratul': 4921, 'paula': 4922, 'subtli': 4923, 'roar': 4924, 'meal': 4925, 'unsuspect': 4926, 'sacrif': 4927, 'tokyo': 4928, 'unattract': 4929, 'id': 4930, 'abound': 4931, 'galaxi': 4932, 'vain': 4933, 'miniseri': 4934, 'genet': 4935, 'rosario': 4936, 'curtain': 4937, 'lauren': 4938, 'forgiven': 4939, 'walt': 4940, 'knee': 4941, 'bait': 4942, 'fruit': 4943, 'vignett': 4944, 'comb': 4945, 'goldblum': 4946, 'conan': 4947, 'blur': 4948, 'lanc': 4949, 'antonio': 4950, 'cape': 4951, 'aussi': 4952, 'decapit': 4953, 'basket': 4954, 'ash': 4955, 'carmen': 4956, 'mum': 4957, 'inaccur': 4958, 'bsg': 4959, 'spray': 4960, 'sidewalk': 4961, 'pioneer': 4962, 'miami': 4963, 'spill': 4964, 'dubiou': 4965, 'profil': 4966, 'detach': 4967, 'frontal': 4968, 'victorian': 4969, '21st': 4970, 'monti': 4971, 'substanti': 4972, 'optimist': 4973, 'drone': 4974, 'orchestr': 4975, 'incorrect': 4976, 'turtl': 4977, 'motorcycl': 4978, 'verg': 4979, 'macabr': 4980, 'modest': 4981, 'vastli': 4982, 'playboy': 4983, 'sophi': 4984, 'weaker': 4985, 'growth': 4986, 'assort': 4987, 'hostil': 4988, 'sparkl': 4989, 'ghetto': 4990, 'masterson': 4991, 'casper': 4992, 'reincarn': 4993, 'cypher': 4994, 'weari': 4995, 'asset': 4996, 'scarfac': 4997, 'omin': 4998, 'rapidli': 4999}\n"
     ]
    }
   ],
   "source": [
    "with open(os.path.join(data_dir, 'word_dict.pkl'),\"rb\") as f:\n",
    "    word_dict = pickle.load(f)\n",
    "print(word_dict)"
   ]
  },
  {
   "cell_type": "code",
   "execution_count": 19,
   "metadata": {},
   "outputs": [
    {
     "data": {
      "text/plain": [
       "'../data/pytorch'"
      ]
     },
     "execution_count": 19,
     "metadata": {},
     "output_type": "execute_result"
    }
   ],
   "source": [
    "data_dir"
   ]
  },
  {
   "cell_type": "markdown",
   "metadata": {},
   "source": [
    "### Transform the reviews\n",
    "\n",
    "Now that we have our word dictionary which allows us to transform the words appearing in the reviews into integers, it is time to make use of it and convert our reviews to their integer sequence representation, making sure to pad or truncate to a fixed length, which in our case is `500`."
   ]
  },
  {
   "cell_type": "code",
   "execution_count": 20,
   "metadata": {},
   "outputs": [],
   "source": [
    "def convert_and_pad(word_dict, sentence, pad=500):\n",
    "    NOWORD = 0 # We will use 0 to represent the 'no word' category\n",
    "    INFREQ = 1 # and we use 1 to represent the infrequent words, i.e., words not appearing in word_dict\n",
    "    \n",
    "    working_sentence = [NOWORD] * pad\n",
    "    \n",
    "    for word_index, word in enumerate(sentence[:pad]):\n",
    "        if word in word_dict:\n",
    "            working_sentence[word_index] = word_dict[word]\n",
    "        else:\n",
    "            working_sentence[word_index] = INFREQ\n",
    "            \n",
    "    return working_sentence, min(len(sentence), pad)\n",
    "\n",
    "def convert_and_pad_data(word_dict, data, pad=500):\n",
    "    result = []\n",
    "    lengths = []\n",
    "    \n",
    "    for sentence in data:\n",
    "        converted, leng = convert_and_pad(word_dict, sentence, pad)\n",
    "        result.append(converted)\n",
    "        lengths.append(leng)\n",
    "        \n",
    "    return np.array(result), np.array(lengths)"
   ]
  },
  {
   "cell_type": "code",
   "execution_count": 21,
   "metadata": {},
   "outputs": [],
   "source": [
    "train_X, train_X_len = convert_and_pad_data(word_dict, train_X)\n",
    "test_X, test_X_len = convert_and_pad_data(word_dict, test_X)"
   ]
  },
  {
   "cell_type": "markdown",
   "metadata": {},
   "source": [
    "As a quick check to make sure that things are working as intended, check to see what one of the reviews in the training set looks like after having been processeed. Does this look reasonable? What is the length of a review in the training set?"
   ]
  },
  {
   "cell_type": "code",
   "execution_count": 22,
   "metadata": {},
   "outputs": [],
   "source": [
    "# Use this cell to examine one of the processed reviews to make sure everything is working as intended."
   ]
  },
  {
   "cell_type": "markdown",
   "metadata": {},
   "source": [
    "**Question:** In the cells above we use the `preprocess_data` and `convert_and_pad_data` methods to process both the training and testing set. Why or why not might this be a problem?"
   ]
  },
  {
   "cell_type": "markdown",
   "metadata": {},
   "source": [
    "**Answer:** With the convert_and_pad function we consider short texts as a 'NO WORD' class, and we will bot be abble to properly classify short texts recieved from users. It also might be a problem to truncate the texts and loose relevant information. However, it is possible to calibrate the max text lenght to pad. This problem is also minimized once we classify the words by its frequency of appearency. On the other hand, if there a change over time of the words that are frequent in film reviews our model will have a decrease performance, so it is needed to monitor model accuracy and re-train he model if it presents worst results over time."
   ]
  },
  {
   "cell_type": "markdown",
   "metadata": {},
   "source": [
    "## Step 3: Upload the data to S3\n",
    "\n",
    "As in the XGBoost notebook, we will need to upload the training dataset to S3 in order for our training code to access it. For now we will save it locally and we will upload to S3 later on.\n",
    "\n",
    "### Save the processed training dataset locally\n",
    "\n",
    "It is important to note the format of the data that we are saving as we will need to know it when we write the training code. In our case, each row of the dataset has the form `label`, `length`, `review[500]` where `review[500]` is a sequence of `500` integers representing the words in the review."
   ]
  },
  {
   "cell_type": "code",
   "execution_count": 23,
   "metadata": {},
   "outputs": [],
   "source": [
    "import pandas as pd\n",
    "    \n",
    "pd.concat([pd.DataFrame(train_y), pd.DataFrame(train_X_len), pd.DataFrame(train_X)], axis=1) \\\n",
    "        .to_csv(os.path.join(data_dir, 'train.csv'), header=False, index=False)"
   ]
  },
  {
   "cell_type": "markdown",
   "metadata": {},
   "source": [
    "### Uploading the training data\n",
    "\n",
    "\n",
    "Next, we need to upload the training data to the SageMaker default S3 bucket so that we can provide access to it while training our model."
   ]
  },
  {
   "cell_type": "code",
   "execution_count": 24,
   "metadata": {},
   "outputs": [],
   "source": [
    "import sagemaker\n",
    "\n",
    "sagemaker_session = sagemaker.Session()\n",
    "\n",
    "bucket = sagemaker_session.default_bucket()\n",
    "prefix = 'sagemaker/sentiment_rnn'\n",
    "\n",
    "role = sagemaker.get_execution_role()"
   ]
  },
  {
   "cell_type": "code",
   "execution_count": 25,
   "metadata": {},
   "outputs": [],
   "source": [
    "input_data = sagemaker_session.upload_data(path=data_dir, bucket=bucket, key_prefix=prefix)"
   ]
  },
  {
   "cell_type": "markdown",
   "metadata": {},
   "source": [
    "**NOTE:** The cell above uploads the entire contents of our data directory. This includes the `word_dict.pkl` file. This is fortunate as we will need this later on when we create an endpoint that accepts an arbitrary review. For now, we will just take note of the fact that it resides in the data directory (and so also in the S3 training bucket) and that we will need to make sure it gets saved in the model directory."
   ]
  },
  {
   "cell_type": "markdown",
   "metadata": {},
   "source": [
    "## Step 4: Build and Train the PyTorch Model\n",
    "\n",
    "In the XGBoost notebook we discussed what a model is in the SageMaker framework. In particular, a model comprises three objects\n",
    "\n",
    " - Model Artifacts,\n",
    " - Training Code, and\n",
    " - Inference Code,\n",
    " \n",
    "each of which interact with one another. In the XGBoost example we used training and inference code that was provided by Amazon. Here we will still be using containers provided by Amazon with the added benefit of being able to include our own custom code.\n",
    "\n",
    "We will start by implementing our own neural network in PyTorch along with a training script. For the purposes of this project we have provided the necessary model object in the `model.py` file, inside of the `train` folder. You can see the provided implementation by running the cell below."
   ]
  },
  {
   "cell_type": "code",
   "execution_count": 26,
   "metadata": {},
   "outputs": [
    {
     "name": "stdout",
     "output_type": "stream",
     "text": [
      "\u001b[34mimport\u001b[39;49;00m \u001b[04m\u001b[36mtorch\u001b[39;49;00m\u001b[04m\u001b[36m.\u001b[39;49;00m\u001b[04m\u001b[36mnn\u001b[39;49;00m \u001b[34mas\u001b[39;49;00m \u001b[04m\u001b[36mnn\u001b[39;49;00m\r\n",
      "\r\n",
      "\u001b[34mclass\u001b[39;49;00m \u001b[04m\u001b[32mLSTMClassifier\u001b[39;49;00m(nn.Module):\r\n",
      "    \u001b[33m\"\"\"\u001b[39;49;00m\r\n",
      "\u001b[33m    This is the simple RNN model we will be using to perform Sentiment Analysis.\u001b[39;49;00m\r\n",
      "\u001b[33m    \"\"\"\u001b[39;49;00m\r\n",
      "\r\n",
      "    \u001b[34mdef\u001b[39;49;00m \u001b[32m__init__\u001b[39;49;00m(\u001b[36mself\u001b[39;49;00m, embedding_dim, hidden_dim, vocab_size):\r\n",
      "        \u001b[33m\"\"\"\u001b[39;49;00m\r\n",
      "\u001b[33m        Initialize the model by settingg up the various layers.\u001b[39;49;00m\r\n",
      "\u001b[33m        \"\"\"\u001b[39;49;00m\r\n",
      "        \u001b[36msuper\u001b[39;49;00m(LSTMClassifier, \u001b[36mself\u001b[39;49;00m).\u001b[32m__init__\u001b[39;49;00m()\r\n",
      "\r\n",
      "        \u001b[36mself\u001b[39;49;00m.embedding = nn.Embedding(vocab_size, embedding_dim, padding_idx=\u001b[34m0\u001b[39;49;00m)\r\n",
      "        \u001b[36mself\u001b[39;49;00m.lstm = nn.LSTM(embedding_dim, hidden_dim)\r\n",
      "        \u001b[36mself\u001b[39;49;00m.dense = nn.Linear(in_features=hidden_dim, out_features=\u001b[34m1\u001b[39;49;00m)\r\n",
      "        \u001b[36mself\u001b[39;49;00m.sig = nn.Sigmoid()\r\n",
      "        \r\n",
      "        \u001b[36mself\u001b[39;49;00m.word_dict = \u001b[34mNone\u001b[39;49;00m\r\n",
      "\r\n",
      "    \u001b[34mdef\u001b[39;49;00m \u001b[32mforward\u001b[39;49;00m(\u001b[36mself\u001b[39;49;00m, x):\r\n",
      "        \u001b[33m\"\"\"\u001b[39;49;00m\r\n",
      "\u001b[33m        Perform a forward pass of our model on some input.\u001b[39;49;00m\r\n",
      "\u001b[33m        \"\"\"\u001b[39;49;00m\r\n",
      "        x = x.t()\r\n",
      "        lengths = x[\u001b[34m0\u001b[39;49;00m,:]\r\n",
      "        reviews = x[\u001b[34m1\u001b[39;49;00m:,:]\r\n",
      "        embeds = \u001b[36mself\u001b[39;49;00m.embedding(reviews)\r\n",
      "        lstm_out, _ = \u001b[36mself\u001b[39;49;00m.lstm(embeds)\r\n",
      "        out = \u001b[36mself\u001b[39;49;00m.dense(lstm_out)\r\n",
      "        out = out[lengths - \u001b[34m1\u001b[39;49;00m, \u001b[36mrange\u001b[39;49;00m(\u001b[36mlen\u001b[39;49;00m(lengths))]\r\n",
      "        \u001b[34mreturn\u001b[39;49;00m \u001b[36mself\u001b[39;49;00m.sig(out.squeeze())\r\n"
     ]
    }
   ],
   "source": [
    "!pygmentize train/model.py"
   ]
  },
  {
   "cell_type": "markdown",
   "metadata": {},
   "source": [
    "The important takeaway from the implementation provided is that there are three parameters that we may wish to tweak to improve the performance of our model. These are the embedding dimension, the hidden dimension and the size of the vocabulary. We will likely want to make these parameters configurable in the training script so that if we wish to modify them we do not need to modify the script itself. We will see how to do this later on. To start we will write some of the training code in the notebook so that we can more easily diagnose any issues that arise.\n",
    "\n",
    "First we will load a small portion of the training data set to use as a sample. It would be very time consuming to try and train the model completely in the notebook as we do not have access to a gpu and the compute instance that we are using is not particularly powerful. However, we can work on a small bit of the data to get a feel for how our training script is behaving."
   ]
  },
  {
   "cell_type": "code",
   "execution_count": 27,
   "metadata": {},
   "outputs": [],
   "source": [
    "import torch\n",
    "import torch.utils.data\n",
    "\n",
    "# Read in only the first 250 rows\n",
    "train_sample = pd.read_csv(os.path.join(data_dir, 'train.csv'), header=None, names=None, nrows=250)\n",
    "\n",
    "# Turn the input pandas dataframe into tensors\n",
    "train_sample_y = torch.from_numpy(train_sample[[0]].values).float().squeeze()\n",
    "train_sample_X = torch.from_numpy(train_sample.drop([0], axis=1).values).long()\n",
    "\n",
    "# Build the dataset\n",
    "train_sample_ds = torch.utils.data.TensorDataset(train_sample_X, train_sample_y)\n",
    "# Build the dataloader\n",
    "train_sample_dl = torch.utils.data.DataLoader(train_sample_ds, batch_size=50)"
   ]
  },
  {
   "cell_type": "markdown",
   "metadata": {},
   "source": [
    "### (TODO) Writing the training method\n",
    "\n",
    "Next we need to write the training code itself. This should be very similar to training methods that you have written before to train PyTorch models. We will leave any difficult aspects such as model saving / loading and parameter loading until a little later."
   ]
  },
  {
   "cell_type": "code",
   "execution_count": null,
   "metadata": {},
   "outputs": [],
   "source": []
  },
  {
   "cell_type": "code",
   "execution_count": 28,
   "metadata": {},
   "outputs": [],
   "source": [
    "def train(model, train_loader, epochs, optimizer, loss_fn, device):\n",
    "    for epoch in range(1, epochs + 1):\n",
    "        model.train()\n",
    "        total_loss = 0\n",
    "        for batch in train_loader:         \n",
    "            batch_X, batch_y = batch\n",
    "            \n",
    "            batch_X = batch_X.to(device)\n",
    "            batch_y = batch_y.to(device)\n",
    "            \n",
    "            # TODO: Complete this train method to train the model provided.\n",
    "            model.zero_grad()\n",
    "            output = model.forward(batch_X)\n",
    "            loss = loss_fn(output.squeeze(), batch_y)\n",
    "            loss.backward()\n",
    "            optimizer.step()\n",
    "            \n",
    "            total_loss += loss.data.item()\n",
    "            \n",
    "        print(\"Epoch: {}, BCELoss: {}\".format(epoch, total_loss / len(train_loader)))"
   ]
  },
  {
   "cell_type": "markdown",
   "metadata": {},
   "source": [
    "Supposing we have the training method above, we will test that it is working by writing a bit of code in the notebook that executes our training method on the small sample training set that we loaded earlier. The reason for doing this in the notebook is so that we have an opportunity to fix any errors that arise early when they are easier to diagnose."
   ]
  },
  {
   "cell_type": "code",
   "execution_count": 29,
   "metadata": {},
   "outputs": [],
   "source": [
    "import torch.optim as optim\n",
    "from train.model import LSTMClassifier\n",
    "\n",
    "device = torch.device(\"cuda\" if torch.cuda.is_available() else \"cpu\")\n",
    "model = LSTMClassifier(32, 100, 5000).to(device)\n",
    "optimizer = optim.Adam(model.parameters())\n",
    "loss_fn = torch.nn.BCELoss()"
   ]
  },
  {
   "cell_type": "code",
   "execution_count": 30,
   "metadata": {},
   "outputs": [
    {
     "name": "stdout",
     "output_type": "stream",
     "text": [
      "Epoch: 1, BCELoss: 0.7025374054908753\n",
      "Epoch: 2, BCELoss: 0.6894214510917663\n",
      "Epoch: 3, BCELoss: 0.6778690695762635\n",
      "Epoch: 4, BCELoss: 0.6651883006095887\n",
      "Epoch: 5, BCELoss: 0.6512434840202331\n"
     ]
    }
   ],
   "source": [
    "train(model, train_sample_dl, 5, optimizer, loss_fn, device)"
   ]
  },
  {
   "cell_type": "markdown",
   "metadata": {},
   "source": [
    "In order to construct a PyTorch model using SageMaker we must provide SageMaker with a training script. We may optionally include a directory which will be copied to the container and from which our training code will be run. When the training container is executed it will check the uploaded directory (if there is one) for a `requirements.txt` file and install any required Python libraries, after which the training script will be run."
   ]
  },
  {
   "cell_type": "markdown",
   "metadata": {},
   "source": [
    "### (TODO) Training the model\n",
    "\n",
    "When a PyTorch model is constructed in SageMaker, an entry point must be specified. This is the Python file which will be executed when the model is trained. Inside of the `train` directory is a file called `train.py` which has been provided and which contains most of the necessary code to train our model. The only thing that is missing is the implementation of the `train()` method which you wrote earlier in this notebook.\n",
    "\n",
    "**TODO**: Copy the `train()` method written above and paste it into the `train/train.py` file where required.\n",
    "\n",
    "The way that SageMaker passes hyperparameters to the training script is by way of arguments. These arguments can then be parsed and used in the training script. To see how this is done take a look at the provided `train/train.py` file."
   ]
  },
  {
   "cell_type": "code",
   "execution_count": 31,
   "metadata": {},
   "outputs": [],
   "source": [
    "from sagemaker.pytorch import PyTorch\n",
    "\n",
    "estimator = PyTorch(entry_point=\"train.py\",\n",
    "                    source_dir=\"train\",\n",
    "                    role=role,\n",
    "                    framework_version='0.4.0',\n",
    "                    train_instance_count=1,\n",
    "                    train_instance_type='ml.p2.xlarge',\n",
    "                    hyperparameters={\n",
    "                        'epochs': 10,\n",
    "                        'hidden_dim': 200,\n",
    "                    })"
   ]
  },
  {
   "cell_type": "code",
   "execution_count": 32,
   "metadata": {},
   "outputs": [
    {
     "name": "stderr",
     "output_type": "stream",
     "text": [
      "'create_image_uri' will be deprecated in favor of 'ImageURIProvider' class in SageMaker Python SDK v2.\n",
      "'s3_input' class will be renamed to 'TrainingInput' in SageMaker Python SDK v2.\n",
      "'create_image_uri' will be deprecated in favor of 'ImageURIProvider' class in SageMaker Python SDK v2.\n"
     ]
    },
    {
     "name": "stdout",
     "output_type": "stream",
     "text": [
      "2021-03-30 16:47:23 Starting - Starting the training job...\n",
      "2021-03-30 16:47:27 Starting - Launching requested ML instances......\n",
      "2021-03-30 16:48:40 Starting - Preparing the instances for training.........\n",
      "2021-03-30 16:50:00 Downloading - Downloading input data...\n",
      "2021-03-30 16:50:44 Training - Downloading the training image..\u001b[34mbash: cannot set terminal process group (-1): Inappropriate ioctl for device\u001b[0m\n",
      "\u001b[34mbash: no job control in this shell\u001b[0m\n",
      "\u001b[34m2021-03-30 16:51:06,808 sagemaker-containers INFO     Imported framework sagemaker_pytorch_container.training\u001b[0m\n",
      "\u001b[34m2021-03-30 16:51:06,842 sagemaker_pytorch_container.training INFO     Block until all host DNS lookups succeed.\u001b[0m\n",
      "\u001b[34m2021-03-30 16:51:09,864 sagemaker_pytorch_container.training INFO     Invoking user training script.\u001b[0m\n",
      "\u001b[34m2021-03-30 16:51:10,146 sagemaker-containers INFO     Module train does not provide a setup.py. \u001b[0m\n",
      "\u001b[34mGenerating setup.py\u001b[0m\n",
      "\u001b[34m2021-03-30 16:51:10,147 sagemaker-containers INFO     Generating setup.cfg\u001b[0m\n",
      "\u001b[34m2021-03-30 16:51:10,147 sagemaker-containers INFO     Generating MANIFEST.in\u001b[0m\n",
      "\u001b[34m2021-03-30 16:51:10,147 sagemaker-containers INFO     Installing module with the following command:\u001b[0m\n",
      "\u001b[34m/usr/bin/python -m pip install -U . -r requirements.txt\u001b[0m\n",
      "\u001b[34mProcessing /opt/ml/code\u001b[0m\n",
      "\u001b[34mCollecting pandas (from -r requirements.txt (line 1))\u001b[0m\n",
      "\n",
      "2021-03-30 16:51:05 Training - Training image download completed. Training in progress.\u001b[34m  Downloading https://files.pythonhosted.org/packages/74/24/0cdbf8907e1e3bc5a8da03345c23cbed7044330bb8f73bb12e711a640a00/pandas-0.24.2-cp35-cp35m-manylinux1_x86_64.whl (10.0MB)\u001b[0m\n",
      "\u001b[34mCollecting numpy (from -r requirements.txt (line 2))\n",
      "  Downloading https://files.pythonhosted.org/packages/b5/36/88723426b4ff576809fec7d73594fe17a35c27f8d01f93637637a29ae25b/numpy-1.18.5-cp35-cp35m-manylinux1_x86_64.whl (19.9MB)\u001b[0m\n",
      "\u001b[34mCollecting nltk (from -r requirements.txt (line 3))\n",
      "  Downloading https://files.pythonhosted.org/packages/92/75/ce35194d8e3022203cca0d2f896dbb88689f9b3fce8e9f9cff942913519d/nltk-3.5.zip (1.4MB)\u001b[0m\n",
      "\u001b[34mCollecting beautifulsoup4 (from -r requirements.txt (line 4))\n",
      "  Downloading https://files.pythonhosted.org/packages/d1/41/e6495bd7d3781cee623ce23ea6ac73282a373088fcd0ddc809a047b18eae/beautifulsoup4-4.9.3-py3-none-any.whl (115kB)\u001b[0m\n",
      "\u001b[34mCollecting html5lib (from -r requirements.txt (line 5))\n",
      "  Downloading https://files.pythonhosted.org/packages/6c/dd/a834df6482147d48e225a49515aabc28974ad5a4ca3215c18a882565b028/html5lib-1.1-py2.py3-none-any.whl (112kB)\u001b[0m\n",
      "\u001b[34mRequirement already satisfied, skipping upgrade: python-dateutil>=2.5.0 in /usr/local/lib/python3.5/dist-packages (from pandas->-r requirements.txt (line 1)) (2.7.5)\u001b[0m\n",
      "\u001b[34mCollecting pytz>=2011k (from pandas->-r requirements.txt (line 1))\n",
      "  Downloading https://files.pythonhosted.org/packages/70/94/784178ca5dd892a98f113cdd923372024dc04b8d40abe77ca76b5fb90ca6/pytz-2021.1-py2.py3-none-any.whl (510kB)\u001b[0m\n",
      "\u001b[34mRequirement already satisfied, skipping upgrade: click in /usr/local/lib/python3.5/dist-packages (from nltk->-r requirements.txt (line 3)) (7.0)\u001b[0m\n",
      "\u001b[34mCollecting joblib (from nltk->-r requirements.txt (line 3))\n",
      "  Downloading https://files.pythonhosted.org/packages/28/5c/cf6a2b65a321c4a209efcdf64c2689efae2cb62661f8f6f4bb28547cf1bf/joblib-0.14.1-py2.py3-none-any.whl (294kB)\u001b[0m\n",
      "\u001b[34mCollecting regex (from nltk->-r requirements.txt (line 3))\u001b[0m\n",
      "\u001b[34m  Downloading https://files.pythonhosted.org/packages/84/cb/e7792d2c52f61a686ce0fabe79b3674c41238d07cd35c79b4062e9a807f6/regex-2021.3.17.tar.gz (694kB)\u001b[0m\n",
      "\u001b[34mCollecting tqdm (from nltk->-r requirements.txt (line 3))\n",
      "  Downloading https://files.pythonhosted.org/packages/f8/3e/2730d0effc282960dbff3cf91599ad0d8f3faedc8e75720fdf224b31ab24/tqdm-4.59.0-py2.py3-none-any.whl (74kB)\u001b[0m\n",
      "\u001b[34mCollecting soupsieve>1.2; python_version >= \"3.0\" (from beautifulsoup4->-r requirements.txt (line 4))\n",
      "  Downloading https://files.pythonhosted.org/packages/02/fb/1c65691a9aeb7bd6ac2aa505b84cb8b49ac29c976411c6ab3659425e045f/soupsieve-2.1-py3-none-any.whl\u001b[0m\n",
      "\u001b[34mRequirement already satisfied, skipping upgrade: six>=1.9 in /usr/local/lib/python3.5/dist-packages (from html5lib->-r requirements.txt (line 5)) (1.11.0)\u001b[0m\n",
      "\u001b[34mCollecting webencodings (from html5lib->-r requirements.txt (line 5))\n",
      "  Downloading https://files.pythonhosted.org/packages/f4/24/2a3e3df732393fed8b3ebf2ec078f05546de641fe1b667ee316ec1dcf3b7/webencodings-0.5.1-py2.py3-none-any.whl\u001b[0m\n",
      "\u001b[34mBuilding wheels for collected packages: nltk, train, regex\n",
      "  Running setup.py bdist_wheel for nltk: started\u001b[0m\n",
      "\u001b[34m  Running setup.py bdist_wheel for nltk: finished with status 'done'\n",
      "  Stored in directory: /root/.cache/pip/wheels/ae/8c/3f/b1fe0ba04555b08b57ab52ab7f86023639a526d8bc8d384306\n",
      "  Running setup.py bdist_wheel for train: started\u001b[0m\n",
      "\u001b[34m  Running setup.py bdist_wheel for train: finished with status 'done'\n",
      "  Stored in directory: /tmp/pip-ephem-wheel-cache-140wkj8g/wheels/35/24/16/37574d11bf9bde50616c67372a334f94fa8356bc7164af8ca3\n",
      "  Running setup.py bdist_wheel for regex: started\u001b[0m\n",
      "\u001b[34m  Running setup.py bdist_wheel for regex: finished with status 'done'\n",
      "  Stored in directory: /root/.cache/pip/wheels/f7/2e/58/ac459d1adbd74ae21b5aa3a8ef20f2c7c0631978f7a4999009\u001b[0m\n",
      "\u001b[34mSuccessfully built nltk train regex\u001b[0m\n",
      "\u001b[34mInstalling collected packages: pytz, numpy, pandas, joblib, regex, tqdm, nltk, soupsieve, beautifulsoup4, webencodings, html5lib, train\n",
      "  Found existing installation: numpy 1.15.4\n",
      "    Uninstalling numpy-1.15.4:\u001b[0m\n",
      "\u001b[34m      Successfully uninstalled numpy-1.15.4\u001b[0m\n",
      "\u001b[34mSuccessfully installed beautifulsoup4-4.9.3 html5lib-1.1 joblib-0.14.1 nltk-3.5 numpy-1.18.5 pandas-0.24.2 pytz-2021.1 regex-2021.3.17 soupsieve-2.1 tqdm-4.59.0 train-1.0.0 webencodings-0.5.1\u001b[0m\n",
      "\u001b[34mYou are using pip version 18.1, however version 20.3.4 is available.\u001b[0m\n",
      "\u001b[34mYou should consider upgrading via the 'pip install --upgrade pip' command.\u001b[0m\n",
      "\u001b[34m2021-03-30 16:51:33,829 sagemaker-containers INFO     Invoking user script\n",
      "\u001b[0m\n",
      "\u001b[34mTraining Env:\n",
      "\u001b[0m\n",
      "\u001b[34m{\n",
      "    \"log_level\": 20,\n",
      "    \"module_name\": \"train\",\n",
      "    \"resource_config\": {\n",
      "        \"network_interface_name\": \"eth0\",\n",
      "        \"current_host\": \"algo-1\",\n",
      "        \"hosts\": [\n",
      "            \"algo-1\"\n",
      "        ]\n",
      "    },\n",
      "    \"module_dir\": \"s3://sagemaker-us-east-1-230110334371/sagemaker-pytorch-2021-03-30-16-47-23-305/source/sourcedir.tar.gz\",\n",
      "    \"num_cpus\": 4,\n",
      "    \"network_interface_name\": \"eth0\",\n",
      "    \"framework_module\": \"sagemaker_pytorch_container.training:main\",\n",
      "    \"output_dir\": \"/opt/ml/output\",\n",
      "    \"additional_framework_parameters\": {},\n",
      "    \"hosts\": [\n",
      "        \"algo-1\"\n",
      "    ],\n",
      "    \"input_config_dir\": \"/opt/ml/input/config\",\n",
      "    \"num_gpus\": 1,\n",
      "    \"user_entry_point\": \"train.py\",\n",
      "    \"channel_input_dirs\": {\n",
      "        \"training\": \"/opt/ml/input/data/training\"\n",
      "    },\n",
      "    \"model_dir\": \"/opt/ml/model\",\n",
      "    \"input_data_config\": {\n",
      "        \"training\": {\n",
      "            \"RecordWrapperType\": \"None\",\n",
      "            \"S3DistributionType\": \"FullyReplicated\",\n",
      "            \"TrainingInputMode\": \"File\"\n",
      "        }\n",
      "    },\n",
      "    \"output_intermediate_dir\": \"/opt/ml/output/intermediate\",\n",
      "    \"current_host\": \"algo-1\",\n",
      "    \"output_data_dir\": \"/opt/ml/output/data\",\n",
      "    \"input_dir\": \"/opt/ml/input\",\n",
      "    \"hyperparameters\": {\n",
      "        \"hidden_dim\": 200,\n",
      "        \"epochs\": 10\n",
      "    },\n",
      "    \"job_name\": \"sagemaker-pytorch-2021-03-30-16-47-23-305\"\u001b[0m\n",
      "\u001b[34m}\n",
      "\u001b[0m\n",
      "\u001b[34mEnvironment variables:\n",
      "\u001b[0m\n",
      "\u001b[34mSM_INPUT_DATA_CONFIG={\"training\":{\"RecordWrapperType\":\"None\",\"S3DistributionType\":\"FullyReplicated\",\"TrainingInputMode\":\"File\"}}\u001b[0m\n",
      "\u001b[34mSM_USER_ARGS=[\"--epochs\",\"10\",\"--hidden_dim\",\"200\"]\u001b[0m\n",
      "\u001b[34mSM_FRAMEWORK_PARAMS={}\u001b[0m\n",
      "\u001b[34mSM_CHANNEL_TRAINING=/opt/ml/input/data/training\u001b[0m\n",
      "\u001b[34mSM_NUM_GPUS=1\u001b[0m\n",
      "\u001b[34mPYTHONPATH=/usr/local/bin:/usr/lib/python35.zip:/usr/lib/python3.5:/usr/lib/python3.5/plat-x86_64-linux-gnu:/usr/lib/python3.5/lib-dynload:/usr/local/lib/python3.5/dist-packages:/usr/lib/python3/dist-packages\u001b[0m\n",
      "\u001b[34mSM_HP_EPOCHS=10\u001b[0m\n",
      "\u001b[34mSM_LOG_LEVEL=20\u001b[0m\n",
      "\u001b[34mSM_HPS={\"epochs\":10,\"hidden_dim\":200}\u001b[0m\n",
      "\u001b[34mSM_OUTPUT_INTERMEDIATE_DIR=/opt/ml/output/intermediate\u001b[0m\n",
      "\u001b[34mSM_OUTPUT_DIR=/opt/ml/output\u001b[0m\n",
      "\u001b[34mSM_USER_ENTRY_POINT=train.py\u001b[0m\n",
      "\u001b[34mSM_INPUT_DIR=/opt/ml/input\u001b[0m\n",
      "\u001b[34mSM_MODULE_NAME=train\u001b[0m\n",
      "\u001b[34mSM_MODEL_DIR=/opt/ml/model\u001b[0m\n",
      "\u001b[34mSM_HOSTS=[\"algo-1\"]\u001b[0m\n",
      "\u001b[34mSM_CURRENT_HOST=algo-1\u001b[0m\n",
      "\u001b[34mSM_NUM_CPUS=4\u001b[0m\n",
      "\u001b[34mSM_NETWORK_INTERFACE_NAME=eth0\u001b[0m\n",
      "\u001b[34mSM_TRAINING_ENV={\"additional_framework_parameters\":{},\"channel_input_dirs\":{\"training\":\"/opt/ml/input/data/training\"},\"current_host\":\"algo-1\",\"framework_module\":\"sagemaker_pytorch_container.training:main\",\"hosts\":[\"algo-1\"],\"hyperparameters\":{\"epochs\":10,\"hidden_dim\":200},\"input_config_dir\":\"/opt/ml/input/config\",\"input_data_config\":{\"training\":{\"RecordWrapperType\":\"None\",\"S3DistributionType\":\"FullyReplicated\",\"TrainingInputMode\":\"File\"}},\"input_dir\":\"/opt/ml/input\",\"job_name\":\"sagemaker-pytorch-2021-03-30-16-47-23-305\",\"log_level\":20,\"model_dir\":\"/opt/ml/model\",\"module_dir\":\"s3://sagemaker-us-east-1-230110334371/sagemaker-pytorch-2021-03-30-16-47-23-305/source/sourcedir.tar.gz\",\"module_name\":\"train\",\"network_interface_name\":\"eth0\",\"num_cpus\":4,\"num_gpus\":1,\"output_data_dir\":\"/opt/ml/output/data\",\"output_dir\":\"/opt/ml/output\",\"output_intermediate_dir\":\"/opt/ml/output/intermediate\",\"resource_config\":{\"current_host\":\"algo-1\",\"hosts\":[\"algo-1\"],\"network_interface_name\":\"eth0\"},\"user_entry_point\":\"train.py\"}\u001b[0m\n",
      "\u001b[34mSM_FRAMEWORK_MODULE=sagemaker_pytorch_container.training:main\u001b[0m\n",
      "\u001b[34mSM_OUTPUT_DATA_DIR=/opt/ml/output/data\u001b[0m\n",
      "\u001b[34mSM_INPUT_CONFIG_DIR=/opt/ml/input/config\u001b[0m\n",
      "\u001b[34mSM_HP_HIDDEN_DIM=200\u001b[0m\n",
      "\u001b[34mSM_RESOURCE_CONFIG={\"current_host\":\"algo-1\",\"hosts\":[\"algo-1\"],\"network_interface_name\":\"eth0\"}\u001b[0m\n",
      "\u001b[34mSM_CHANNELS=[\"training\"]\u001b[0m\n",
      "\u001b[34mSM_MODULE_DIR=s3://sagemaker-us-east-1-230110334371/sagemaker-pytorch-2021-03-30-16-47-23-305/source/sourcedir.tar.gz\n",
      "\u001b[0m\n",
      "\u001b[34mInvoking script with the following command:\n",
      "\u001b[0m\n",
      "\u001b[34m/usr/bin/python -m train --epochs 10 --hidden_dim 200\n",
      "\n",
      "\u001b[0m\n",
      "\u001b[34mUsing device cuda.\u001b[0m\n",
      "\u001b[34mGet train data loader.\u001b[0m\n"
     ]
    },
    {
     "name": "stdout",
     "output_type": "stream",
     "text": [
      "\u001b[34mModel loaded with embedding_dim 32, hidden_dim 200, vocab_size 5000.\u001b[0m\n",
      "\u001b[34mEpoch: 1, BCELoss: 0.6749314690122798\u001b[0m\n",
      "\u001b[34mEpoch: 2, BCELoss: 0.621222761212563\u001b[0m\n",
      "\u001b[34mEpoch: 3, BCELoss: 0.5539654353443457\u001b[0m\n",
      "\u001b[34mEpoch: 4, BCELoss: 0.4594755939074925\u001b[0m\n",
      "\u001b[34mEpoch: 5, BCELoss: 0.41402899610752963\u001b[0m\n",
      "\u001b[34mEpoch: 6, BCELoss: 0.3690565964397119\u001b[0m\n",
      "\u001b[34mEpoch: 7, BCELoss: 0.3387418948874182\u001b[0m\n",
      "\u001b[34mEpoch: 8, BCELoss: 0.31757550519339894\u001b[0m\n",
      "\u001b[34mEpoch: 9, BCELoss: 0.301320485922755\u001b[0m\n",
      "\u001b[34mEpoch: 10, BCELoss: 0.27073452119924585\u001b[0m\n",
      "\u001b[34m2021-03-30 16:54:31,434 sagemaker-containers INFO     Reporting training SUCCESS\u001b[0m\n",
      "\n",
      "2021-03-30 16:54:43 Uploading - Uploading generated training model\n",
      "2021-03-30 16:54:43 Completed - Training job completed\n",
      "Training seconds: 283\n",
      "Billable seconds: 283\n"
     ]
    }
   ],
   "source": [
    "estimator.fit({'training': input_data})"
   ]
  },
  {
   "cell_type": "markdown",
   "metadata": {},
   "source": [
    "estimator = sagemaker.estimator.Estimator.attach('sagemaker-pytorch-2021-03-21-02-29-35-805')"
   ]
  },
  {
   "cell_type": "markdown",
   "metadata": {},
   "source": [
    "## Step 5: Testing the model\n",
    "\n",
    "As mentioned at the top of this notebook, we will be testing this model by first deploying it and then sending the testing data to the deployed endpoint. We will do this so that we can make sure that the deployed model is working correctly.\n",
    "\n",
    "## Step 6: Deploy the model for testing\n",
    "\n",
    "Now that we have trained our model, we would like to test it to see how it performs. Currently our model takes input of the form `review_length, review[500]` where `review[500]` is a sequence of `500` integers which describe the words present in the review, encoded using `word_dict`. Fortunately for us, SageMaker provides built-in inference code for models with simple inputs such as this.\n",
    "\n",
    "There is one thing that we need to provide, however, and that is a function which loads the saved model. This function must be called `model_fn()` and takes as its only parameter a path to the directory where the model artifacts are stored. This function must also be present in the python file which we specified as the entry point. In our case the model loading function has been provided and so no changes need to be made.\n",
    "\n",
    "**NOTE**: When the built-in inference code is run it must import the `model_fn()` method from the `train.py` file. This is why the training code is wrapped in a main guard ( ie, `if __name__ == '__main__':` )\n",
    "\n",
    "Since we don't need to change anything in the code that was uploaded during training, we can simply deploy the current model as-is.\n",
    "\n",
    "**NOTE:** When deploying a model you are asking SageMaker to launch an compute instance that will wait for data to be sent to it. As a result, this compute instance will continue to run until *you* shut it down. This is important to know since the cost of a deployed endpoint depends on how long it has been running for.\n",
    "\n",
    "In other words **If you are no longer using a deployed endpoint, shut it down!**\n",
    "\n",
    "**TODO:** Deploy the trained model."
   ]
  },
  {
   "cell_type": "code",
   "execution_count": 33,
   "metadata": {},
   "outputs": [
    {
     "name": "stderr",
     "output_type": "stream",
     "text": [
      "Parameter image will be renamed to image_uri in SageMaker Python SDK v2.\n",
      "'create_image_uri' will be deprecated in favor of 'ImageURIProvider' class in SageMaker Python SDK v2.\n"
     ]
    },
    {
     "name": "stdout",
     "output_type": "stream",
     "text": [
      "---------------!"
     ]
    }
   ],
   "source": [
    "# TODO: Deploy the trained model\n",
    "rnn_predictor = estimator.deploy(initial_instance_count = 1, instance_type ='ml.m4.xlarge')"
   ]
  },
  {
   "cell_type": "markdown",
   "metadata": {},
   "source": [
    "## Step 7 - Use the model for testing\n",
    "\n",
    "Once deployed, we can read in the test data and send it off to our deployed model to get some results. Once we collect all of the results we can determine how accurate our model is."
   ]
  },
  {
   "cell_type": "code",
   "execution_count": 34,
   "metadata": {},
   "outputs": [],
   "source": [
    "test_X = pd.concat([pd.DataFrame(test_X_len), pd.DataFrame(test_X)], axis=1)"
   ]
  },
  {
   "cell_type": "code",
   "execution_count": 35,
   "metadata": {},
   "outputs": [],
   "source": [
    "# We split the data into chunks and send each chunk seperately, accumulating the results.\n",
    "\n",
    "def predict(data, rows=512):\n",
    "    split_array = np.array_split(data, int(data.shape[0] / float(rows) + 1))\n",
    "    predictions = np.array([])\n",
    "    for array in split_array:\n",
    "        predictions = np.append(predictions, rnn_predictor.predict(array))\n",
    "    \n",
    "    return predictions"
   ]
  },
  {
   "cell_type": "code",
   "execution_count": 36,
   "metadata": {},
   "outputs": [],
   "source": [
    "predictions = predict(test_X.values)\n",
    "predictions = [round(num) for num in predictions]"
   ]
  },
  {
   "cell_type": "code",
   "execution_count": 37,
   "metadata": {},
   "outputs": [
    {
     "data": {
      "text/plain": [
       "0.85836"
      ]
     },
     "execution_count": 37,
     "metadata": {},
     "output_type": "execute_result"
    }
   ],
   "source": [
    "from sklearn.metrics import accuracy_score\n",
    "accuracy_score(test_y, predictions)"
   ]
  },
  {
   "cell_type": "markdown",
   "metadata": {},
   "source": [
    "**Question:** How does this model compare to the XGBoost model you created earlier? Why might these two models perform differently on this dataset? Which do *you* think is better for sentiment analysis?"
   ]
  },
  {
   "cell_type": "markdown",
   "metadata": {},
   "source": [
    "**Answer:** XGBoost had 0.86884 accuracy_score. The RNN model may have performed worse than the XGBoost because we only use 10 epochs. Theoretically the RNN model should have a better result in the classification of texts due to the recursive process, which considers not only the frequency of the words but also the sequence in which they appear, ie it is possible to capture a little of the context of the messages with the RNN while using tree methods like XGBoost we look only at the frequency of occurrence of each word "
   ]
  },
  {
   "cell_type": "markdown",
   "metadata": {},
   "source": [
    "### (TODO) More testing\n",
    "\n",
    "We now have a trained model which has been deployed and which we can send processed reviews to and which returns the predicted sentiment. However, ultimately we would like to be able to send our model an unprocessed review. That is, we would like to send the review itself as a string. For example, suppose we wish to send the following review to our model."
   ]
  },
  {
   "cell_type": "code",
   "execution_count": 38,
   "metadata": {},
   "outputs": [],
   "source": [
    "test_review = 'The simplest pleasures in life are the best, and this film is one of them. Combining a rather basic storyline of love and adventure this movie transcends the usual weekend fair with wit and unmitigated charm.'"
   ]
  },
  {
   "cell_type": "markdown",
   "metadata": {},
   "source": [
    "The question we now need to answer is, how do we send this review to our model?\n",
    "\n",
    "Recall in the first section of this notebook we did a bunch of data processing to the IMDb dataset. In particular, we did two specific things to the provided reviews.\n",
    " - Removed any html tags and stemmed the input\n",
    " - Encoded the review as a sequence of integers using `word_dict`\n",
    " \n",
    "In order process the review we will need to repeat these two steps.\n",
    "\n",
    "**TODO**: Using the `review_to_words` and `convert_and_pad` methods from section one, convert `test_review` into a numpy array `test_data` suitable to send to our model. Remember that our model expects input of the form `review_length, review[500]`."
   ]
  },
  {
   "cell_type": "code",
   "execution_count": 39,
   "metadata": {},
   "outputs": [],
   "source": [
    "# TODO: Convert test_review into a form usable by the model and save the results in test_data\n",
    "test_data = convert_and_pad(word_dict,review_to_words(test_review))"
   ]
  },
  {
   "cell_type": "markdown",
   "metadata": {},
   "source": [
    "Now that we have processed the review, we can send the resulting array to our model to predict the sentiment of the review."
   ]
  },
  {
   "cell_type": "code",
   "execution_count": 40,
   "metadata": {},
   "outputs": [
    {
     "data": {
      "text/plain": [
       "(500,)"
      ]
     },
     "execution_count": 40,
     "metadata": {},
     "output_type": "execute_result"
    }
   ],
   "source": [
    "np.array(test_data[0]).shape"
   ]
  },
  {
   "cell_type": "code",
   "execution_count": 41,
   "metadata": {},
   "outputs": [],
   "source": [
    "test_data, leng  = convert_and_pad(word_dict, review_to_words(test_review))\n",
    "len_test_data =[np.array([leng] + test_data)]"
   ]
  },
  {
   "cell_type": "code",
   "execution_count": 42,
   "metadata": {},
   "outputs": [
    {
     "data": {
      "text/plain": [
       "array(0.93585974, dtype=float32)"
      ]
     },
     "execution_count": 42,
     "metadata": {},
     "output_type": "execute_result"
    }
   ],
   "source": [
    "rnn_predictor.predict(len_test_data)"
   ]
  },
  {
   "cell_type": "markdown",
   "metadata": {},
   "source": [
    "Since the return value of our model is close to `1`, we can be certain that the review we submitted is positive."
   ]
  },
  {
   "cell_type": "markdown",
   "metadata": {},
   "source": [
    "### Delete the endpoint\n",
    "\n",
    "Of course, just like in the XGBoost notebook, once we've deployed an endpoint it continues to run until we tell it to shut down. Since we are done using our endpoint for now, we can delete it."
   ]
  },
  {
   "cell_type": "code",
   "execution_count": 43,
   "metadata": {},
   "outputs": [],
   "source": [
    "rnn_predictor.delete_endpoint()"
   ]
  },
  {
   "cell_type": "markdown",
   "metadata": {},
   "source": [
    "## Step 6 (again) - Deploy the model for the web app\n",
    "\n",
    "Now that we know that our model is working, it's time to create some custom inference code so that we can send the model a review which has not been processed and have it determine the sentiment of the review.\n",
    "\n",
    "As we saw above, by default the estimator which we created, when deployed, will use the entry script and directory which we provided when creating the model. However, since we now wish to accept a string as input and our model expects a processed review, we need to write some custom inference code.\n",
    "\n",
    "We will store the code that we write in the `serve` directory. Provided in this directory is the `model.py` file that we used to construct our model, a `utils.py` file which contains the `review_to_words` and `convert_and_pad` pre-processing functions which we used during the initial data processing, and `predict.py`, the file which will contain our custom inference code. Note also that `requirements.txt` is present which will tell SageMaker what Python libraries are required by our custom inference code.\n",
    "\n",
    "When deploying a PyTorch model in SageMaker, you are expected to provide four functions which the SageMaker inference container will use.\n",
    " - `model_fn`: This function is the same function that we used in the training script and it tells SageMaker how to load our model.\n",
    " - `input_fn`: This function receives the raw serialized input that has been sent to the model's endpoint and its job is to de-serialize and make the input available for the inference code.\n",
    " - `output_fn`: This function takes the output of the inference code and its job is to serialize this output and return it to the caller of the model's endpoint.\n",
    " - `predict_fn`: The heart of the inference script, this is where the actual prediction is done and is the function which you will need to complete.\n",
    "\n",
    "For the simple website that we are constructing during this project, the `input_fn` and `output_fn` methods are relatively straightforward. We only require being able to accept a string as input and we expect to return a single value as output. You might imagine though that in a more complex application the input or output may be image data or some other binary data which would require some effort to serialize.\n",
    "\n",
    "### (TODO) Writing inference code\n",
    "\n",
    "Before writing our custom inference code, we will begin by taking a look at the code which has been provided."
   ]
  },
  {
   "cell_type": "code",
   "execution_count": 44,
   "metadata": {},
   "outputs": [
    {
     "name": "stdout",
     "output_type": "stream",
     "text": [
      "\u001b[34mimport\u001b[39;49;00m \u001b[04m\u001b[36margparse\u001b[39;49;00m\r\n",
      "\u001b[34mimport\u001b[39;49;00m \u001b[04m\u001b[36mjson\u001b[39;49;00m\r\n",
      "\u001b[34mimport\u001b[39;49;00m \u001b[04m\u001b[36mos\u001b[39;49;00m\r\n",
      "\u001b[34mimport\u001b[39;49;00m \u001b[04m\u001b[36mpickle\u001b[39;49;00m\r\n",
      "\u001b[34mimport\u001b[39;49;00m \u001b[04m\u001b[36msys\u001b[39;49;00m\r\n",
      "\u001b[34mimport\u001b[39;49;00m \u001b[04m\u001b[36msagemaker_containers\u001b[39;49;00m\r\n",
      "\u001b[34mimport\u001b[39;49;00m \u001b[04m\u001b[36mpandas\u001b[39;49;00m \u001b[34mas\u001b[39;49;00m \u001b[04m\u001b[36mpd\u001b[39;49;00m\r\n",
      "\u001b[34mimport\u001b[39;49;00m \u001b[04m\u001b[36mnumpy\u001b[39;49;00m \u001b[34mas\u001b[39;49;00m \u001b[04m\u001b[36mnp\u001b[39;49;00m\r\n",
      "\u001b[34mimport\u001b[39;49;00m \u001b[04m\u001b[36mtorch\u001b[39;49;00m\r\n",
      "\u001b[34mimport\u001b[39;49;00m \u001b[04m\u001b[36mtorch\u001b[39;49;00m\u001b[04m\u001b[36m.\u001b[39;49;00m\u001b[04m\u001b[36mnn\u001b[39;49;00m \u001b[34mas\u001b[39;49;00m \u001b[04m\u001b[36mnn\u001b[39;49;00m\r\n",
      "\u001b[34mimport\u001b[39;49;00m \u001b[04m\u001b[36mtorch\u001b[39;49;00m\u001b[04m\u001b[36m.\u001b[39;49;00m\u001b[04m\u001b[36moptim\u001b[39;49;00m \u001b[34mas\u001b[39;49;00m \u001b[04m\u001b[36moptim\u001b[39;49;00m\r\n",
      "\u001b[34mimport\u001b[39;49;00m \u001b[04m\u001b[36mtorch\u001b[39;49;00m\u001b[04m\u001b[36m.\u001b[39;49;00m\u001b[04m\u001b[36mutils\u001b[39;49;00m\u001b[04m\u001b[36m.\u001b[39;49;00m\u001b[04m\u001b[36mdata\u001b[39;49;00m\r\n",
      "\r\n",
      "\u001b[34mfrom\u001b[39;49;00m \u001b[04m\u001b[36mmodel\u001b[39;49;00m \u001b[34mimport\u001b[39;49;00m LSTMClassifier\r\n",
      "\r\n",
      "\u001b[34mfrom\u001b[39;49;00m \u001b[04m\u001b[36mutils\u001b[39;49;00m \u001b[34mimport\u001b[39;49;00m review_to_words, convert_and_pad\r\n",
      "\r\n",
      "\u001b[34mdef\u001b[39;49;00m \u001b[32mmodel_fn\u001b[39;49;00m(model_dir):\r\n",
      "    \u001b[33m\"\"\"Load the PyTorch model from the `model_dir` directory.\"\"\"\u001b[39;49;00m\r\n",
      "    \u001b[36mprint\u001b[39;49;00m(\u001b[33m\"\u001b[39;49;00m\u001b[33mLoading model.\u001b[39;49;00m\u001b[33m\"\u001b[39;49;00m)\r\n",
      "\r\n",
      "    \u001b[37m# First, load the parameters used to create the model.\u001b[39;49;00m\r\n",
      "    model_info = {}\r\n",
      "    model_info_path = os.path.join(model_dir, \u001b[33m'\u001b[39;49;00m\u001b[33mmodel_info.pth\u001b[39;49;00m\u001b[33m'\u001b[39;49;00m)\r\n",
      "    \u001b[34mwith\u001b[39;49;00m \u001b[36mopen\u001b[39;49;00m(model_info_path, \u001b[33m'\u001b[39;49;00m\u001b[33mrb\u001b[39;49;00m\u001b[33m'\u001b[39;49;00m) \u001b[34mas\u001b[39;49;00m f:\r\n",
      "        model_info = torch.load(f)\r\n",
      "\r\n",
      "    \u001b[36mprint\u001b[39;49;00m(\u001b[33m\"\u001b[39;49;00m\u001b[33mmodel_info: \u001b[39;49;00m\u001b[33m{}\u001b[39;49;00m\u001b[33m\"\u001b[39;49;00m.format(model_info))\r\n",
      "\r\n",
      "    \u001b[37m# Determine the device and construct the model.\u001b[39;49;00m\r\n",
      "    device = torch.device(\u001b[33m\"\u001b[39;49;00m\u001b[33mcuda\u001b[39;49;00m\u001b[33m\"\u001b[39;49;00m \u001b[34mif\u001b[39;49;00m torch.cuda.is_available() \u001b[34melse\u001b[39;49;00m \u001b[33m\"\u001b[39;49;00m\u001b[33mcpu\u001b[39;49;00m\u001b[33m\"\u001b[39;49;00m)\r\n",
      "    model = LSTMClassifier(model_info[\u001b[33m'\u001b[39;49;00m\u001b[33membedding_dim\u001b[39;49;00m\u001b[33m'\u001b[39;49;00m], model_info[\u001b[33m'\u001b[39;49;00m\u001b[33mhidden_dim\u001b[39;49;00m\u001b[33m'\u001b[39;49;00m], model_info[\u001b[33m'\u001b[39;49;00m\u001b[33mvocab_size\u001b[39;49;00m\u001b[33m'\u001b[39;49;00m])\r\n",
      "\r\n",
      "    \u001b[37m# Load the store model parameters.\u001b[39;49;00m\r\n",
      "    model_path = os.path.join(model_dir, \u001b[33m'\u001b[39;49;00m\u001b[33mmodel.pth\u001b[39;49;00m\u001b[33m'\u001b[39;49;00m)\r\n",
      "    \u001b[34mwith\u001b[39;49;00m \u001b[36mopen\u001b[39;49;00m(model_path, \u001b[33m'\u001b[39;49;00m\u001b[33mrb\u001b[39;49;00m\u001b[33m'\u001b[39;49;00m) \u001b[34mas\u001b[39;49;00m f:\r\n",
      "        model.load_state_dict(torch.load(f))\r\n",
      "\r\n",
      "    \u001b[37m# Load the saved word_dict.\u001b[39;49;00m\r\n",
      "    word_dict_path = os.path.join(model_dir, \u001b[33m'\u001b[39;49;00m\u001b[33mword_dict.pkl\u001b[39;49;00m\u001b[33m'\u001b[39;49;00m)\r\n",
      "    \u001b[34mwith\u001b[39;49;00m \u001b[36mopen\u001b[39;49;00m(word_dict_path, \u001b[33m'\u001b[39;49;00m\u001b[33mrb\u001b[39;49;00m\u001b[33m'\u001b[39;49;00m) \u001b[34mas\u001b[39;49;00m f:\r\n",
      "        model.word_dict = pickle.load(f)\r\n",
      "\r\n",
      "    model.to(device).eval()\r\n",
      "\r\n",
      "    \u001b[36mprint\u001b[39;49;00m(\u001b[33m\"\u001b[39;49;00m\u001b[33mDone loading model.\u001b[39;49;00m\u001b[33m\"\u001b[39;49;00m)\r\n",
      "    \u001b[34mreturn\u001b[39;49;00m model\r\n",
      "\r\n",
      "\u001b[34mdef\u001b[39;49;00m \u001b[32minput_fn\u001b[39;49;00m(serialized_input_data, content_type):\r\n",
      "    \u001b[36mprint\u001b[39;49;00m(\u001b[33m'\u001b[39;49;00m\u001b[33mDeserializing the input data.\u001b[39;49;00m\u001b[33m'\u001b[39;49;00m)\r\n",
      "    \u001b[34mif\u001b[39;49;00m content_type == \u001b[33m'\u001b[39;49;00m\u001b[33mtext/plain\u001b[39;49;00m\u001b[33m'\u001b[39;49;00m:\r\n",
      "        data = serialized_input_data.decode(\u001b[33m'\u001b[39;49;00m\u001b[33mutf-8\u001b[39;49;00m\u001b[33m'\u001b[39;49;00m)\r\n",
      "        \u001b[34mreturn\u001b[39;49;00m data\r\n",
      "    \u001b[34mraise\u001b[39;49;00m \u001b[36mException\u001b[39;49;00m(\u001b[33m'\u001b[39;49;00m\u001b[33mRequested unsupported ContentType in content_type: \u001b[39;49;00m\u001b[33m'\u001b[39;49;00m + content_type)\r\n",
      "\r\n",
      "\u001b[34mdef\u001b[39;49;00m \u001b[32moutput_fn\u001b[39;49;00m(prediction_output, accept):\r\n",
      "    \u001b[36mprint\u001b[39;49;00m(\u001b[33m'\u001b[39;49;00m\u001b[33mSerializing the generated output.\u001b[39;49;00m\u001b[33m'\u001b[39;49;00m)\r\n",
      "    \u001b[34mreturn\u001b[39;49;00m \u001b[36mstr\u001b[39;49;00m(prediction_output)\r\n",
      "\r\n",
      "\u001b[34mdef\u001b[39;49;00m \u001b[32mpredict_fn\u001b[39;49;00m(input_data, model):\r\n",
      "    \u001b[36mprint\u001b[39;49;00m(\u001b[33m'\u001b[39;49;00m\u001b[33mInferring sentiment of input data.\u001b[39;49;00m\u001b[33m'\u001b[39;49;00m)\r\n",
      "\r\n",
      "    device = torch.device(\u001b[33m\"\u001b[39;49;00m\u001b[33mcuda\u001b[39;49;00m\u001b[33m\"\u001b[39;49;00m \u001b[34mif\u001b[39;49;00m torch.cuda.is_available() \u001b[34melse\u001b[39;49;00m \u001b[33m\"\u001b[39;49;00m\u001b[33mcpu\u001b[39;49;00m\u001b[33m\"\u001b[39;49;00m)\r\n",
      "    \r\n",
      "    \u001b[34mif\u001b[39;49;00m model.word_dict \u001b[35mis\u001b[39;49;00m \u001b[34mNone\u001b[39;49;00m:\r\n",
      "        \u001b[34mraise\u001b[39;49;00m \u001b[36mException\u001b[39;49;00m(\u001b[33m'\u001b[39;49;00m\u001b[33mModel has not been loaded properly, no word_dict.\u001b[39;49;00m\u001b[33m'\u001b[39;49;00m)\r\n",
      "    \r\n",
      "    \u001b[37m# TODO: Process input_data so that it is ready to be sent to our model.\u001b[39;49;00m\r\n",
      "    \u001b[37m#       You should produce two variables:\u001b[39;49;00m\r\n",
      "    \u001b[37m#         data_X   - A sequence of length 500 which represents the converted review\u001b[39;49;00m\r\n",
      "    \u001b[37m#         data_len - The length of the review\u001b[39;49;00m\r\n",
      "    \r\n",
      "    words = review_to_words(input_data)\r\n",
      "    data_X, data_len  = convert_and_pad(model.word_dict, words)\r\n",
      "    \r\n",
      "    \u001b[37m# Using data_X and data_len we construct an appropriate input tensor. Remember\u001b[39;49;00m\r\n",
      "    \u001b[37m# that our model expects input data of the form 'len, review[500]'.\u001b[39;49;00m\r\n",
      "    data_pack = np.hstack((data_len, data_X))\r\n",
      "    data_pack = data_pack.reshape(\u001b[34m1\u001b[39;49;00m, -\u001b[34m1\u001b[39;49;00m)\r\n",
      "    \r\n",
      "    data = torch.from_numpy(data_pack)\r\n",
      "    data = data.to(device)\r\n",
      "\r\n",
      "    \u001b[37m# Make sure to put the model into evaluation mode\u001b[39;49;00m\r\n",
      "    model.eval()\r\n",
      "\r\n",
      "    \u001b[37m# TODO: Compute the result of applying the model to the input data. The variable `result` should\u001b[39;49;00m\r\n",
      "    \u001b[37m#       be a numpy array which contains a single integer which is either 1 or 0\u001b[39;49;00m\r\n",
      "\r\n",
      "    \u001b[34mwith\u001b[39;49;00m torch.no_grad():\r\n",
      "        output = model(data)\r\n",
      "    result = np.round(output.numpy())\r\n",
      "\r\n",
      "    \u001b[34mreturn\u001b[39;49;00m result\r\n"
     ]
    }
   ],
   "source": [
    "!pygmentize serve/predict.py"
   ]
  },
  {
   "cell_type": "markdown",
   "metadata": {},
   "source": [
    "As mentioned earlier, the `model_fn` method is the same as the one provided in the training code and the `input_fn` and `output_fn` methods are very simple and your task will be to complete the `predict_fn` method. Make sure that you save the completed file as `predict.py` in the `serve` directory.\n",
    "\n",
    "**TODO**: Complete the `predict_fn()` method in the `serve/predict.py` file."
   ]
  },
  {
   "cell_type": "markdown",
   "metadata": {},
   "source": [
    "### Deploying the model\n",
    "\n",
    "Now that the custom inference code has been written, we will create and deploy our model. To begin with, we need to construct a new PyTorchModel object which points to the model artifacts created during training and also points to the inference code that we wish to use. Then we can call the deploy method to launch the deployment container.\n",
    "\n",
    "**NOTE**: The default behaviour for a deployed PyTorch model is to assume that any input passed to the predictor is a `numpy` array. In our case we want to send a string so we need to construct a simple wrapper around the `RealTimePredictor` class to accomodate simple strings. In a more complicated situation you may want to provide a serialization object, for example if you wanted to sent image data."
   ]
  },
  {
   "cell_type": "code",
   "execution_count": 45,
   "metadata": {},
   "outputs": [
    {
     "data": {
      "text/plain": [
       "'s3://sagemaker-us-east-1-230110334371/sagemaker-pytorch-2021-03-30-16-47-23-305/output/model.tar.gz'"
      ]
     },
     "execution_count": 45,
     "metadata": {},
     "output_type": "execute_result"
    }
   ],
   "source": [
    "estimator.model_data"
   ]
  },
  {
   "cell_type": "code",
   "execution_count": 46,
   "metadata": {},
   "outputs": [
    {
     "name": "stderr",
     "output_type": "stream",
     "text": [
      "Parameter image will be renamed to image_uri in SageMaker Python SDK v2.\n",
      "'create_image_uri' will be deprecated in favor of 'ImageURIProvider' class in SageMaker Python SDK v2.\n"
     ]
    },
    {
     "name": "stdout",
     "output_type": "stream",
     "text": [
      "-------------------!"
     ]
    }
   ],
   "source": [
    "from sagemaker.predictor import RealTimePredictor\n",
    "from sagemaker.pytorch import PyTorchModel\n",
    "\n",
    "class StringPredictor(RealTimePredictor):\n",
    "    def __init__(self, endpoint_name, sagemaker_session):\n",
    "        super(StringPredictor, self).__init__(endpoint_name, sagemaker_session, content_type='text/plain')\n",
    "\n",
    "model = PyTorchModel(model_data=estimator.model_data,\n",
    "                     role = role,\n",
    "                     framework_version='0.4.0',\n",
    "                     entry_point='predict.py',\n",
    "                     source_dir='serve',\n",
    "                     predictor_cls=StringPredictor)\n",
    "\n",
    "predictor = model.deploy(initial_instance_count=1, instance_type='ml.m4.xlarge')"
   ]
  },
  {
   "cell_type": "markdown",
   "metadata": {},
   "source": [
    "### Testing the model\n",
    "\n",
    "Now that we have deployed our model with the custom inference code, we should test to see if everything is working. Here we test our model by loading the first `250` positive and negative reviews and send them to the endpoint, then collect the results. The reason for only sending some of the data is that the amount of time it takes for our model to process the input and then perform inference is quite long and so testing the entire data set would be prohibitive."
   ]
  },
  {
   "cell_type": "code",
   "execution_count": 47,
   "metadata": {},
   "outputs": [],
   "source": [
    "import glob\n",
    "\n",
    "def test_reviews(data_dir='../data/aclImdb', stop=250):\n",
    "    \n",
    "    results = []\n",
    "    ground = []\n",
    "    \n",
    "    # We make sure to test both positive and negative reviews    \n",
    "    for sentiment in ['pos', 'neg']:\n",
    "        \n",
    "        path = os.path.join(data_dir, 'test', sentiment, '*.txt')\n",
    "        files = glob.glob(path)\n",
    "        \n",
    "        files_read = 0\n",
    "        \n",
    "        print('Starting ', sentiment, ' files')\n",
    "        \n",
    "        # Iterate through the files and send them to the predictor\n",
    "        for f in files:\n",
    "            with open(f) as review:\n",
    "                # First, we store the ground truth (was the review positive or negative)\n",
    "                if sentiment == 'pos':\n",
    "                    ground.append(1)\n",
    "                else:\n",
    "                    ground.append(0)\n",
    "                # Read in the review and convert to 'utf-8' for transmission via HTTP\n",
    "                review_input = review.read().encode('utf-8')\n",
    "                # Send the review to the predictor and store the results\n",
    "                results.append(float(predictor.predict(review_input)))\n",
    "                \n",
    "            # Sending reviews to our endpoint one at a time takes a while so we\n",
    "            # only send a small number of reviews\n",
    "            files_read += 1\n",
    "            if files_read == stop:\n",
    "                break\n",
    "            \n",
    "    return ground, results"
   ]
  },
  {
   "cell_type": "code",
   "execution_count": 48,
   "metadata": {},
   "outputs": [
    {
     "name": "stdout",
     "output_type": "stream",
     "text": [
      "Starting  pos  files\n",
      "Starting  neg  files\n"
     ]
    }
   ],
   "source": [
    "ground, results = test_reviews()"
   ]
  },
  {
   "cell_type": "code",
   "execution_count": 49,
   "metadata": {},
   "outputs": [
    {
     "data": {
      "text/plain": [
       "0.86"
      ]
     },
     "execution_count": 49,
     "metadata": {},
     "output_type": "execute_result"
    }
   ],
   "source": [
    "from sklearn.metrics import accuracy_score\n",
    "accuracy_score(ground, results)"
   ]
  },
  {
   "cell_type": "markdown",
   "metadata": {},
   "source": [
    "As an additional test, we can try sending the `test_review` that we looked at earlier."
   ]
  },
  {
   "cell_type": "code",
   "execution_count": 50,
   "metadata": {},
   "outputs": [
    {
     "data": {
      "text/plain": [
       "b'1.0'"
      ]
     },
     "execution_count": 50,
     "metadata": {},
     "output_type": "execute_result"
    }
   ],
   "source": [
    "predictor.predict(test_review)"
   ]
  },
  {
   "cell_type": "markdown",
   "metadata": {},
   "source": [
    "Now that we know our endpoint is working as expected, we can set up the web page that will interact with it. If you don't have time to finish the project now, make sure to skip down to the end of this notebook and shut down your endpoint. You can deploy it again when you come back."
   ]
  },
  {
   "cell_type": "markdown",
   "metadata": {},
   "source": [
    "## Step 7 (again): Use the model for the web app\n",
    "\n",
    "> **TODO:** This entire section and the next contain tasks for you to complete, mostly using the AWS console.\n",
    "\n",
    "So far we have been accessing our model endpoint by constructing a predictor object which uses the endpoint and then just using the predictor object to perform inference. What if we wanted to create a web app which accessed our model? The way things are set up currently makes that not possible since in order to access a SageMaker endpoint the app would first have to authenticate with AWS using an IAM role which included access to SageMaker endpoints. However, there is an easier way! We just need to use some additional AWS services.\n",
    "\n",
    "<img src=\"Web App Diagram.svg\">\n",
    "\n",
    "The diagram above gives an overview of how the various services will work together. On the far right is the model which we trained above and which is deployed using SageMaker. On the far left is our web app that collects a user's movie review, sends it off and expects a positive or negative sentiment in return.\n",
    "\n",
    "In the middle is where some of the magic happens. We will construct a Lambda function, which you can think of as a straightforward Python function that can be executed whenever a specified event occurs. We will give this function permission to send and recieve data from a SageMaker endpoint.\n",
    "\n",
    "Lastly, the method we will use to execute the Lambda function is a new endpoint that we will create using API Gateway. This endpoint will be a url that listens for data to be sent to it. Once it gets some data it will pass that data on to the Lambda function and then return whatever the Lambda function returns. Essentially it will act as an interface that lets our web app communicate with the Lambda function.\n",
    "\n",
    "### Setting up a Lambda function\n",
    "\n",
    "The first thing we are going to do is set up a Lambda function. This Lambda function will be executed whenever our public API has data sent to it. When it is executed it will receive the data, perform any sort of processing that is required, send the data (the review) to the SageMaker endpoint we've created and then return the result.\n",
    "\n",
    "#### Part A: Create an IAM Role for the Lambda function\n",
    "\n",
    "Since we want the Lambda function to call a SageMaker endpoint, we need to make sure that it has permission to do so. To do this, we will construct a role that we can later give the Lambda function.\n",
    "\n",
    "Using the AWS Console, navigate to the **IAM** page and click on **Roles**. Then, click on **Create role**. Make sure that the **AWS service** is the type of trusted entity selected and choose **Lambda** as the service that will use this role, then click **Next: Permissions**.\n",
    "\n",
    "In the search box type `sagemaker` and select the check box next to the **AmazonSageMakerFullAccess** policy. Then, click on **Next: Review**.\n",
    "\n",
    "Lastly, give this role a name. Make sure you use a name that you will remember later on, for example `LambdaSageMakerRole`. Then, click on **Create role**.\n",
    "\n",
    "#### Part B: Create a Lambda function\n",
    "\n",
    "Now it is time to actually create the Lambda function.\n",
    "\n",
    "Using the AWS Console, navigate to the AWS Lambda page and click on **Create a function**. When you get to the next page, make sure that **Author from scratch** is selected. Now, name your Lambda function, using a name that you will remember later on, for example `sentiment_analysis_func`. Make sure that the **Python 3.6** runtime is selected and then choose the role that you created in the previous part. Then, click on **Create Function**.\n",
    "\n",
    "On the next page you will see some information about the Lambda function you've just created. If you scroll down you should see an editor in which you can write the code that will be executed when your Lambda function is triggered. In our example, we will use the code below. \n",
    "\n",
    "```python\n",
    "# We need to use the low-level library to interact with SageMaker since the SageMaker API\n",
    "# is not available natively through Lambda.\n",
    "import boto3\n",
    "\n",
    "def lambda_handler(event, context):\n",
    "\n",
    "    # The SageMaker runtime is what allows us to invoke the endpoint that we've created.\n",
    "    runtime = boto3.Session().client('sagemaker-runtime')\n",
    "\n",
    "    # Now we use the SageMaker runtime to invoke our endpoint, sending the review we were given\n",
    "    response = runtime.invoke_endpoint(EndpointName = '**ENDPOINT NAME HERE**',    # The name of the endpoint we created\n",
    "                                       ContentType = 'text/plain',                 # The data format that is expected\n",
    "                                       Body = event['body'])                       # The actual review\n",
    "\n",
    "    # The response is an HTTP response whose body contains the result of our inference\n",
    "    result = response['Body'].read().decode('utf-8')\n",
    "\n",
    "    return {\n",
    "        'statusCode' : 200,\n",
    "        'headers' : { 'Content-Type' : 'text/plain', 'Access-Control-Allow-Origin' : '*' },\n",
    "        'body' : result\n",
    "    }\n",
    "```\n",
    "\n",
    "Once you have copy and pasted the code above into the Lambda code editor, replace the `**ENDPOINT NAME HERE**` portion with the name of the endpoint that we deployed earlier. You can determine the name of the endpoint using the code cell below."
   ]
  },
  {
   "cell_type": "code",
   "execution_count": 51,
   "metadata": {},
   "outputs": [
    {
     "data": {
      "text/plain": [
       "'sagemaker-pytorch-2021-03-30-17-06-32-004'"
      ]
     },
     "execution_count": 51,
     "metadata": {},
     "output_type": "execute_result"
    }
   ],
   "source": [
    "predictor.endpoint"
   ]
  },
  {
   "cell_type": "markdown",
   "metadata": {},
   "source": [
    "Once you have added the endpoint name to the Lambda function, click on **Save**. Your Lambda function is now up and running. Next we need to create a way for our web app to execute the Lambda function.\n",
    "\n",
    "### Setting up API Gateway\n",
    "\n",
    "Now that our Lambda function is set up, it is time to create a new API using API Gateway that will trigger the Lambda function we have just created.\n",
    "\n",
    "Using AWS Console, navigate to **Amazon API Gateway** and then click on **Get started**.\n",
    "\n",
    "On the next page, make sure that **New API** is selected and give the new api a name, for example, `sentiment_analysis_api`. Then, click on **Create API**.\n",
    "\n",
    "Now we have created an API, however it doesn't currently do anything. What we want it to do is to trigger the Lambda function that we created earlier.\n",
    "\n",
    "Select the **Actions** dropdown menu and click **Create Method**. A new blank method will be created, select its dropdown menu and select **POST**, then click on the check mark beside it.\n",
    "\n",
    "For the integration point, make sure that **Lambda Function** is selected and click on the **Use Lambda Proxy integration**. This option makes sure that the data that is sent to the API is then sent directly to the Lambda function with no processing. It also means that the return value must be a proper response object as it will also not be processed by API Gateway.\n",
    "\n",
    "Type the name of the Lambda function you created earlier into the **Lambda Function** text entry box and then click on **Save**. Click on **OK** in the pop-up box that then appears, giving permission to API Gateway to invoke the Lambda function you created.\n",
    "\n",
    "The last step in creating the API Gateway is to select the **Actions** dropdown and click on **Deploy API**. You will need to create a new Deployment stage and name it anything you like, for example `prod`.\n",
    "\n",
    "You have now successfully set up a public API to access your SageMaker model. Make sure to copy or write down the URL provided to invoke your newly created public API as this will be needed in the next step. This URL can be found at the top of the page, highlighted in blue next to the text **Invoke URL**."
   ]
  },
  {
   "cell_type": "markdown",
   "metadata": {},
   "source": [
    "## Step 4: Deploying our web app\n",
    "\n",
    "Now that we have a publicly available API, we can start using it in a web app. For our purposes, we have provided a simple static html file which can make use of the public api you created earlier.\n",
    "\n",
    "In the `website` folder there should be a file called `index.html`. Download the file to your computer and open that file up in a text editor of your choice. There should be a line which contains **\\*\\*REPLACE WITH PUBLIC API URL\\*\\***. Replace this string with the url that you wrote down in the last step and then save the file.\n",
    "\n",
    "Now, if you open `index.html` on your local computer, your browser will behave as a local web server and you can use the provided site to interact with your SageMaker model.\n",
    "\n",
    "If you'd like to go further, you can host this html file anywhere you'd like, for example using github or hosting a static site on Amazon's S3. Once you have done this you can share the link with anyone you'd like and have them play with it too!\n",
    "\n",
    "> **Important Note** In order for the web app to communicate with the SageMaker endpoint, the endpoint has to actually be deployed and running. This means that you are paying for it. Make sure that the endpoint is running when you want to use the web app but that you shut it down when you don't need it, otherwise you will end up with a surprisingly large AWS bill.\n",
    "\n",
    "**TODO:** Make sure that you include the edited `index.html` file in your project submission."
   ]
  },
  {
   "cell_type": "markdown",
   "metadata": {},
   "source": [
    "Now that your web app is working, trying playing around with it and see how well it works.\n",
    "\n",
    "**Question**: Give an example of a review that you entered into your web app. What was the predicted sentiment of your example review?"
   ]
  },
  {
   "cell_type": "markdown",
   "metadata": {},
   "source": [
    "**Answer:** it is not a film for all tastes, however the story is very good, the actors are excellent and it is worth getting to know the author's work. The model predict it as POSITIVE."
   ]
  },
  {
   "cell_type": "markdown",
   "metadata": {},
   "source": [
    "### Delete the endpoint\n",
    "\n",
    "Remember to always shut down your endpoint if you are no longer using it. You are charged for the length of time that the endpoint is running so if you forget and leave it on you could end up with an unexpectedly large bill."
   ]
  },
  {
   "cell_type": "code",
   "execution_count": 52,
   "metadata": {},
   "outputs": [],
   "source": [
    "predictor.delete_endpoint()"
   ]
  },
  {
   "cell_type": "code",
   "execution_count": null,
   "metadata": {},
   "outputs": [],
   "source": []
  }
 ],
 "metadata": {
  "kernelspec": {
   "display_name": "conda_pytorch_p36",
   "language": "python",
   "name": "conda_pytorch_p36"
  },
  "language_info": {
   "codemirror_mode": {
    "name": "ipython",
    "version": 3
   },
   "file_extension": ".py",
   "mimetype": "text/x-python",
   "name": "python",
   "nbconvert_exporter": "python",
   "pygments_lexer": "ipython3",
   "version": "3.6.13"
  }
 },
 "nbformat": 4,
 "nbformat_minor": 4
}
